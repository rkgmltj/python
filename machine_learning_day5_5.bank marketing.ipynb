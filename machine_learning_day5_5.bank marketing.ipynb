{
 "cells": [
  {
   "cell_type": "markdown",
   "metadata": {},
   "source": [
    "- Bank Marketing - 포르투갈의 은행에서 고객에게 예금 상품을 전화 홍보, 결과를 예측\n",
    "- 3가지 클러스터링 방식으로 고객들을 클러스터링 하세요\n",
    "  - (K Means, 병합 군집, DBSCAN)\n",
    "      1. 문자를 숫자로 원핫 인코딩\n",
    "      1. 2차원으로 축소 PCA\n",
    "      1. K-Means(k선택), 병합군집(k선택), DBSCAN(eps거리 조절)\n",
    "      1. scatter 그래프로 시각화\n",
    "- 결정트리(교사학습)\n",
    "    1. 원핫 인코딩\n",
    "    1. X, Y 분리\n",
    "    1. 결정 트리 학습\n",
    "    1. 트리 그래프로 시각화"
   ]
  },
  {
   "cell_type": "code",
   "execution_count": 2,
   "metadata": {},
   "outputs": [],
   "source": [
    "import pandas as pd"
   ]
  },
  {
   "cell_type": "code",
   "execution_count": 6,
   "metadata": {},
   "outputs": [
    {
     "data": {
      "text/plain": [
       "(4521, 17)"
      ]
     },
     "execution_count": 6,
     "metadata": {},
     "output_type": "execute_result"
    }
   ],
   "source": [
    "df = pd.read_csv('bank.csv', sep=';')\n",
    "df.shape"
   ]
  },
  {
   "cell_type": "code",
   "execution_count": 7,
   "metadata": {},
   "outputs": [
    {
     "data": {
      "text/html": [
       "<div>\n",
       "<style scoped>\n",
       "    .dataframe tbody tr th:only-of-type {\n",
       "        vertical-align: middle;\n",
       "    }\n",
       "\n",
       "    .dataframe tbody tr th {\n",
       "        vertical-align: top;\n",
       "    }\n",
       "\n",
       "    .dataframe thead th {\n",
       "        text-align: right;\n",
       "    }\n",
       "</style>\n",
       "<table border=\"1\" class=\"dataframe\">\n",
       "  <thead>\n",
       "    <tr style=\"text-align: right;\">\n",
       "      <th></th>\n",
       "      <th>age</th>\n",
       "      <th>job</th>\n",
       "      <th>marital</th>\n",
       "      <th>education</th>\n",
       "      <th>default</th>\n",
       "      <th>balance</th>\n",
       "      <th>housing</th>\n",
       "      <th>loan</th>\n",
       "      <th>contact</th>\n",
       "      <th>day</th>\n",
       "      <th>month</th>\n",
       "      <th>duration</th>\n",
       "      <th>campaign</th>\n",
       "      <th>pdays</th>\n",
       "      <th>previous</th>\n",
       "      <th>poutcome</th>\n",
       "      <th>y</th>\n",
       "    </tr>\n",
       "  </thead>\n",
       "  <tbody>\n",
       "    <tr>\n",
       "      <th>0</th>\n",
       "      <td>30</td>\n",
       "      <td>unemployed</td>\n",
       "      <td>married</td>\n",
       "      <td>primary</td>\n",
       "      <td>no</td>\n",
       "      <td>1787</td>\n",
       "      <td>no</td>\n",
       "      <td>no</td>\n",
       "      <td>cellular</td>\n",
       "      <td>19</td>\n",
       "      <td>oct</td>\n",
       "      <td>79</td>\n",
       "      <td>1</td>\n",
       "      <td>-1</td>\n",
       "      <td>0</td>\n",
       "      <td>unknown</td>\n",
       "      <td>no</td>\n",
       "    </tr>\n",
       "    <tr>\n",
       "      <th>1</th>\n",
       "      <td>33</td>\n",
       "      <td>services</td>\n",
       "      <td>married</td>\n",
       "      <td>secondary</td>\n",
       "      <td>no</td>\n",
       "      <td>4789</td>\n",
       "      <td>yes</td>\n",
       "      <td>yes</td>\n",
       "      <td>cellular</td>\n",
       "      <td>11</td>\n",
       "      <td>may</td>\n",
       "      <td>220</td>\n",
       "      <td>1</td>\n",
       "      <td>339</td>\n",
       "      <td>4</td>\n",
       "      <td>failure</td>\n",
       "      <td>no</td>\n",
       "    </tr>\n",
       "  </tbody>\n",
       "</table>\n",
       "</div>"
      ],
      "text/plain": [
       "   age         job  marital  education default  balance housing loan  \\\n",
       "0   30  unemployed  married    primary      no     1787      no   no   \n",
       "1   33    services  married  secondary      no     4789     yes  yes   \n",
       "\n",
       "    contact  day month  duration  campaign  pdays  previous poutcome   y  \n",
       "0  cellular   19   oct        79         1     -1         0  unknown  no  \n",
       "1  cellular   11   may       220         1    339         4  failure  no  "
      ]
     },
     "execution_count": 7,
     "metadata": {},
     "output_type": "execute_result"
    }
   ],
   "source": [
    "df.head(2)"
   ]
  },
  {
   "cell_type": "code",
   "execution_count": 8,
   "metadata": {},
   "outputs": [
    {
     "data": {
      "text/plain": [
       "age           int64\n",
       "job          object\n",
       "marital      object\n",
       "education    object\n",
       "default      object\n",
       "balance       int64\n",
       "housing      object\n",
       "loan         object\n",
       "contact      object\n",
       "day           int64\n",
       "month        object\n",
       "duration      int64\n",
       "campaign      int64\n",
       "pdays         int64\n",
       "previous      int64\n",
       "poutcome     object\n",
       "y            object\n",
       "dtype: object"
      ]
     },
     "execution_count": 8,
     "metadata": {},
     "output_type": "execute_result"
    }
   ],
   "source": [
    "df.dtypes"
   ]
  },
  {
   "cell_type": "code",
   "execution_count": 11,
   "metadata": {},
   "outputs": [
    {
     "data": {
      "text/plain": [
       "0.11523999115239991"
      ]
     },
     "execution_count": 11,
     "metadata": {},
     "output_type": "execute_result"
    }
   ],
   "source": [
    "(df['y']=='yes').mean()"
   ]
  },
  {
   "cell_type": "code",
   "execution_count": 13,
   "metadata": {},
   "outputs": [
    {
     "data": {
      "text/plain": [
       "<matplotlib.axes._subplots.AxesSubplot at 0x1d25ec83b00>"
      ]
     },
     "execution_count": 13,
     "metadata": {},
     "output_type": "execute_result"
    },
    {
     "data": {
      "image/png": "[encoded data removed]",
      "text/plain": [
       "<Figure size 432x288 with 1 Axes>"
      ]
     },
     "metadata": {
      "needs_background": "light"
     },
     "output_type": "display_data"
    }
   ],
   "source": [
    "# 데이터분석\n",
    "df['age'].hist()"
   ]
  },
  {
   "cell_type": "code",
   "execution_count": 15,
   "metadata": {},
   "outputs": [
    {
     "data": {
      "text/plain": [
       "0"
      ]
     },
     "execution_count": 15,
     "metadata": {},
     "output_type": "execute_result"
    }
   ],
   "source": [
    "df.isna().sum().sum() # 누락 값은 없다"
   ]
  },
  {
   "cell_type": "code",
   "execution_count": 23,
   "metadata": {},
   "outputs": [
    {
     "data": {
      "text/plain": [
       "<matplotlib.axes._subplots.AxesSubplot at 0x1d2625ccf60>"
      ]
     },
     "execution_count": 23,
     "metadata": {},
     "output_type": "execute_result"
    },
    {
     "data": {
      "image/png": "[encoded data removed]",
      "text/plain": [
       "<Figure size 432x288 with 1 Axes>"
      ]
     },
     "metadata": {
      "needs_background": "light"
     },
     "output_type": "display_data"
    }
   ],
   "source": [
    "df[df.balance<20000].balance.hist(bins=20)"
   ]
  },
  {
   "cell_type": "markdown",
   "metadata": {},
   "source": [
    "- 3가지 클러스터링(비교사학습)을 하세요\n",
    "      1. 문자를 숫자로 원핫 인코딩\n",
    "      1. 2차원으로 축소 PCA\n",
    "      1. K-Means(k선택), 병합군집(k선택), DBSCAN(eps거리 조절)\n",
    "      1. scatter 그래프로 시각화\n",
    "      \n",
    "- 결정트리(교사학습)\n",
    "    1. 원핫 인코딩\n",
    "    1. X, Y 분리\n",
    "    1. 결정 트리 학습\n",
    "    1. 트리 그래프로 시각화\n",
    "\n",
    "- 고객에게 전화를 걸어 상품을 홍보하라는 임무를 받았습니다. 가능하면 상품에 가입해줄만한 사람에게 연락을 하고 싶습니다. 상품에 가입해줄 착한 고객을 어떻게 찾으면 좋을까요?\n",
    "   "
   ]
  },
  {
   "cell_type": "code",
   "execution_count": 41,
   "metadata": {},
   "outputs": [],
   "source": [
    "from sklearn.cluster import AgglomerativeClustering\n",
    "import matplotlib.pyplot as plt\n",
    "from sklearn.decomposition import PCA\n",
    "from sklearn.cluster import KMeans\n",
    "import mglearn"
   ]
  },
  {
   "cell_type": "code",
   "execution_count": 26,
   "metadata": {},
   "outputs": [
    {
     "data": {
      "text/plain": [
       "Index(['age', 'job', 'marital', 'education', 'default', 'balance', 'housing',\n",
       "       'loan', 'contact', 'day', 'month', 'duration', 'campaign', 'pdays',\n",
       "       'previous', 'poutcome', 'y'],\n",
       "      dtype='object')"
      ]
     },
     "execution_count": 26,
     "metadata": {},
     "output_type": "execute_result"
    }
   ],
   "source": [
    "df.columns"
   ]
  },
  {
   "cell_type": "code",
   "execution_count": 124,
   "metadata": {},
   "outputs": [
    {
     "data": {
      "text/html": [
       "<div>\n",
       "<style scoped>\n",
       "    .dataframe tbody tr th:only-of-type {\n",
       "        vertical-align: middle;\n",
       "    }\n",
       "\n",
       "    .dataframe tbody tr th {\n",
       "        vertical-align: top;\n",
       "    }\n",
       "\n",
       "    .dataframe thead th {\n",
       "        text-align: right;\n",
       "    }\n",
       "</style>\n",
       "<table border=\"1\" class=\"dataframe\">\n",
       "  <thead>\n",
       "    <tr style=\"text-align: right;\">\n",
       "      <th></th>\n",
       "      <th>age</th>\n",
       "      <th>balance</th>\n",
       "      <th>day</th>\n",
       "      <th>duration</th>\n",
       "      <th>campaign</th>\n",
       "      <th>pdays</th>\n",
       "      <th>previous</th>\n",
       "      <th>job_admin.</th>\n",
       "      <th>job_blue-collar</th>\n",
       "      <th>job_entrepreneur</th>\n",
       "      <th>...</th>\n",
       "      <th>month_may</th>\n",
       "      <th>month_nov</th>\n",
       "      <th>month_oct</th>\n",
       "      <th>month_sep</th>\n",
       "      <th>poutcome_failure</th>\n",
       "      <th>poutcome_other</th>\n",
       "      <th>poutcome_success</th>\n",
       "      <th>poutcome_unknown</th>\n",
       "      <th>y_no</th>\n",
       "      <th>y_yes</th>\n",
       "    </tr>\n",
       "  </thead>\n",
       "  <tbody>\n",
       "    <tr>\n",
       "      <th>0</th>\n",
       "      <td>30</td>\n",
       "      <td>1787</td>\n",
       "      <td>19</td>\n",
       "      <td>79</td>\n",
       "      <td>1</td>\n",
       "      <td>-1</td>\n",
       "      <td>0</td>\n",
       "      <td>0</td>\n",
       "      <td>0</td>\n",
       "      <td>0</td>\n",
       "      <td>...</td>\n",
       "      <td>0</td>\n",
       "      <td>0</td>\n",
       "      <td>1</td>\n",
       "      <td>0</td>\n",
       "      <td>0</td>\n",
       "      <td>0</td>\n",
       "      <td>0</td>\n",
       "      <td>1</td>\n",
       "      <td>1</td>\n",
       "      <td>0</td>\n",
       "    </tr>\n",
       "    <tr>\n",
       "      <th>1</th>\n",
       "      <td>33</td>\n",
       "      <td>4789</td>\n",
       "      <td>11</td>\n",
       "      <td>220</td>\n",
       "      <td>1</td>\n",
       "      <td>339</td>\n",
       "      <td>4</td>\n",
       "      <td>0</td>\n",
       "      <td>0</td>\n",
       "      <td>0</td>\n",
       "      <td>...</td>\n",
       "      <td>1</td>\n",
       "      <td>0</td>\n",
       "      <td>0</td>\n",
       "      <td>0</td>\n",
       "      <td>1</td>\n",
       "      <td>0</td>\n",
       "      <td>0</td>\n",
       "      <td>0</td>\n",
       "      <td>1</td>\n",
       "      <td>0</td>\n",
       "    </tr>\n",
       "  </tbody>\n",
       "</table>\n",
       "<p>2 rows × 53 columns</p>\n",
       "</div>"
      ],
      "text/plain": [
       "   age  balance  day  duration  campaign  pdays  previous  job_admin.  \\\n",
       "0   30     1787   19        79         1     -1         0           0   \n",
       "1   33     4789   11       220         1    339         4           0   \n",
       "\n",
       "   job_blue-collar  job_entrepreneur  ...  month_may  month_nov  month_oct  \\\n",
       "0                0                 0  ...          0          0          1   \n",
       "1                0                 0  ...          1          0          0   \n",
       "\n",
       "   month_sep  poutcome_failure  poutcome_other  poutcome_success  \\\n",
       "0          0                 0               0                 0   \n",
       "1          0                 1               0                 0   \n",
       "\n",
       "   poutcome_unknown  y_no  y_yes  \n",
       "0                 1     1      0  \n",
       "1                 0     1      0  \n",
       "\n",
       "[2 rows x 53 columns]"
      ]
     },
     "execution_count": 124,
     "metadata": {},
     "output_type": "execute_result"
    }
   ],
   "source": [
    "df1 = pd.get_dummies(df)\n",
    "df1.head(2)"
   ]
  },
  {
   "cell_type": "code",
   "execution_count": 125,
   "metadata": {},
   "outputs": [
    {
     "data": {
      "text/plain": [
       "(4521, 53)"
      ]
     },
     "execution_count": 125,
     "metadata": {},
     "output_type": "execute_result"
    }
   ],
   "source": [
    "df1.shape"
   ]
  },
  {
   "cell_type": "code",
   "execution_count": 126,
   "metadata": {},
   "outputs": [
    {
     "data": {
      "text/plain": [
       "(4521, 2)"
      ]
     },
     "execution_count": 126,
     "metadata": {},
     "output_type": "execute_result"
    }
   ],
   "source": [
    "pca = PCA(n_components=2).fit(df1)\n",
    "df1_pca = pca.transform(df1)\n",
    "df1_pca.shape"
   ]
  },
  {
   "cell_type": "code",
   "execution_count": 133,
   "metadata": {},
   "outputs": [],
   "source": [
    "km = KMeans(n_clusters=3).fit(df1_pca)\n",
    "group = km.predict(df1_pca)"
   ]
  },
  {
   "cell_type": "code",
   "execution_count": 134,
   "metadata": {},
   "outputs": [
    {
     "data": {
      "image/png": "[encoded data removed]",
      "text/plain": [
       "<Figure size 432x288 with 1 Axes>"
      ]
     },
     "metadata": {
      "needs_background": "light"
     },
     "output_type": "display_data"
    }
   ],
   "source": [
    "l = mglearn.discrete_scatter(df1_pca[:,0], df1_pca[:,1], group)"
   ]
  },
  {
   "cell_type": "code",
   "execution_count": null,
   "metadata": {},
   "outputs": [],
   "source": []
  },
  {
   "cell_type": "code",
   "execution_count": 135,
   "metadata": {},
   "outputs": [],
   "source": [
    "model = AgglomerativeClustering(n_clusters=3).fit(df1_pca)  # x를 3개의 그룹으로 모아"
   ]
  },
  {
   "cell_type": "code",
   "execution_count": 136,
   "metadata": {},
   "outputs": [],
   "source": [
    "p = model.fit_predict(df1_pca) # predict"
   ]
  },
  {
   "cell_type": "code",
   "execution_count": 137,
   "metadata": {},
   "outputs": [
    {
     "data": {
      "text/plain": [
       "[<matplotlib.lines.Line2D at 0x1d266391198>,\n",
       " <matplotlib.lines.Line2D at 0x1d266391400>,\n",
       " <matplotlib.lines.Line2D at 0x1d266391a90>]"
      ]
     },
     "execution_count": 137,
     "metadata": {},
     "output_type": "execute_result"
    },
    {
     "data": {
      "image/png": "[encoded data removed]",
      "text/plain": [
       "<Figure size 432x288 with 1 Axes>"
      ]
     },
     "metadata": {
      "needs_background": "light"
     },
     "output_type": "display_data"
    }
   ],
   "source": [
    "mglearn.discrete_scatter(df1_pca[:,0],df1_pca[:,1],p)"
   ]
  },
  {
   "cell_type": "code",
   "execution_count": null,
   "metadata": {},
   "outputs": [],
   "source": []
  },
  {
   "cell_type": "code",
   "execution_count": 51,
   "metadata": {},
   "outputs": [],
   "source": [
    "from sklearn.cluster import DBSCAN"
   ]
  },
  {
   "cell_type": "code",
   "execution_count": 56,
   "metadata": {},
   "outputs": [
    {
     "data": {
      "image/png": "[encoded data removed]",
      "text/plain": [
       "<Figure size 432x288 with 1 Axes>"
      ]
     },
     "metadata": {
      "needs_background": "light"
     },
     "output_type": "display_data"
    }
   ],
   "source": [
    "#p = DBSCAN(eps=2.0, min_samples=10).fit_predict(df1_pca)  # k 개를 정해주지 않습니다.\n",
    "p = DBSCAN(eps=2.0).fit_predict(df1_pca)  # k 개를 정해주지 않습니다.\n",
    "l = mglearn.discrete_scatter(df1_pca[:,0],df1_pca[:,1],p)"
   ]
  },
  {
   "cell_type": "markdown",
   "metadata": {},
   "source": [
    "## =============================================="
   ]
  },
  {
   "cell_type": "markdown",
   "metadata": {},
   "source": [
    "## =============================================="
   ]
  },
  {
   "cell_type": "markdown",
   "metadata": {},
   "source": [
    "- 결정트리(교사학습)\n",
    "    1. 원핫 인코딩\n",
    "    1. X, Y 분리\n",
    "    1. 결정 트리 학습\n",
    "    1. 트리 그래프로 시각화\n",
    "    \n",
    "- 고객에게 전화를 걸어 상품을 홍보하라는 임무를 받았습니다. 가능하면 상품에 가입해줄만한 사람에게 연락을 하고 싶습니다. 상품에 가입해줄 착한 고객을 어떻게 찾으면 좋을까요?"
   ]
  },
  {
   "cell_type": "code",
   "execution_count": 118,
   "metadata": {},
   "outputs": [],
   "source": [
    "import numpy as np\n",
    "import pandas as pd\n",
    "import matplotlib.pyplot as plt"
   ]
  },
  {
   "cell_type": "code",
   "execution_count": 140,
   "metadata": {},
   "outputs": [
    {
     "data": {
      "text/html": [
       "<div>\n",
       "<style scoped>\n",
       "    .dataframe tbody tr th:only-of-type {\n",
       "        vertical-align: middle;\n",
       "    }\n",
       "\n",
       "    .dataframe tbody tr th {\n",
       "        vertical-align: top;\n",
       "    }\n",
       "\n",
       "    .dataframe thead th {\n",
       "        text-align: right;\n",
       "    }\n",
       "</style>\n",
       "<table border=\"1\" class=\"dataframe\">\n",
       "  <thead>\n",
       "    <tr style=\"text-align: right;\">\n",
       "      <th></th>\n",
       "      <th>age</th>\n",
       "      <th>job</th>\n",
       "      <th>marital</th>\n",
       "      <th>education</th>\n",
       "      <th>default</th>\n",
       "      <th>balance</th>\n",
       "      <th>housing</th>\n",
       "      <th>loan</th>\n",
       "      <th>contact</th>\n",
       "      <th>day</th>\n",
       "      <th>month</th>\n",
       "      <th>duration</th>\n",
       "      <th>campaign</th>\n",
       "      <th>pdays</th>\n",
       "      <th>previous</th>\n",
       "      <th>poutcome</th>\n",
       "      <th>y</th>\n",
       "    </tr>\n",
       "  </thead>\n",
       "  <tbody>\n",
       "    <tr>\n",
       "      <th>0</th>\n",
       "      <td>30</td>\n",
       "      <td>unemployed</td>\n",
       "      <td>married</td>\n",
       "      <td>primary</td>\n",
       "      <td>no</td>\n",
       "      <td>1787</td>\n",
       "      <td>no</td>\n",
       "      <td>no</td>\n",
       "      <td>cellular</td>\n",
       "      <td>19</td>\n",
       "      <td>oct</td>\n",
       "      <td>79</td>\n",
       "      <td>1</td>\n",
       "      <td>-1</td>\n",
       "      <td>0</td>\n",
       "      <td>unknown</td>\n",
       "      <td>no</td>\n",
       "    </tr>\n",
       "    <tr>\n",
       "      <th>1</th>\n",
       "      <td>33</td>\n",
       "      <td>services</td>\n",
       "      <td>married</td>\n",
       "      <td>secondary</td>\n",
       "      <td>no</td>\n",
       "      <td>4789</td>\n",
       "      <td>yes</td>\n",
       "      <td>yes</td>\n",
       "      <td>cellular</td>\n",
       "      <td>11</td>\n",
       "      <td>may</td>\n",
       "      <td>220</td>\n",
       "      <td>1</td>\n",
       "      <td>339</td>\n",
       "      <td>4</td>\n",
       "      <td>failure</td>\n",
       "      <td>no</td>\n",
       "    </tr>\n",
       "  </tbody>\n",
       "</table>\n",
       "</div>"
      ],
      "text/plain": [
       "   age         job  marital  education default  balance housing loan  \\\n",
       "0   30  unemployed  married    primary      no     1787      no   no   \n",
       "1   33    services  married  secondary      no     4789     yes  yes   \n",
       "\n",
       "    contact  day month  duration  campaign  pdays  previous poutcome   y  \n",
       "0  cellular   19   oct        79         1     -1         0  unknown  no  \n",
       "1  cellular   11   may       220         1    339         4  failure  no  "
      ]
     },
     "execution_count": 140,
     "metadata": {},
     "output_type": "execute_result"
    }
   ],
   "source": [
    "df = pd.read_csv('bank.csv', sep=';')\n",
    "df.head(2)"
   ]
  },
  {
   "cell_type": "code",
   "execution_count": 141,
   "metadata": {},
   "outputs": [],
   "source": [
    "from sklearn.tree import DecisionTreeClassifier\n",
    "import matplotlib.pyplot as plt\n",
    "import numpy as np"
   ]
  },
  {
   "cell_type": "code",
   "execution_count": 142,
   "metadata": {},
   "outputs": [
    {
     "data": {
      "text/plain": [
       "((4521, 51), (4521,))"
      ]
     },
     "execution_count": 142,
     "metadata": {},
     "output_type": "execute_result"
    }
   ],
   "source": [
    "df_hot = pd.get_dummies(df)\n",
    "x = df_hot.iloc[:, :-2]\n",
    "y = df_hot.iloc[:, -2]\n",
    "x.shape, y.shape"
   ]
  },
  {
   "cell_type": "code",
   "execution_count": 153,
   "metadata": {},
   "outputs": [
    {
     "data": {
      "text/plain": [
       "0    1\n",
       "1    1\n",
       "2    1\n",
       "3    1\n",
       "4    1\n",
       "Name: y_no, dtype: uint8"
      ]
     },
     "execution_count": 153,
     "metadata": {},
     "output_type": "execute_result"
    }
   ],
   "source": [
    "y.head(5)"
   ]
  },
  {
   "cell_type": "code",
   "execution_count": 143,
   "metadata": {},
   "outputs": [],
   "source": [
    "tree = DecisionTreeClassifier().fit(x,y)\n",
    "importance = pd.DataFrame(tree.feature_importances_, x.columns)"
   ]
  },
  {
   "cell_type": "code",
   "execution_count": 144,
   "metadata": {},
   "outputs": [
    {
     "data": {
      "image/png": "[encoded data removed]",
      "text/plain": [
       "<Figure size 432x288 with 1 Axes>"
      ]
     },
     "metadata": {
      "needs_background": "light"
     },
     "output_type": "display_data"
    }
   ],
   "source": [
    "p = importance.sort_values(by=0).head(10).plot.barh()"
   ]
  },
  {
   "cell_type": "code",
   "execution_count": 145,
   "metadata": {},
   "outputs": [],
   "source": [
    "from sklearn.cluster import KMeans, AgglomerativeClustering, DBSCAN\n",
    "from sklearn.decomposition import PCA\n",
    "x_pca = PCA(n_components=2).fit_transform(x)\n",
    "p = AgglomerativeClustering(n_clusters=2).fit_predict(x_pca)"
   ]
  },
  {
   "cell_type": "code",
   "execution_count": 146,
   "metadata": {},
   "outputs": [],
   "source": [
    "import mglearn"
   ]
  },
  {
   "cell_type": "code",
   "execution_count": 147,
   "metadata": {},
   "outputs": [
    {
     "data": {
      "image/png": "[encoded data removed]",
      "text/plain": [
       "<Figure size 432x288 with 1 Axes>"
      ]
     },
     "metadata": {
      "needs_background": "light"
     },
     "output_type": "display_data"
    }
   ],
   "source": [
    "l = mglearn.discrete_scatter(x_pca[:,0], x_pca[:,1], y) # 실제로 상품 가입해준 사람"
   ]
  },
  {
   "cell_type": "code",
   "execution_count": 148,
   "metadata": {},
   "outputs": [
    {
     "data": {
      "image/png": "[encoded data removed]",
      "text/plain": [
       "<Figure size 432x288 with 1 Axes>"
      ]
     },
     "metadata": {
      "needs_background": "light"
     },
     "output_type": "display_data"
    }
   ],
   "source": [
    "l = mglearn.discrete_scatter(x_pca[:,0], x_pca[:,1], p) # 클러스터링 해본 결과"
   ]
  },
  {
   "cell_type": "code",
   "execution_count": 154,
   "metadata": {},
   "outputs": [],
   "source": [
    "from sklearn.cluster import DBSCAN"
   ]
  },
  {
   "cell_type": "code",
   "execution_count": 155,
   "metadata": {},
   "outputs": [
    {
     "data": {
      "image/png": "[encoded data removed]",
      "text/plain": [
       "<Figure size 432x288 with 1 Axes>"
      ]
     },
     "metadata": {
      "needs_background": "light"
     },
     "output_type": "display_data"
    }
   ],
   "source": [
    "#p = DBSCAN(eps=2.0, min_samples=10).fit_predict(df1_pca)  # k 개를 정해주지 않습니다.\n",
    "p = DBSCAN(eps=2.0).fit_predict(x_pca)  # k 개를 정해주지 않습니다.\n",
    "l = mglearn.discrete_scatter(x_pca[:,0],x_pca[:,1],p)"
   ]
  },
  {
   "cell_type": "code",
   "execution_count": 156,
   "metadata": {},
   "outputs": [
    {
     "data": {
      "image/png": "[encoded data removed]",
      "text/plain": [
       "<Figure size 432x288 with 1 Axes>"
      ]
     },
     "metadata": {
      "needs_background": "light"
     },
     "output_type": "display_data"
    }
   ],
   "source": [
    "km = KMeans(n_clusters=2).fit(x_pca)\n",
    "group = km.predict(x_pca)\n",
    "l = mglearn.discrete_scatter(x_pca[:,0], x_pca[:,1], group)"
   ]
  },
  {
   "cell_type": "code",
   "execution_count": null,
   "metadata": {},
   "outputs": [],
   "source": []
  },
  {
   "cell_type": "code",
   "execution_count": 157,
   "metadata": {},
   "outputs": [],
   "source": [
    "from sklearn.tree import DecisionTreeClassifier\n",
    "model = DecisionTreeClassifier(max_depth=4).fit(x,y)"
   ]
  },
  {
   "cell_type": "code",
   "execution_count": 159,
   "metadata": {},
   "outputs": [
    {
     "data": {
      "text/plain": [
       "0.9126299491262995"
      ]
     },
     "execution_count": 159,
     "metadata": {},
     "output_type": "execute_result"
    }
   ],
   "source": [
    "model.score(x, y)"
   ]
  },
  {
   "cell_type": "code",
   "execution_count": 160,
   "metadata": {},
   "outputs": [],
   "source": [
    "from sklearn.tree import export_graphviz\n",
    "import graphviz\n",
    "import os\n",
    "os.environ[\"PATH\"]+= os.pathsep + 'C:/Program Files (x86)/Graphviz2.38/bin/'"
   ]
  },
  {
   "cell_type": "code",
   "execution_count": 161,
   "metadata": {},
   "outputs": [
    {
     "data": {
      "image/svg+xml": [
       "<?xml version=\"1.0\" encoding=\"UTF-8\" standalone=\"no\"?>\r\n",
       "<!DOCTYPE svg PUBLIC \"-//W3C//DTD SVG 1.1//EN\"\r\n",
       " \"http://www.w3.org/Graphics/SVG/1.1/DTD/svg11.dtd\">\r\n",
       "<!-- Generated by graphviz version 2.38.0 (20140413.2041)\r\n",
       " -->\r\n",
       "<!-- Title: Tree Pages: 1 -->\r\n",
       "<svg width=\"1908pt\" height=\"477pt\"\r\n",
       " viewBox=\"0.00 0.00 1908.00 477.00\" xmlns=\"http://www.w3.org/2000/svg\" xmlns:xlink=\"http://www.w3.org/1999/xlink\">\r\n",
       "<g id=\"graph0\" class=\"graph\" transform=\"scale(1 1) rotate(0) translate(4 473)\">\r\n",
       "<title>Tree</title>\r\n",
       "<polygon fill=\"white\" stroke=\"none\" points=\"-4,4 -4,-473 1904,-473 1904,4 -4,4\"/>\r\n",
       "<!-- 0 -->\r\n",
       "<g id=\"node1\" class=\"node\"><title>0</title>\r\n",
       "<polygon fill=\"#399de5\" fill-opacity=\"0.870588\" stroke=\"black\" points=\"1038.5,-469 913.5,-469 913.5,-401 1038.5,-401 1038.5,-469\"/>\r\n",
       "<text text-anchor=\"middle\" x=\"976\" y=\"-453.8\" font-family=\"Times New Roman,serif\" font-size=\"14.00\">duration &lt;= 645.5</text>\r\n",
       "<text text-anchor=\"middle\" x=\"976\" y=\"-438.8\" font-family=\"Times New Roman,serif\" font-size=\"14.00\">samples = 4521</text>\r\n",
       "<text text-anchor=\"middle\" x=\"976\" y=\"-423.8\" font-family=\"Times New Roman,serif\" font-size=\"14.00\">value = [521, 4000]</text>\r\n",
       "<text text-anchor=\"middle\" x=\"976\" y=\"-408.8\" font-family=\"Times New Roman,serif\" font-size=\"14.00\">class = y_yes</text>\r\n",
       "</g>\r\n",
       "<!-- 1 -->\r\n",
       "<g id=\"node2\" class=\"node\"><title>1</title>\r\n",
       "<polygon fill=\"#399de5\" fill-opacity=\"0.909804\" stroke=\"black\" points=\"821,-365 655,-365 655,-297 821,-297 821,-365\"/>\r\n",
       "<text text-anchor=\"middle\" x=\"738\" y=\"-349.8\" font-family=\"Times New Roman,serif\" font-size=\"14.00\">poutcome_success &lt;= 0.5</text>\r\n",
       "<text text-anchor=\"middle\" x=\"738\" y=\"-334.8\" font-family=\"Times New Roman,serif\" font-size=\"14.00\">samples = 4162</text>\r\n",
       "<text text-anchor=\"middle\" x=\"738\" y=\"-319.8\" font-family=\"Times New Roman,serif\" font-size=\"14.00\">value = [341, 3821]</text>\r\n",
       "<text text-anchor=\"middle\" x=\"738\" y=\"-304.8\" font-family=\"Times New Roman,serif\" font-size=\"14.00\">class = y_yes</text>\r\n",
       "</g>\r\n",
       "<!-- 0&#45;&gt;1 -->\r\n",
       "<g id=\"edge1\" class=\"edge\"><title>0&#45;&gt;1</title>\r\n",
       "<path fill=\"none\" stroke=\"black\" d=\"M913.468,-407.201C886.376,-395.59 854.201,-381.8 824.847,-369.22\"/>\r\n",
       "<polygon fill=\"black\" stroke=\"black\" points=\"825.996,-365.905 815.426,-365.183 823.239,-372.339 825.996,-365.905\"/>\r\n",
       "<text text-anchor=\"middle\" x=\"824.711\" y=\"-384.694\" font-family=\"Times New Roman,serif\" font-size=\"14.00\">True</text>\r\n",
       "</g>\r\n",
       "<!-- 16 -->\r\n",
       "<g id=\"node17\" class=\"node\"><title>16</title>\r\n",
       "<polygon fill=\"#e58139\" fill-opacity=\"0.003922\" stroke=\"black\" points=\"1269,-365 1125,-365 1125,-297 1269,-297 1269,-365\"/>\r\n",
       "<text text-anchor=\"middle\" x=\"1197\" y=\"-349.8\" font-family=\"Times New Roman,serif\" font-size=\"14.00\">marital_married &lt;= 0.5</text>\r\n",
       "<text text-anchor=\"middle\" x=\"1197\" y=\"-334.8\" font-family=\"Times New Roman,serif\" font-size=\"14.00\">samples = 359</text>\r\n",
       "<text text-anchor=\"middle\" x=\"1197\" y=\"-319.8\" font-family=\"Times New Roman,serif\" font-size=\"14.00\">value = [180, 179]</text>\r\n",
       "<text text-anchor=\"middle\" x=\"1197\" y=\"-304.8\" font-family=\"Times New Roman,serif\" font-size=\"14.00\">class = y_no</text>\r\n",
       "</g>\r\n",
       "<!-- 0&#45;&gt;16 -->\r\n",
       "<g id=\"edge16\" class=\"edge\"><title>0&#45;&gt;16</title>\r\n",
       "<path fill=\"none\" stroke=\"black\" d=\"M1038.74,-405.044C1062.72,-393.976 1090.42,-381.192 1115.87,-369.444\"/>\r\n",
       "<polygon fill=\"black\" stroke=\"black\" points=\"1117.52,-372.536 1125.14,-365.167 1114.59,-366.18 1117.52,-372.536\"/>\r\n",
       "<text text-anchor=\"middle\" x=\"1116.5\" y=\"-384.926\" font-family=\"Times New Roman,serif\" font-size=\"14.00\">False</text>\r\n",
       "</g>\r\n",
       "<!-- 2 -->\r\n",
       "<g id=\"node3\" class=\"node\"><title>2</title>\r\n",
       "<polygon fill=\"#399de5\" fill-opacity=\"0.929412\" stroke=\"black\" points=\"452.5,-261 327.5,-261 327.5,-193 452.5,-193 452.5,-261\"/>\r\n",
       "<text text-anchor=\"middle\" x=\"390\" y=\"-245.8\" font-family=\"Times New Roman,serif\" font-size=\"14.00\">duration &lt;= 222.5</text>\r\n",
       "<text text-anchor=\"middle\" x=\"390\" y=\"-230.8\" font-family=\"Times New Roman,serif\" font-size=\"14.00\">samples = 4047</text>\r\n",
       "<text text-anchor=\"middle\" x=\"390\" y=\"-215.8\" font-family=\"Times New Roman,serif\" font-size=\"14.00\">value = [265, 3782]</text>\r\n",
       "<text text-anchor=\"middle\" x=\"390\" y=\"-200.8\" font-family=\"Times New Roman,serif\" font-size=\"14.00\">class = y_yes</text>\r\n",
       "</g>\r\n",
       "<!-- 1&#45;&gt;2 -->\r\n",
       "<g id=\"edge2\" class=\"edge\"><title>1&#45;&gt;2</title>\r\n",
       "<path fill=\"none\" stroke=\"black\" d=\"M654.645,-305.568C596.031,-288.388 518.377,-265.628 462.362,-249.21\"/>\r\n",
       "<polygon fill=\"black\" stroke=\"black\" points=\"463.096,-245.777 452.515,-246.323 461.127,-252.495 463.096,-245.777\"/>\r\n",
       "</g>\r\n",
       "<!-- 9 -->\r\n",
       "<g id=\"node10\" class=\"node\"><title>9</title>\r\n",
       "<polygon fill=\"#e58139\" fill-opacity=\"0.486275\" stroke=\"black\" points=\"796.5,-261 679.5,-261 679.5,-193 796.5,-193 796.5,-261\"/>\r\n",
       "<text text-anchor=\"middle\" x=\"738\" y=\"-245.8\" font-family=\"Times New Roman,serif\" font-size=\"14.00\">duration &lt;= 180.5</text>\r\n",
       "<text text-anchor=\"middle\" x=\"738\" y=\"-230.8\" font-family=\"Times New Roman,serif\" font-size=\"14.00\">samples = 115</text>\r\n",
       "<text text-anchor=\"middle\" x=\"738\" y=\"-215.8\" font-family=\"Times New Roman,serif\" font-size=\"14.00\">value = [76, 39]</text>\r\n",
       "<text text-anchor=\"middle\" x=\"738\" y=\"-200.8\" font-family=\"Times New Roman,serif\" font-size=\"14.00\">class = y_no</text>\r\n",
       "</g>\r\n",
       "<!-- 1&#45;&gt;9 -->\r\n",
       "<g id=\"edge9\" class=\"edge\"><title>1&#45;&gt;9</title>\r\n",
       "<path fill=\"none\" stroke=\"black\" d=\"M738,-296.884C738,-288.778 738,-279.982 738,-271.472\"/>\r\n",
       "<polygon fill=\"black\" stroke=\"black\" points=\"741.5,-271.299 738,-261.299 734.5,-271.299 741.5,-271.299\"/>\r\n",
       "</g>\r\n",
       "<!-- 3 -->\r\n",
       "<g id=\"node4\" class=\"node\"><title>3</title>\r\n",
       "<polygon fill=\"#399de5\" fill-opacity=\"0.976471\" stroke=\"black\" points=\"247.5,-157 128.5,-157 128.5,-89 247.5,-89 247.5,-157\"/>\r\n",
       "<text text-anchor=\"middle\" x=\"188\" y=\"-141.8\" font-family=\"Times New Roman,serif\" font-size=\"14.00\">month_oct &lt;= 0.5</text>\r\n",
       "<text text-anchor=\"middle\" x=\"188\" y=\"-126.8\" font-family=\"Times New Roman,serif\" font-size=\"14.00\">samples = 2628</text>\r\n",
       "<text text-anchor=\"middle\" x=\"188\" y=\"-111.8\" font-family=\"Times New Roman,serif\" font-size=\"14.00\">value = [65, 2563]</text>\r\n",
       "<text text-anchor=\"middle\" x=\"188\" y=\"-96.8\" font-family=\"Times New Roman,serif\" font-size=\"14.00\">class = y_yes</text>\r\n",
       "</g>\r\n",
       "<!-- 2&#45;&gt;3 -->\r\n",
       "<g id=\"edge3\" class=\"edge\"><title>2&#45;&gt;3</title>\r\n",
       "<path fill=\"none\" stroke=\"black\" d=\"M327.469,-194.425C305.068,-183.113 279.697,-170.303 256.795,-158.738\"/>\r\n",
       "<polygon fill=\"black\" stroke=\"black\" points=\"258.321,-155.588 247.817,-154.205 255.166,-161.836 258.321,-155.588\"/>\r\n",
       "</g>\r\n",
       "<!-- 6 -->\r\n",
       "<g id=\"node7\" class=\"node\"><title>6</title>\r\n",
       "<polygon fill=\"#399de5\" fill-opacity=\"0.835294\" stroke=\"black\" points=\"452.5,-157 327.5,-157 327.5,-89 452.5,-89 452.5,-157\"/>\r\n",
       "<text text-anchor=\"middle\" x=\"390\" y=\"-141.8\" font-family=\"Times New Roman,serif\" font-size=\"14.00\">pdays &lt;= 373.0</text>\r\n",
       "<text text-anchor=\"middle\" x=\"390\" y=\"-126.8\" font-family=\"Times New Roman,serif\" font-size=\"14.00\">samples = 1419</text>\r\n",
       "<text text-anchor=\"middle\" x=\"390\" y=\"-111.8\" font-family=\"Times New Roman,serif\" font-size=\"14.00\">value = [200, 1219]</text>\r\n",
       "<text text-anchor=\"middle\" x=\"390\" y=\"-96.8\" font-family=\"Times New Roman,serif\" font-size=\"14.00\">class = y_yes</text>\r\n",
       "</g>\r\n",
       "<!-- 2&#45;&gt;6 -->\r\n",
       "<g id=\"edge6\" class=\"edge\"><title>2&#45;&gt;6</title>\r\n",
       "<path fill=\"none\" stroke=\"black\" d=\"M390,-192.884C390,-184.778 390,-175.982 390,-167.472\"/>\r\n",
       "<polygon fill=\"black\" stroke=\"black\" points=\"393.5,-167.299 390,-157.299 386.5,-167.299 393.5,-167.299\"/>\r\n",
       "</g>\r\n",
       "<!-- 4 -->\r\n",
       "<g id=\"node5\" class=\"node\"><title>4</title>\r\n",
       "<polygon fill=\"#399de5\" fill-opacity=\"0.976471\" stroke=\"black\" points=\"118,-53 0,-53 0,-0 118,-0 118,-53\"/>\r\n",
       "<text text-anchor=\"middle\" x=\"59\" y=\"-37.8\" font-family=\"Times New Roman,serif\" font-size=\"14.00\">samples = 2592</text>\r\n",
       "<text text-anchor=\"middle\" x=\"59\" y=\"-22.8\" font-family=\"Times New Roman,serif\" font-size=\"14.00\">value = [55, 2537]</text>\r\n",
       "<text text-anchor=\"middle\" x=\"59\" y=\"-7.8\" font-family=\"Times New Roman,serif\" font-size=\"14.00\">class = y_yes</text>\r\n",
       "</g>\r\n",
       "<!-- 3&#45;&gt;4 -->\r\n",
       "<g id=\"edge4\" class=\"edge\"><title>3&#45;&gt;4</title>\r\n",
       "<path fill=\"none\" stroke=\"black\" d=\"M142.882,-88.9485C129.77,-79.3431 115.48,-68.8747 102.471,-59.345\"/>\r\n",
       "<polygon fill=\"black\" stroke=\"black\" points=\"104.268,-56.3228 94.1326,-53.2367 100.131,-61.9698 104.268,-56.3228\"/>\r\n",
       "</g>\r\n",
       "<!-- 5 -->\r\n",
       "<g id=\"node6\" class=\"node\"><title>5</title>\r\n",
       "<polygon fill=\"#399de5\" fill-opacity=\"0.615686\" stroke=\"black\" points=\"240,-53 136,-53 136,-0 240,-0 240,-53\"/>\r\n",
       "<text text-anchor=\"middle\" x=\"188\" y=\"-37.8\" font-family=\"Times New Roman,serif\" font-size=\"14.00\">samples = 36</text>\r\n",
       "<text text-anchor=\"middle\" x=\"188\" y=\"-22.8\" font-family=\"Times New Roman,serif\" font-size=\"14.00\">value = [10, 26]</text>\r\n",
       "<text text-anchor=\"middle\" x=\"188\" y=\"-7.8\" font-family=\"Times New Roman,serif\" font-size=\"14.00\">class = y_yes</text>\r\n",
       "</g>\r\n",
       "<!-- 3&#45;&gt;5 -->\r\n",
       "<g id=\"edge5\" class=\"edge\"><title>3&#45;&gt;5</title>\r\n",
       "<path fill=\"none\" stroke=\"black\" d=\"M188,-88.9485C188,-80.7153 188,-71.848 188,-63.4814\"/>\r\n",
       "<polygon fill=\"black\" stroke=\"black\" points=\"191.5,-63.2367 188,-53.2367 184.5,-63.2367 191.5,-63.2367\"/>\r\n",
       "</g>\r\n",
       "<!-- 7 -->\r\n",
       "<g id=\"node8\" class=\"node\"><title>7</title>\r\n",
       "<polygon fill=\"#399de5\" fill-opacity=\"0.843137\" stroke=\"black\" points=\"383.5,-53 258.5,-53 258.5,-0 383.5,-0 383.5,-53\"/>\r\n",
       "<text text-anchor=\"middle\" x=\"321\" y=\"-37.8\" font-family=\"Times New Roman,serif\" font-size=\"14.00\">samples = 1407</text>\r\n",
       "<text text-anchor=\"middle\" x=\"321\" y=\"-22.8\" font-family=\"Times New Roman,serif\" font-size=\"14.00\">value = [189, 1218]</text>\r\n",
       "<text text-anchor=\"middle\" x=\"321\" y=\"-7.8\" font-family=\"Times New Roman,serif\" font-size=\"14.00\">class = y_yes</text>\r\n",
       "</g>\r\n",
       "<!-- 6&#45;&gt;7 -->\r\n",
       "<g id=\"edge7\" class=\"edge\"><title>6&#45;&gt;7</title>\r\n",
       "<path fill=\"none\" stroke=\"black\" d=\"M365.867,-88.9485C359.388,-80.0749 352.371,-70.4648 345.854,-61.5388\"/>\r\n",
       "<polygon fill=\"black\" stroke=\"black\" points=\"348.516,-59.249 339.792,-53.2367 342.862,-63.3769 348.516,-59.249\"/>\r\n",
       "</g>\r\n",
       "<!-- 8 -->\r\n",
       "<g id=\"node9\" class=\"node\"><title>8</title>\r\n",
       "<polygon fill=\"#e58139\" fill-opacity=\"0.909804\" stroke=\"black\" points=\"500,-53 402,-53 402,-0 500,-0 500,-53\"/>\r\n",
       "<text text-anchor=\"middle\" x=\"451\" y=\"-37.8\" font-family=\"Times New Roman,serif\" font-size=\"14.00\">samples = 12</text>\r\n",
       "<text text-anchor=\"middle\" x=\"451\" y=\"-22.8\" font-family=\"Times New Roman,serif\" font-size=\"14.00\">value = [11, 1]</text>\r\n",
       "<text text-anchor=\"middle\" x=\"451\" y=\"-7.8\" font-family=\"Times New Roman,serif\" font-size=\"14.00\">class = y_no</text>\r\n",
       "</g>\r\n",
       "<!-- 6&#45;&gt;8 -->\r\n",
       "<g id=\"edge8\" class=\"edge\"><title>6&#45;&gt;8</title>\r\n",
       "<path fill=\"none\" stroke=\"black\" d=\"M411.335,-88.9485C417.004,-80.1664 423.138,-70.6629 428.85,-61.815\"/>\r\n",
       "<polygon fill=\"black\" stroke=\"black\" points=\"431.904,-63.5365 434.387,-53.2367 426.023,-59.7402 431.904,-63.5365\"/>\r\n",
       "</g>\r\n",
       "<!-- 10 -->\r\n",
       "<g id=\"node11\" class=\"node\"><title>10</title>\r\n",
       "<polygon fill=\"#399de5\" fill-opacity=\"0.549020\" stroke=\"black\" points=\"737,-157 579,-157 579,-89 737,-89 737,-157\"/>\r\n",
       "<text text-anchor=\"middle\" x=\"658\" y=\"-141.8\" font-family=\"Times New Roman,serif\" font-size=\"14.00\">education_tertiary &lt;= 0.5</text>\r\n",
       "<text text-anchor=\"middle\" x=\"658\" y=\"-126.8\" font-family=\"Times New Roman,serif\" font-size=\"14.00\">samples = 29</text>\r\n",
       "<text text-anchor=\"middle\" x=\"658\" y=\"-111.8\" font-family=\"Times New Roman,serif\" font-size=\"14.00\">value = [9, 20]</text>\r\n",
       "<text text-anchor=\"middle\" x=\"658\" y=\"-96.8\" font-family=\"Times New Roman,serif\" font-size=\"14.00\">class = y_yes</text>\r\n",
       "</g>\r\n",
       "<!-- 9&#45;&gt;10 -->\r\n",
       "<g id=\"edge10\" class=\"edge\"><title>9&#45;&gt;10</title>\r\n",
       "<path fill=\"none\" stroke=\"black\" d=\"M712.026,-192.884C705.11,-184.065 697.553,-174.43 690.341,-165.235\"/>\r\n",
       "<polygon fill=\"black\" stroke=\"black\" points=\"693.043,-163.008 684.117,-157.299 687.535,-167.328 693.043,-163.008\"/>\r\n",
       "</g>\r\n",
       "<!-- 13 -->\r\n",
       "<g id=\"node14\" class=\"node\"><title>13</title>\r\n",
       "<polygon fill=\"#e58139\" fill-opacity=\"0.717647\" stroke=\"black\" points=\"879,-157 755,-157 755,-89 879,-89 879,-157\"/>\r\n",
       "<text text-anchor=\"middle\" x=\"817\" y=\"-141.8\" font-family=\"Times New Roman,serif\" font-size=\"14.00\">month_may &lt;= 0.5</text>\r\n",
       "<text text-anchor=\"middle\" x=\"817\" y=\"-126.8\" font-family=\"Times New Roman,serif\" font-size=\"14.00\">samples = 86</text>\r\n",
       "<text text-anchor=\"middle\" x=\"817\" y=\"-111.8\" font-family=\"Times New Roman,serif\" font-size=\"14.00\">value = [67, 19]</text>\r\n",
       "<text text-anchor=\"middle\" x=\"817\" y=\"-96.8\" font-family=\"Times New Roman,serif\" font-size=\"14.00\">class = y_no</text>\r\n",
       "</g>\r\n",
       "<!-- 9&#45;&gt;13 -->\r\n",
       "<g id=\"edge13\" class=\"edge\"><title>9&#45;&gt;13</title>\r\n",
       "<path fill=\"none\" stroke=\"black\" d=\"M763.649,-192.884C770.479,-184.065 777.941,-174.43 785.063,-165.235\"/>\r\n",
       "<polygon fill=\"black\" stroke=\"black\" points=\"787.853,-167.349 791.209,-157.299 782.319,-163.062 787.853,-167.349\"/>\r\n",
       "</g>\r\n",
       "<!-- 11 -->\r\n",
       "<g id=\"node12\" class=\"node\"><title>11</title>\r\n",
       "<polygon fill=\"#399de5\" fill-opacity=\"0.890196\" stroke=\"black\" points=\"616,-53 518,-53 518,-0 616,-0 616,-53\"/>\r\n",
       "<text text-anchor=\"middle\" x=\"567\" y=\"-37.8\" font-family=\"Times New Roman,serif\" font-size=\"14.00\">samples = 20</text>\r\n",
       "<text text-anchor=\"middle\" x=\"567\" y=\"-22.8\" font-family=\"Times New Roman,serif\" font-size=\"14.00\">value = [2, 18]</text>\r\n",
       "<text text-anchor=\"middle\" x=\"567\" y=\"-7.8\" font-family=\"Times New Roman,serif\" font-size=\"14.00\">class = y_yes</text>\r\n",
       "</g>\r\n",
       "<!-- 10&#45;&gt;11 -->\r\n",
       "<g id=\"edge11\" class=\"edge\"><title>10&#45;&gt;11</title>\r\n",
       "<path fill=\"none\" stroke=\"black\" d=\"M626.173,-88.9485C617.363,-79.8005 607.8,-69.8697 598.982,-60.7126\"/>\r\n",
       "<polygon fill=\"black\" stroke=\"black\" points=\"601.241,-58.0122 591.783,-53.2367 596.199,-62.8677 601.241,-58.0122\"/>\r\n",
       "</g>\r\n",
       "<!-- 12 -->\r\n",
       "<g id=\"node13\" class=\"node\"><title>12</title>\r\n",
       "<polygon fill=\"#e58139\" fill-opacity=\"0.713725\" stroke=\"black\" points=\"725.5,-53 634.5,-53 634.5,-0 725.5,-0 725.5,-53\"/>\r\n",
       "<text text-anchor=\"middle\" x=\"680\" y=\"-37.8\" font-family=\"Times New Roman,serif\" font-size=\"14.00\">samples = 9</text>\r\n",
       "<text text-anchor=\"middle\" x=\"680\" y=\"-22.8\" font-family=\"Times New Roman,serif\" font-size=\"14.00\">value = [7, 2]</text>\r\n",
       "<text text-anchor=\"middle\" x=\"680\" y=\"-7.8\" font-family=\"Times New Roman,serif\" font-size=\"14.00\">class = y_no</text>\r\n",
       "</g>\r\n",
       "<!-- 10&#45;&gt;12 -->\r\n",
       "<g id=\"edge12\" class=\"edge\"><title>10&#45;&gt;12</title>\r\n",
       "<path fill=\"none\" stroke=\"black\" d=\"M665.695,-88.9485C667.633,-80.6238 669.721,-71.6509 671.688,-63.2027\"/>\r\n",
       "<polygon fill=\"black\" stroke=\"black\" points=\"675.15,-63.7699 674.008,-53.2367 668.332,-62.1826 675.15,-63.7699\"/>\r\n",
       "</g>\r\n",
       "<!-- 14 -->\r\n",
       "<g id=\"node15\" class=\"node\"><title>14</title>\r\n",
       "<polygon fill=\"#e58139\" fill-opacity=\"0.807843\" stroke=\"black\" points=\"848,-53 744,-53 744,-0 848,-0 848,-53\"/>\r\n",
       "<text text-anchor=\"middle\" x=\"796\" y=\"-37.8\" font-family=\"Times New Roman,serif\" font-size=\"14.00\">samples = 74</text>\r\n",
       "<text text-anchor=\"middle\" x=\"796\" y=\"-22.8\" font-family=\"Times New Roman,serif\" font-size=\"14.00\">value = [62, 12]</text>\r\n",
       "<text text-anchor=\"middle\" x=\"796\" y=\"-7.8\" font-family=\"Times New Roman,serif\" font-size=\"14.00\">class = y_no</text>\r\n",
       "</g>\r\n",
       "<!-- 13&#45;&gt;14 -->\r\n",
       "<g id=\"edge14\" class=\"edge\"><title>13&#45;&gt;14</title>\r\n",
       "<path fill=\"none\" stroke=\"black\" d=\"M809.655,-88.9485C807.805,-80.6238 805.811,-71.6509 803.934,-63.2027\"/>\r\n",
       "<polygon fill=\"black\" stroke=\"black\" points=\"807.305,-62.2393 801.719,-53.2367 800.472,-63.7579 807.305,-62.2393\"/>\r\n",
       "</g>\r\n",
       "<!-- 15 -->\r\n",
       "<g id=\"node16\" class=\"node\"><title>15</title>\r\n",
       "<polygon fill=\"#399de5\" fill-opacity=\"0.286275\" stroke=\"black\" points=\"959.5,-53 866.5,-53 866.5,-0 959.5,-0 959.5,-53\"/>\r\n",
       "<text text-anchor=\"middle\" x=\"913\" y=\"-37.8\" font-family=\"Times New Roman,serif\" font-size=\"14.00\">samples = 12</text>\r\n",
       "<text text-anchor=\"middle\" x=\"913\" y=\"-22.8\" font-family=\"Times New Roman,serif\" font-size=\"14.00\">value = [5, 7]</text>\r\n",
       "<text text-anchor=\"middle\" x=\"913\" y=\"-7.8\" font-family=\"Times New Roman,serif\" font-size=\"14.00\">class = y_yes</text>\r\n",
       "</g>\r\n",
       "<!-- 13&#45;&gt;15 -->\r\n",
       "<g id=\"edge15\" class=\"edge\"><title>13&#45;&gt;15</title>\r\n",
       "<path fill=\"none\" stroke=\"black\" d=\"M850.576,-88.9485C859.962,-79.709 870.16,-69.671 879.539,-60.4381\"/>\r\n",
       "<polygon fill=\"black\" stroke=\"black\" points=\"882.184,-62.7462 886.855,-53.2367 877.273,-57.7576 882.184,-62.7462\"/>\r\n",
       "</g>\r\n",
       "<!-- 17 -->\r\n",
       "<g id=\"node18\" class=\"node\"><title>17</title>\r\n",
       "<polygon fill=\"#e58139\" fill-opacity=\"0.380392\" stroke=\"black\" points=\"1249,-261 1145,-261 1145,-193 1249,-193 1249,-261\"/>\r\n",
       "<text text-anchor=\"middle\" x=\"1197\" y=\"-245.8\" font-family=\"Times New Roman,serif\" font-size=\"14.00\">day &lt;= 7.5</text>\r\n",
       "<text text-anchor=\"middle\" x=\"1197\" y=\"-230.8\" font-family=\"Times New Roman,serif\" font-size=\"14.00\">samples = 154</text>\r\n",
       "<text text-anchor=\"middle\" x=\"1197\" y=\"-215.8\" font-family=\"Times New Roman,serif\" font-size=\"14.00\">value = [95, 59]</text>\r\n",
       "<text text-anchor=\"middle\" x=\"1197\" y=\"-200.8\" font-family=\"Times New Roman,serif\" font-size=\"14.00\">class = y_no</text>\r\n",
       "</g>\r\n",
       "<!-- 16&#45;&gt;17 -->\r\n",
       "<g id=\"edge17\" class=\"edge\"><title>16&#45;&gt;17</title>\r\n",
       "<path fill=\"none\" stroke=\"black\" d=\"M1197,-296.884C1197,-288.778 1197,-279.982 1197,-271.472\"/>\r\n",
       "<polygon fill=\"black\" stroke=\"black\" points=\"1200.5,-271.299 1197,-261.299 1193.5,-271.299 1200.5,-271.299\"/>\r\n",
       "</g>\r\n",
       "<!-- 24 -->\r\n",
       "<g id=\"node25\" class=\"node\"><title>24</title>\r\n",
       "<polygon fill=\"#399de5\" fill-opacity=\"0.290196\" stroke=\"black\" points=\"1622,-261 1476,-261 1476,-193 1622,-193 1622,-261\"/>\r\n",
       "<text text-anchor=\"middle\" x=\"1549\" y=\"-245.8\" font-family=\"Times New Roman,serif\" font-size=\"14.00\">contact_cellular &lt;= 0.5</text>\r\n",
       "<text text-anchor=\"middle\" x=\"1549\" y=\"-230.8\" font-family=\"Times New Roman,serif\" font-size=\"14.00\">samples = 205</text>\r\n",
       "<text text-anchor=\"middle\" x=\"1549\" y=\"-215.8\" font-family=\"Times New Roman,serif\" font-size=\"14.00\">value = [85, 120]</text>\r\n",
       "<text text-anchor=\"middle\" x=\"1549\" y=\"-200.8\" font-family=\"Times New Roman,serif\" font-size=\"14.00\">class = y_yes</text>\r\n",
       "</g>\r\n",
       "<!-- 16&#45;&gt;24 -->\r\n",
       "<g id=\"edge24\" class=\"edge\"><title>16&#45;&gt;24</title>\r\n",
       "<path fill=\"none\" stroke=\"black\" d=\"M1269.08,-309.113C1326.24,-292.549 1406.18,-269.385 1466.01,-252.049\"/>\r\n",
       "<polygon fill=\"black\" stroke=\"black\" points=\"1467.17,-255.355 1475.8,-249.21 1465.23,-248.632 1467.17,-255.355\"/>\r\n",
       "</g>\r\n",
       "<!-- 18 -->\r\n",
       "<g id=\"node19\" class=\"node\"><title>18</title>\r\n",
       "<polygon fill=\"#399de5\" fill-opacity=\"0.313725\" stroke=\"black\" points=\"1189,-157 1083,-157 1083,-89 1189,-89 1189,-157\"/>\r\n",
       "<text text-anchor=\"middle\" x=\"1136\" y=\"-141.8\" font-family=\"Times New Roman,serif\" font-size=\"14.00\">previous &lt;= 1.5</text>\r\n",
       "<text text-anchor=\"middle\" x=\"1136\" y=\"-126.8\" font-family=\"Times New Roman,serif\" font-size=\"14.00\">samples = 27</text>\r\n",
       "<text text-anchor=\"middle\" x=\"1136\" y=\"-111.8\" font-family=\"Times New Roman,serif\" font-size=\"14.00\">value = [11, 16]</text>\r\n",
       "<text text-anchor=\"middle\" x=\"1136\" y=\"-96.8\" font-family=\"Times New Roman,serif\" font-size=\"14.00\">class = y_yes</text>\r\n",
       "</g>\r\n",
       "<!-- 17&#45;&gt;18 -->\r\n",
       "<g id=\"edge18\" class=\"edge\"><title>17&#45;&gt;18</title>\r\n",
       "<path fill=\"none\" stroke=\"black\" d=\"M1177.2,-192.884C1172.08,-184.332 1166.51,-175.013 1161.16,-166.072\"/>\r\n",
       "<polygon fill=\"black\" stroke=\"black\" points=\"1164.05,-164.085 1155.91,-157.299 1158.04,-167.678 1164.05,-164.085\"/>\r\n",
       "</g>\r\n",
       "<!-- 21 -->\r\n",
       "<g id=\"node22\" class=\"node\"><title>21</title>\r\n",
       "<polygon fill=\"#e58139\" fill-opacity=\"0.486275\" stroke=\"black\" points=\"1311,-157 1207,-157 1207,-89 1311,-89 1311,-157\"/>\r\n",
       "<text text-anchor=\"middle\" x=\"1259\" y=\"-141.8\" font-family=\"Times New Roman,serif\" font-size=\"14.00\">day &lt;= 19.5</text>\r\n",
       "<text text-anchor=\"middle\" x=\"1259\" y=\"-126.8\" font-family=\"Times New Roman,serif\" font-size=\"14.00\">samples = 127</text>\r\n",
       "<text text-anchor=\"middle\" x=\"1259\" y=\"-111.8\" font-family=\"Times New Roman,serif\" font-size=\"14.00\">value = [84, 43]</text>\r\n",
       "<text text-anchor=\"middle\" x=\"1259\" y=\"-96.8\" font-family=\"Times New Roman,serif\" font-size=\"14.00\">class = y_no</text>\r\n",
       "</g>\r\n",
       "<!-- 17&#45;&gt;21 -->\r\n",
       "<g id=\"edge21\" class=\"edge\"><title>17&#45;&gt;21</title>\r\n",
       "<path fill=\"none\" stroke=\"black\" d=\"M1217.13,-192.884C1222.33,-184.332 1227.99,-175.013 1233.43,-166.072\"/>\r\n",
       "<polygon fill=\"black\" stroke=\"black\" points=\"1236.56,-167.663 1238.76,-157.299 1230.57,-164.027 1236.56,-167.663\"/>\r\n",
       "</g>\r\n",
       "<!-- 19 -->\r\n",
       "<g id=\"node20\" class=\"node\"><title>19</title>\r\n",
       "<polygon fill=\"#399de5\" fill-opacity=\"0.498039\" stroke=\"black\" points=\"1076,-53 978,-53 978,-0 1076,-0 1076,-53\"/>\r\n",
       "<text text-anchor=\"middle\" x=\"1027\" y=\"-37.8\" font-family=\"Times New Roman,serif\" font-size=\"14.00\">samples = 24</text>\r\n",
       "<text text-anchor=\"middle\" x=\"1027\" y=\"-22.8\" font-family=\"Times New Roman,serif\" font-size=\"14.00\">value = [8, 16]</text>\r\n",
       "<text text-anchor=\"middle\" x=\"1027\" y=\"-7.8\" font-family=\"Times New Roman,serif\" font-size=\"14.00\">class = y_yes</text>\r\n",
       "</g>\r\n",
       "<!-- 18&#45;&gt;19 -->\r\n",
       "<g id=\"edge19\" class=\"edge\"><title>18&#45;&gt;19</title>\r\n",
       "<path fill=\"none\" stroke=\"black\" d=\"M1097.88,-88.9485C1087.01,-79.526 1075.18,-69.2731 1064.36,-59.8906\"/>\r\n",
       "<polygon fill=\"black\" stroke=\"black\" points=\"1066.53,-57.1428 1056.69,-53.2367 1061.95,-62.4319 1066.53,-57.1428\"/>\r\n",
       "</g>\r\n",
       "<!-- 20 -->\r\n",
       "<g id=\"node21\" class=\"node\"><title>20</title>\r\n",
       "<polygon fill=\"#e58139\" stroke=\"black\" points=\"1185.5,-53 1094.5,-53 1094.5,-0 1185.5,-0 1185.5,-53\"/>\r\n",
       "<text text-anchor=\"middle\" x=\"1140\" y=\"-37.8\" font-family=\"Times New Roman,serif\" font-size=\"14.00\">samples = 3</text>\r\n",
       "<text text-anchor=\"middle\" x=\"1140\" y=\"-22.8\" font-family=\"Times New Roman,serif\" font-size=\"14.00\">value = [3, 0]</text>\r\n",
       "<text text-anchor=\"middle\" x=\"1140\" y=\"-7.8\" font-family=\"Times New Roman,serif\" font-size=\"14.00\">class = y_no</text>\r\n",
       "</g>\r\n",
       "<!-- 18&#45;&gt;20 -->\r\n",
       "<g id=\"edge20\" class=\"edge\"><title>18&#45;&gt;20</title>\r\n",
       "<path fill=\"none\" stroke=\"black\" d=\"M1137.4,-88.9485C1137.75,-80.7153 1138.12,-71.848 1138.48,-63.4814\"/>\r\n",
       "<polygon fill=\"black\" stroke=\"black\" points=\"1141.98,-63.3758 1138.91,-53.2367 1134.99,-63.0797 1141.98,-63.3758\"/>\r\n",
       "</g>\r\n",
       "<!-- 22 -->\r\n",
       "<g id=\"node23\" class=\"node\"><title>22</title>\r\n",
       "<polygon fill=\"#e58139\" fill-opacity=\"0.701961\" stroke=\"black\" points=\"1308,-53 1204,-53 1204,-0 1308,-0 1308,-53\"/>\r\n",
       "<text text-anchor=\"middle\" x=\"1256\" y=\"-37.8\" font-family=\"Times New Roman,serif\" font-size=\"14.00\">samples = 70</text>\r\n",
       "<text text-anchor=\"middle\" x=\"1256\" y=\"-22.8\" font-family=\"Times New Roman,serif\" font-size=\"14.00\">value = [54, 16]</text>\r\n",
       "<text text-anchor=\"middle\" x=\"1256\" y=\"-7.8\" font-family=\"Times New Roman,serif\" font-size=\"14.00\">class = y_no</text>\r\n",
       "</g>\r\n",
       "<!-- 21&#45;&gt;22 -->\r\n",
       "<g id=\"edge22\" class=\"edge\"><title>21&#45;&gt;22</title>\r\n",
       "<path fill=\"none\" stroke=\"black\" d=\"M1257.95,-88.9485C1257.69,-80.7153 1257.41,-71.848 1257.14,-63.4814\"/>\r\n",
       "<polygon fill=\"black\" stroke=\"black\" points=\"1260.63,-63.1206 1256.82,-53.2367 1253.64,-63.3428 1260.63,-63.1206\"/>\r\n",
       "</g>\r\n",
       "<!-- 23 -->\r\n",
       "<g id=\"node24\" class=\"node\"><title>23</title>\r\n",
       "<polygon fill=\"#e58139\" fill-opacity=\"0.098039\" stroke=\"black\" points=\"1430,-53 1326,-53 1326,-0 1430,-0 1430,-53\"/>\r\n",
       "<text text-anchor=\"middle\" x=\"1378\" y=\"-37.8\" font-family=\"Times New Roman,serif\" font-size=\"14.00\">samples = 57</text>\r\n",
       "<text text-anchor=\"middle\" x=\"1378\" y=\"-22.8\" font-family=\"Times New Roman,serif\" font-size=\"14.00\">value = [30, 27]</text>\r\n",
       "<text text-anchor=\"middle\" x=\"1378\" y=\"-7.8\" font-family=\"Times New Roman,serif\" font-size=\"14.00\">class = y_no</text>\r\n",
       "</g>\r\n",
       "<!-- 21&#45;&gt;23 -->\r\n",
       "<g id=\"edge23\" class=\"edge\"><title>21&#45;&gt;23</title>\r\n",
       "<path fill=\"none\" stroke=\"black\" d=\"M1300.62,-88.9485C1312.6,-79.4346 1325.65,-69.074 1337.56,-59.6175\"/>\r\n",
       "<polygon fill=\"black\" stroke=\"black\" points=\"1339.94,-62.1965 1345.59,-53.2367 1335.58,-56.7147 1339.94,-62.1965\"/>\r\n",
       "</g>\r\n",
       "<!-- 25 -->\r\n",
       "<g id=\"node26\" class=\"node\"><title>25</title>\r\n",
       "<polygon fill=\"#399de5\" fill-opacity=\"0.588235\" stroke=\"black\" points=\"1608.5,-157 1489.5,-157 1489.5,-89 1608.5,-89 1608.5,-157\"/>\r\n",
       "<text text-anchor=\"middle\" x=\"1549\" y=\"-141.8\" font-family=\"Times New Roman,serif\" font-size=\"14.00\">job_retired &lt;= 0.5</text>\r\n",
       "<text text-anchor=\"middle\" x=\"1549\" y=\"-126.8\" font-family=\"Times New Roman,serif\" font-size=\"14.00\">samples = 86</text>\r\n",
       "<text text-anchor=\"middle\" x=\"1549\" y=\"-111.8\" font-family=\"Times New Roman,serif\" font-size=\"14.00\">value = [25, 61]</text>\r\n",
       "<text text-anchor=\"middle\" x=\"1549\" y=\"-96.8\" font-family=\"Times New Roman,serif\" font-size=\"14.00\">class = y_yes</text>\r\n",
       "</g>\r\n",
       "<!-- 24&#45;&gt;25 -->\r\n",
       "<g id=\"edge25\" class=\"edge\"><title>24&#45;&gt;25</title>\r\n",
       "<path fill=\"none\" stroke=\"black\" d=\"M1549,-192.884C1549,-184.778 1549,-175.982 1549,-167.472\"/>\r\n",
       "<polygon fill=\"black\" stroke=\"black\" points=\"1552.5,-167.299 1549,-157.299 1545.5,-167.299 1552.5,-167.299\"/>\r\n",
       "</g>\r\n",
       "<!-- 28 -->\r\n",
       "<g id=\"node29\" class=\"node\"><title>28</title>\r\n",
       "<polygon fill=\"#e58139\" fill-opacity=\"0.015686\" stroke=\"black\" points=\"1787.5,-157 1676.5,-157 1676.5,-89 1787.5,-89 1787.5,-157\"/>\r\n",
       "<text text-anchor=\"middle\" x=\"1732\" y=\"-141.8\" font-family=\"Times New Roman,serif\" font-size=\"14.00\">campaign &lt;= 3.5</text>\r\n",
       "<text text-anchor=\"middle\" x=\"1732\" y=\"-126.8\" font-family=\"Times New Roman,serif\" font-size=\"14.00\">samples = 119</text>\r\n",
       "<text text-anchor=\"middle\" x=\"1732\" y=\"-111.8\" font-family=\"Times New Roman,serif\" font-size=\"14.00\">value = [60, 59]</text>\r\n",
       "<text text-anchor=\"middle\" x=\"1732\" y=\"-96.8\" font-family=\"Times New Roman,serif\" font-size=\"14.00\">class = y_no</text>\r\n",
       "</g>\r\n",
       "<!-- 24&#45;&gt;28 -->\r\n",
       "<g id=\"edge28\" class=\"edge\"><title>24&#45;&gt;28</title>\r\n",
       "<path fill=\"none\" stroke=\"black\" d=\"M1608.41,-192.884C1627.24,-182.388 1648.15,-170.736 1667.33,-160.045\"/>\r\n",
       "<polygon fill=\"black\" stroke=\"black\" points=\"1669.27,-162.972 1676.3,-155.046 1665.86,-156.858 1669.27,-162.972\"/>\r\n",
       "</g>\r\n",
       "<!-- 26 -->\r\n",
       "<g id=\"node27\" class=\"node\"><title>26</title>\r\n",
       "<polygon fill=\"#399de5\" fill-opacity=\"0.701961\" stroke=\"black\" points=\"1552,-53 1448,-53 1448,-0 1552,-0 1552,-53\"/>\r\n",
       "<text text-anchor=\"middle\" x=\"1500\" y=\"-37.8\" font-family=\"Times New Roman,serif\" font-size=\"14.00\">samples = 78</text>\r\n",
       "<text text-anchor=\"middle\" x=\"1500\" y=\"-22.8\" font-family=\"Times New Roman,serif\" font-size=\"14.00\">value = [18, 60]</text>\r\n",
       "<text text-anchor=\"middle\" x=\"1500\" y=\"-7.8\" font-family=\"Times New Roman,serif\" font-size=\"14.00\">class = y_yes</text>\r\n",
       "</g>\r\n",
       "<!-- 25&#45;&gt;26 -->\r\n",
       "<g id=\"edge26\" class=\"edge\"><title>25&#45;&gt;26</title>\r\n",
       "<path fill=\"none\" stroke=\"black\" d=\"M1531.86,-88.9485C1527.4,-80.3494 1522.59,-71.0586 1518.08,-62.3689\"/>\r\n",
       "<polygon fill=\"black\" stroke=\"black\" points=\"1521.06,-60.5031 1513.34,-53.2367 1514.84,-63.7254 1521.06,-60.5031\"/>\r\n",
       "</g>\r\n",
       "<!-- 27 -->\r\n",
       "<g id=\"node28\" class=\"node\"><title>27</title>\r\n",
       "<polygon fill=\"#e58139\" fill-opacity=\"0.858824\" stroke=\"black\" points=\"1661.5,-53 1570.5,-53 1570.5,-0 1661.5,-0 1661.5,-53\"/>\r\n",
       "<text text-anchor=\"middle\" x=\"1616\" y=\"-37.8\" font-family=\"Times New Roman,serif\" font-size=\"14.00\">samples = 8</text>\r\n",
       "<text text-anchor=\"middle\" x=\"1616\" y=\"-22.8\" font-family=\"Times New Roman,serif\" font-size=\"14.00\">value = [7, 1]</text>\r\n",
       "<text text-anchor=\"middle\" x=\"1616\" y=\"-7.8\" font-family=\"Times New Roman,serif\" font-size=\"14.00\">class = y_no</text>\r\n",
       "</g>\r\n",
       "<!-- 25&#45;&gt;27 -->\r\n",
       "<g id=\"edge27\" class=\"edge\"><title>25&#45;&gt;27</title>\r\n",
       "<path fill=\"none\" stroke=\"black\" d=\"M1572.43,-88.9485C1578.72,-80.0749 1585.54,-70.4648 1591.87,-61.5388\"/>\r\n",
       "<polygon fill=\"black\" stroke=\"black\" points=\"1594.82,-63.4188 1597.75,-53.2367 1589.11,-59.3701 1594.82,-63.4188\"/>\r\n",
       "</g>\r\n",
       "<!-- 29 -->\r\n",
       "<g id=\"node30\" class=\"node\"><title>29</title>\r\n",
       "<polygon fill=\"#399de5\" fill-opacity=\"0.196078\" stroke=\"black\" points=\"1784,-53 1680,-53 1680,-0 1784,-0 1784,-53\"/>\r\n",
       "<text text-anchor=\"middle\" x=\"1732\" y=\"-37.8\" font-family=\"Times New Roman,serif\" font-size=\"14.00\">samples = 92</text>\r\n",
       "<text text-anchor=\"middle\" x=\"1732\" y=\"-22.8\" font-family=\"Times New Roman,serif\" font-size=\"14.00\">value = [41, 51]</text>\r\n",
       "<text text-anchor=\"middle\" x=\"1732\" y=\"-7.8\" font-family=\"Times New Roman,serif\" font-size=\"14.00\">class = y_yes</text>\r\n",
       "</g>\r\n",
       "<!-- 28&#45;&gt;29 -->\r\n",
       "<g id=\"edge29\" class=\"edge\"><title>28&#45;&gt;29</title>\r\n",
       "<path fill=\"none\" stroke=\"black\" d=\"M1732,-88.9485C1732,-80.7153 1732,-71.848 1732,-63.4814\"/>\r\n",
       "<polygon fill=\"black\" stroke=\"black\" points=\"1735.5,-63.2367 1732,-53.2367 1728.5,-63.2367 1735.5,-63.2367\"/>\r\n",
       "</g>\r\n",
       "<!-- 30 -->\r\n",
       "<g id=\"node31\" class=\"node\"><title>30</title>\r\n",
       "<polygon fill=\"#e58139\" fill-opacity=\"0.580392\" stroke=\"black\" points=\"1900,-53 1802,-53 1802,-0 1900,-0 1900,-53\"/>\r\n",
       "<text text-anchor=\"middle\" x=\"1851\" y=\"-37.8\" font-family=\"Times New Roman,serif\" font-size=\"14.00\">samples = 27</text>\r\n",
       "<text text-anchor=\"middle\" x=\"1851\" y=\"-22.8\" font-family=\"Times New Roman,serif\" font-size=\"14.00\">value = [19, 8]</text>\r\n",
       "<text text-anchor=\"middle\" x=\"1851\" y=\"-7.8\" font-family=\"Times New Roman,serif\" font-size=\"14.00\">class = y_no</text>\r\n",
       "</g>\r\n",
       "<!-- 28&#45;&gt;30 -->\r\n",
       "<g id=\"edge30\" class=\"edge\"><title>28&#45;&gt;30</title>\r\n",
       "<path fill=\"none\" stroke=\"black\" d=\"M1773.62,-88.9485C1785.6,-79.4346 1798.65,-69.074 1810.56,-59.6175\"/>\r\n",
       "<polygon fill=\"black\" stroke=\"black\" points=\"1812.94,-62.1965 1818.59,-53.2367 1808.58,-56.7147 1812.94,-62.1965\"/>\r\n",
       "</g>\r\n",
       "</g>\r\n",
       "</svg>\r\n"
      ],
      "text/plain": [
       "<graphviz.files.Source at 0x1d266fc96d8>"
      ]
     },
     "metadata": {},
     "output_type": "display_data"
    },
    {
     "data": {
      "text/plain": [
       "None"
      ]
     },
     "metadata": {},
     "output_type": "display_data"
    }
   ],
   "source": [
    "export_graphviz(model, out_file='bank.dot', class_names=['y_no','y_yes'],\n",
    "               feature_names=x.columns, impurity=False, filled=True)\n",
    "with open('bank.dot') as f:\n",
    "    dot_graph = f.read()\n",
    "display(display(graphviz.Source(dot_graph)))"
   ]
  }
 ],
 "metadata": {
  "kernelspec": {
   "display_name": "Python 3",
   "language": "python",
   "name": "python3"
  },
  "language_info": {
   "codemirror_mode": {
    "name": "ipython",
    "version": 3
   },
   "file_extension": ".py",
   "mimetype": "text/x-python",
   "name": "python",
   "nbconvert_exporter": "python",
   "pygments_lexer": "ipython3",
   "version": "3.7.3"
  }
 },
 "nbformat": 4,
 "nbformat_minor": 2
}
