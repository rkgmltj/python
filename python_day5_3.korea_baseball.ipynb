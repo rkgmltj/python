{
 "cells": [
  {
   "cell_type": "markdown",
   "metadata": {},
   "source": [
    "KB Report 에서 오른쪽 위 표 데이터 가져와서 출력하기\n",
    "- http://www.kbreport.com/main"
   ]
  },
  {
   "cell_type": "code",
   "execution_count": 2,
   "metadata": {},
   "outputs": [],
   "source": [
    "import numpy as np\n",
    "import pandas as pd\n",
    "import matplotlib.pyplot as plt"
   ]
  },
  {
   "cell_type": "code",
   "execution_count": 7,
   "metadata": {},
   "outputs": [
    {
     "data": {
      "text/plain": [
       "2"
      ]
     },
     "execution_count": 7,
     "metadata": {},
     "output_type": "execute_result"
    }
   ],
   "source": [
    "url = 'http://www.kbreport.com/teams/main'\n",
    "url = 'file:///C:/Users/wtime/Downloads/팀 타격메인기록 _ KBReport.html'\n",
    "tables = pd.read_html(url, index_col=1) #1번째 컬럼이 인덱스다\n",
    "len(tables)"
   ]
  },
  {
   "cell_type": "code",
   "execution_count": 8,
   "metadata": {},
   "outputs": [
    {
     "data": {
      "text/plain": [
       "(11, 20)"
      ]
     },
     "execution_count": 8,
     "metadata": {},
     "output_type": "execute_result"
    }
   ],
   "source": [
    "baseball = tables[0]\n",
    "baseball.shape"
   ]
  },
  {
   "cell_type": "code",
   "execution_count": 11,
   "metadata": {},
   "outputs": [],
   "source": [
    "data = baseball.iloc[:-1]"
   ]
  },
  {
   "cell_type": "code",
   "execution_count": 41,
   "metadata": {},
   "outputs": [
    {
     "data": {
      "text/html": [
       "<div>\n",
       "<style scoped>\n",
       "    .dataframe tbody tr th:only-of-type {\n",
       "        vertical-align: middle;\n",
       "    }\n",
       "\n",
       "    .dataframe tbody tr th {\n",
       "        vertical-align: top;\n",
       "    }\n",
       "\n",
       "    .dataframe thead th {\n",
       "        text-align: right;\n",
       "    }\n",
       "</style>\n",
       "<table border=\"1\" class=\"dataframe\">\n",
       "  <thead>\n",
       "    <tr style=\"text-align: right;\">\n",
       "      <th></th>\n",
       "      <th>#</th>\n",
       "      <th>경기</th>\n",
       "      <th>승</th>\n",
       "      <th>무</th>\n",
       "      <th>패</th>\n",
       "      <th>승률</th>\n",
       "      <th>기대승률</th>\n",
       "      <th>R/G</th>\n",
       "      <th>득점</th>\n",
       "      <th>홈런</th>\n",
       "      <th>도루</th>\n",
       "      <th>볼넷%</th>\n",
       "      <th>삼진%</th>\n",
       "      <th>BABIP</th>\n",
       "      <th>타율</th>\n",
       "      <th>출루율</th>\n",
       "      <th>장타율</th>\n",
       "      <th>OPS</th>\n",
       "      <th>wOBA</th>\n",
       "      <th>WAR</th>\n",
       "    </tr>\n",
       "    <tr>\n",
       "      <th>팀명</th>\n",
       "      <th></th>\n",
       "      <th></th>\n",
       "      <th></th>\n",
       "      <th></th>\n",
       "      <th></th>\n",
       "      <th></th>\n",
       "      <th></th>\n",
       "      <th></th>\n",
       "      <th></th>\n",
       "      <th></th>\n",
       "      <th></th>\n",
       "      <th></th>\n",
       "      <th></th>\n",
       "      <th></th>\n",
       "      <th></th>\n",
       "      <th></th>\n",
       "      <th></th>\n",
       "      <th></th>\n",
       "      <th></th>\n",
       "      <th></th>\n",
       "    </tr>\n",
       "  </thead>\n",
       "  <tbody>\n",
       "    <tr>\n",
       "      <th>SK</th>\n",
       "      <td>1.0</td>\n",
       "      <td>77</td>\n",
       "      <td>51</td>\n",
       "      <td>1</td>\n",
       "      <td>25</td>\n",
       "      <td>0.671</td>\n",
       "      <td>0.606</td>\n",
       "      <td>4.70</td>\n",
       "      <td>362</td>\n",
       "      <td>69</td>\n",
       "      <td>56</td>\n",
       "      <td>8.5</td>\n",
       "      <td>17.7</td>\n",
       "      <td>0.303</td>\n",
       "      <td>0.263</td>\n",
       "      <td>0.337</td>\n",
       "      <td>0.387</td>\n",
       "      <td>0.724</td>\n",
       "      <td>0.329</td>\n",
       "      <td>8.69</td>\n",
       "    </tr>\n",
       "    <tr>\n",
       "      <th>두산</th>\n",
       "      <td>2.0</td>\n",
       "      <td>78</td>\n",
       "      <td>48</td>\n",
       "      <td>0</td>\n",
       "      <td>30</td>\n",
       "      <td>0.615</td>\n",
       "      <td>0.625</td>\n",
       "      <td>5.03</td>\n",
       "      <td>392</td>\n",
       "      <td>47</td>\n",
       "      <td>52</td>\n",
       "      <td>11.3</td>\n",
       "      <td>15.5</td>\n",
       "      <td>0.313</td>\n",
       "      <td>0.273</td>\n",
       "      <td>0.361</td>\n",
       "      <td>0.390</td>\n",
       "      <td>0.751</td>\n",
       "      <td>0.346</td>\n",
       "      <td>14.22</td>\n",
       "    </tr>\n",
       "    <tr>\n",
       "      <th>LG</th>\n",
       "      <td>3.0</td>\n",
       "      <td>76</td>\n",
       "      <td>43</td>\n",
       "      <td>1</td>\n",
       "      <td>32</td>\n",
       "      <td>0.573</td>\n",
       "      <td>0.522</td>\n",
       "      <td>4.25</td>\n",
       "      <td>323</td>\n",
       "      <td>48</td>\n",
       "      <td>55</td>\n",
       "      <td>8.1</td>\n",
       "      <td>17.0</td>\n",
       "      <td>0.303</td>\n",
       "      <td>0.260</td>\n",
       "      <td>0.329</td>\n",
       "      <td>0.368</td>\n",
       "      <td>0.697</td>\n",
       "      <td>0.318</td>\n",
       "      <td>5.22</td>\n",
       "    </tr>\n",
       "    <tr>\n",
       "      <th>Hero</th>\n",
       "      <td>4.0</td>\n",
       "      <td>79</td>\n",
       "      <td>45</td>\n",
       "      <td>0</td>\n",
       "      <td>34</td>\n",
       "      <td>0.570</td>\n",
       "      <td>0.597</td>\n",
       "      <td>5.34</td>\n",
       "      <td>422</td>\n",
       "      <td>59</td>\n",
       "      <td>57</td>\n",
       "      <td>9.3</td>\n",
       "      <td>17.2</td>\n",
       "      <td>0.326</td>\n",
       "      <td>0.280</td>\n",
       "      <td>0.353</td>\n",
       "      <td>0.409</td>\n",
       "      <td>0.762</td>\n",
       "      <td>0.346</td>\n",
       "      <td>14.43</td>\n",
       "    </tr>\n",
       "    <tr>\n",
       "      <th>NC</th>\n",
       "      <td>5.0</td>\n",
       "      <td>76</td>\n",
       "      <td>37</td>\n",
       "      <td>0</td>\n",
       "      <td>39</td>\n",
       "      <td>0.487</td>\n",
       "      <td>0.486</td>\n",
       "      <td>4.64</td>\n",
       "      <td>353</td>\n",
       "      <td>71</td>\n",
       "      <td>37</td>\n",
       "      <td>7.7</td>\n",
       "      <td>16.9</td>\n",
       "      <td>0.318</td>\n",
       "      <td>0.279</td>\n",
       "      <td>0.343</td>\n",
       "      <td>0.419</td>\n",
       "      <td>0.762</td>\n",
       "      <td>0.342</td>\n",
       "      <td>11.71</td>\n",
       "    </tr>\n",
       "    <tr>\n",
       "      <th>삼성</th>\n",
       "      <td>6.0</td>\n",
       "      <td>76</td>\n",
       "      <td>33</td>\n",
       "      <td>0</td>\n",
       "      <td>43</td>\n",
       "      <td>0.434</td>\n",
       "      <td>0.480</td>\n",
       "      <td>4.66</td>\n",
       "      <td>353</td>\n",
       "      <td>68</td>\n",
       "      <td>58</td>\n",
       "      <td>8.6</td>\n",
       "      <td>18.0</td>\n",
       "      <td>0.308</td>\n",
       "      <td>0.266</td>\n",
       "      <td>0.337</td>\n",
       "      <td>0.406</td>\n",
       "      <td>0.743</td>\n",
       "      <td>0.334</td>\n",
       "      <td>10.41</td>\n",
       "    </tr>\n",
       "    <tr>\n",
       "      <th>KIA</th>\n",
       "      <td>7.0</td>\n",
       "      <td>76</td>\n",
       "      <td>32</td>\n",
       "      <td>1</td>\n",
       "      <td>43</td>\n",
       "      <td>0.427</td>\n",
       "      <td>0.433</td>\n",
       "      <td>4.47</td>\n",
       "      <td>340</td>\n",
       "      <td>41</td>\n",
       "      <td>50</td>\n",
       "      <td>9.5</td>\n",
       "      <td>17.0</td>\n",
       "      <td>0.317</td>\n",
       "      <td>0.269</td>\n",
       "      <td>0.345</td>\n",
       "      <td>0.381</td>\n",
       "      <td>0.726</td>\n",
       "      <td>0.333</td>\n",
       "      <td>9.65</td>\n",
       "    </tr>\n",
       "    <tr>\n",
       "      <th>KT</th>\n",
       "      <td>8.0</td>\n",
       "      <td>78</td>\n",
       "      <td>33</td>\n",
       "      <td>0</td>\n",
       "      <td>45</td>\n",
       "      <td>0.423</td>\n",
       "      <td>0.411</td>\n",
       "      <td>4.27</td>\n",
       "      <td>333</td>\n",
       "      <td>52</td>\n",
       "      <td>52</td>\n",
       "      <td>8.7</td>\n",
       "      <td>18.3</td>\n",
       "      <td>0.319</td>\n",
       "      <td>0.269</td>\n",
       "      <td>0.338</td>\n",
       "      <td>0.369</td>\n",
       "      <td>0.707</td>\n",
       "      <td>0.325</td>\n",
       "      <td>7.44</td>\n",
       "    </tr>\n",
       "    <tr>\n",
       "      <th>한화</th>\n",
       "      <td>9.0</td>\n",
       "      <td>76</td>\n",
       "      <td>31</td>\n",
       "      <td>0</td>\n",
       "      <td>45</td>\n",
       "      <td>0.408</td>\n",
       "      <td>0.443</td>\n",
       "      <td>4.45</td>\n",
       "      <td>338</td>\n",
       "      <td>51</td>\n",
       "      <td>67</td>\n",
       "      <td>9.1</td>\n",
       "      <td>21.2</td>\n",
       "      <td>0.305</td>\n",
       "      <td>0.249</td>\n",
       "      <td>0.325</td>\n",
       "      <td>0.363</td>\n",
       "      <td>0.688</td>\n",
       "      <td>0.315</td>\n",
       "      <td>4.62</td>\n",
       "    </tr>\n",
       "    <tr>\n",
       "      <th>롯데</th>\n",
       "      <td>10.0</td>\n",
       "      <td>76</td>\n",
       "      <td>29</td>\n",
       "      <td>1</td>\n",
       "      <td>46</td>\n",
       "      <td>0.387</td>\n",
       "      <td>0.420</td>\n",
       "      <td>4.78</td>\n",
       "      <td>363</td>\n",
       "      <td>47</td>\n",
       "      <td>39</td>\n",
       "      <td>9.0</td>\n",
       "      <td>19.1</td>\n",
       "      <td>0.314</td>\n",
       "      <td>0.261</td>\n",
       "      <td>0.336</td>\n",
       "      <td>0.363</td>\n",
       "      <td>0.699</td>\n",
       "      <td>0.323</td>\n",
       "      <td>6.77</td>\n",
       "    </tr>\n",
       "  </tbody>\n",
       "</table>\n",
       "</div>"
      ],
      "text/plain": [
       "         #  경기   승  무   패     승률   기대승률   R/G   득점  홈런  도루   볼넷%   삼진%  BABIP  \\\n",
       "팀명                                                                              \n",
       "SK     1.0  77  51  1  25  0.671  0.606  4.70  362  69  56   8.5  17.7  0.303   \n",
       "두산     2.0  78  48  0  30  0.615  0.625  5.03  392  47  52  11.3  15.5  0.313   \n",
       "LG     3.0  76  43  1  32  0.573  0.522  4.25  323  48  55   8.1  17.0  0.303   \n",
       "Hero   4.0  79  45  0  34  0.570  0.597  5.34  422  59  57   9.3  17.2  0.326   \n",
       "NC     5.0  76  37  0  39  0.487  0.486  4.64  353  71  37   7.7  16.9  0.318   \n",
       "삼성     6.0  76  33  0  43  0.434  0.480  4.66  353  68  58   8.6  18.0  0.308   \n",
       "KIA    7.0  76  32  1  43  0.427  0.433  4.47  340  41  50   9.5  17.0  0.317   \n",
       "KT     8.0  78  33  0  45  0.423  0.411  4.27  333  52  52   8.7  18.3  0.319   \n",
       "한화     9.0  76  31  0  45  0.408  0.443  4.45  338  51  67   9.1  21.2  0.305   \n",
       "롯데    10.0  76  29  1  46  0.387  0.420  4.78  363  47  39   9.0  19.1  0.314   \n",
       "\n",
       "         타율    출루율    장타율    OPS   wOBA    WAR  \n",
       "팀명                                              \n",
       "SK    0.263  0.337  0.387  0.724  0.329   8.69  \n",
       "두산    0.273  0.361  0.390  0.751  0.346  14.22  \n",
       "LG    0.260  0.329  0.368  0.697  0.318   5.22  \n",
       "Hero  0.280  0.353  0.409  0.762  0.346  14.43  \n",
       "NC    0.279  0.343  0.419  0.762  0.342  11.71  \n",
       "삼성    0.266  0.337  0.406  0.743  0.334  10.41  \n",
       "KIA   0.269  0.345  0.381  0.726  0.333   9.65  \n",
       "KT    0.269  0.338  0.369  0.707  0.325   7.44  \n",
       "한화    0.249  0.325  0.363  0.688  0.315   4.62  \n",
       "롯데    0.261  0.336  0.363  0.699  0.323   6.77  "
      ]
     },
     "execution_count": 41,
     "metadata": {},
     "output_type": "execute_result"
    }
   ],
   "source": [
    "data"
   ]
  },
  {
   "cell_type": "code",
   "execution_count": 13,
   "metadata": {},
   "outputs": [
    {
     "name": "stdout",
     "output_type": "stream",
     "text": [
      "<class 'pandas.core.frame.DataFrame'>\n",
      "Index: 10 entries, SK to 롯데\n",
      "Data columns (total 20 columns):\n",
      "#        10 non-null float64\n",
      "경기       10 non-null int64\n",
      "승        10 non-null int64\n",
      "무        10 non-null int64\n",
      "패        10 non-null int64\n",
      "승률       10 non-null object\n",
      "기대승률     10 non-null object\n",
      "R/G      10 non-null float64\n",
      "득점       10 non-null int64\n",
      "홈런       10 non-null int64\n",
      "도루       10 non-null int64\n",
      "볼넷%      10 non-null float64\n",
      "삼진%      10 non-null float64\n",
      "BABIP    10 non-null float64\n",
      "타율       10 non-null float64\n",
      "출루율      10 non-null float64\n",
      "장타율      10 non-null float64\n",
      "OPS      10 non-null float64\n",
      "wOBA     10 non-null float64\n",
      "WAR      10 non-null float64\n",
      "dtypes: float64(11), int64(7), object(2)\n",
      "memory usage: 1.6+ KB\n"
     ]
    }
   ],
   "source": [
    "data.info() #object 로 잡혀있는 항목 있는지 확인"
   ]
  },
  {
   "cell_type": "code",
   "execution_count": 17,
   "metadata": {},
   "outputs": [
    {
     "data": {
      "text/plain": [
       "팀명\n",
       "SK      0.606\n",
       "두산      0.625\n",
       "LG      0.522\n",
       "Hero    0.597\n",
       "NC      0.486\n",
       "삼성      0.480\n",
       "KIA     0.433\n",
       "KT      0.411\n",
       "한화      0.443\n",
       "롯데      0.420\n",
       "Name: 기대승률, dtype: object"
      ]
     },
     "execution_count": 17,
     "metadata": {},
     "output_type": "execute_result"
    }
   ],
   "source": [
    "data.기대승률"
   ]
  },
  {
   "cell_type": "code",
   "execution_count": 54,
   "metadata": {},
   "outputs": [],
   "source": [
    "#data['승률'] = data['승률'].astype('float') # 타입변경\n",
    "#data['기대승률'] = data['기대승률'].astype('float') # 타입변경\n",
    "\n",
    "data.loc[:,'승률'] = data['승률'].astype('float') # 타입변경\n",
    "data.loc[:,'기대승률'] = data['기대승률'].astype('float') # 타입변경"
   ]
  },
  {
   "cell_type": "code",
   "execution_count": 55,
   "metadata": {},
   "outputs": [
    {
     "name": "stdout",
     "output_type": "stream",
     "text": [
      "<class 'pandas.core.frame.DataFrame'>\n",
      "Index: 10 entries, SK to 롯데\n",
      "Data columns (total 20 columns):\n",
      "#        10 non-null float64\n",
      "경기       10 non-null int64\n",
      "승        10 non-null int64\n",
      "무        10 non-null int64\n",
      "패        10 non-null int64\n",
      "승률       10 non-null float64\n",
      "기대승률     10 non-null float64\n",
      "R/G      10 non-null float64\n",
      "득점       10 non-null int64\n",
      "홈런       10 non-null int64\n",
      "도루       10 non-null int64\n",
      "볼넷%      10 non-null float64\n",
      "삼진%      10 non-null float64\n",
      "BABIP    10 non-null float64\n",
      "타율       10 non-null float64\n",
      "출루율      10 non-null float64\n",
      "장타율      10 non-null float64\n",
      "OPS      10 non-null float64\n",
      "wOBA     10 non-null float64\n",
      "WAR      10 non-null float64\n",
      "dtypes: float64(13), int64(7)\n",
      "memory usage: 2.0+ KB\n"
     ]
    }
   ],
   "source": [
    "data.info()"
   ]
  },
  {
   "cell_type": "markdown",
   "metadata": {},
   "source": [
    "- 승률을 bar 그래프로\n",
    "- 승률과 홈런의 관계는?\n",
    "- 팀별 득점 점수\n",
    "- 승률과 실점의 관계\n",
    "- 나의 홈팀과 가장 유사한 성격의 팀을 찾아라"
   ]
  },
  {
   "cell_type": "code",
   "execution_count": 47,
   "metadata": {},
   "outputs": [
    {
     "data": {
      "text/plain": [
       "<matplotlib.legend.Legend at 0x1ac803e72b0>"
      ]
     },
     "execution_count": 47,
     "metadata": {},
     "output_type": "execute_result"
    },
    {
     "data": {
      "image/png": "[encoded data removed]",
      "text/plain": [
       "<Figure size 432x288 with 1 Axes>"
      ]
     },
     "metadata": {
      "needs_background": "light"
     },
     "output_type": "display_data"
    }
   ],
   "source": [
    "plt.rc('font', family='Malgun Gothic')\n",
    "plt.barh(data.index, data['홈런']/data['홈런'].max(), label='홈런') # barh(x,y)\n",
    "plt.barh(data.index, -data['승률']/data['승률'].max(), alpha=0.5, label='승률')\n",
    "plt.legend()"
   ]
  },
  {
   "cell_type": "code",
   "execution_count": 48,
   "metadata": {},
   "outputs": [],
   "source": [
    "data = baseball.iloc[:-1]"
   ]
  },
  {
   "cell_type": "code",
   "execution_count": 49,
   "metadata": {},
   "outputs": [
    {
     "data": {
      "text/html": [
       "<div>\n",
       "<style scoped>\n",
       "    .dataframe tbody tr th:only-of-type {\n",
       "        vertical-align: middle;\n",
       "    }\n",
       "\n",
       "    .dataframe tbody tr th {\n",
       "        vertical-align: top;\n",
       "    }\n",
       "\n",
       "    .dataframe thead th {\n",
       "        text-align: right;\n",
       "    }\n",
       "</style>\n",
       "<table border=\"1\" class=\"dataframe\">\n",
       "  <thead>\n",
       "    <tr style=\"text-align: right;\">\n",
       "      <th></th>\n",
       "      <th>#</th>\n",
       "      <th>경기</th>\n",
       "      <th>승</th>\n",
       "      <th>무</th>\n",
       "      <th>패</th>\n",
       "      <th>승률</th>\n",
       "      <th>기대승률</th>\n",
       "      <th>R/G</th>\n",
       "      <th>득점</th>\n",
       "      <th>홈런</th>\n",
       "      <th>도루</th>\n",
       "      <th>볼넷%</th>\n",
       "      <th>삼진%</th>\n",
       "      <th>BABIP</th>\n",
       "      <th>타율</th>\n",
       "      <th>출루율</th>\n",
       "      <th>장타율</th>\n",
       "      <th>OPS</th>\n",
       "      <th>wOBA</th>\n",
       "      <th>WAR</th>\n",
       "    </tr>\n",
       "    <tr>\n",
       "      <th>팀명</th>\n",
       "      <th></th>\n",
       "      <th></th>\n",
       "      <th></th>\n",
       "      <th></th>\n",
       "      <th></th>\n",
       "      <th></th>\n",
       "      <th></th>\n",
       "      <th></th>\n",
       "      <th></th>\n",
       "      <th></th>\n",
       "      <th></th>\n",
       "      <th></th>\n",
       "      <th></th>\n",
       "      <th></th>\n",
       "      <th></th>\n",
       "      <th></th>\n",
       "      <th></th>\n",
       "      <th></th>\n",
       "      <th></th>\n",
       "      <th></th>\n",
       "    </tr>\n",
       "  </thead>\n",
       "  <tbody>\n",
       "    <tr>\n",
       "      <th>SK</th>\n",
       "      <td>1.0</td>\n",
       "      <td>77</td>\n",
       "      <td>51</td>\n",
       "      <td>1</td>\n",
       "      <td>25</td>\n",
       "      <td>0.671</td>\n",
       "      <td>0.606</td>\n",
       "      <td>4.7</td>\n",
       "      <td>362</td>\n",
       "      <td>69</td>\n",
       "      <td>56</td>\n",
       "      <td>8.5</td>\n",
       "      <td>17.7</td>\n",
       "      <td>0.303</td>\n",
       "      <td>0.263</td>\n",
       "      <td>0.337</td>\n",
       "      <td>0.387</td>\n",
       "      <td>0.724</td>\n",
       "      <td>0.329</td>\n",
       "      <td>8.69</td>\n",
       "    </tr>\n",
       "  </tbody>\n",
       "</table>\n",
       "</div>"
      ],
      "text/plain": [
       "      #  경기   승  무   패     승률   기대승률  R/G   득점  홈런  도루  볼넷%   삼진%  BABIP  \\\n",
       "팀명                                                                         \n",
       "SK  1.0  77  51  1  25  0.671  0.606  4.7  362  69  56  8.5  17.7  0.303   \n",
       "\n",
       "       타율    출루율    장타율    OPS   wOBA   WAR  \n",
       "팀명                                           \n",
       "SK  0.263  0.337  0.387  0.724  0.329  8.69  "
      ]
     },
     "execution_count": 49,
     "metadata": {},
     "output_type": "execute_result"
    }
   ],
   "source": [
    "data.head(1)"
   ]
  },
  {
   "cell_type": "code",
   "execution_count": 50,
   "metadata": {},
   "outputs": [
    {
     "data": {
      "text/plain": [
       "<BarContainer object of 10 artists>"
      ]
     },
     "execution_count": 50,
     "metadata": {},
     "output_type": "execute_result"
    },
    {
     "data": {
      "image/png": "[encoded data removed]",
      "text/plain": [
       "<Figure size 432x288 with 1 Axes>"
      ]
     },
     "metadata": {
      "needs_background": "light"
     },
     "output_type": "display_data"
    }
   ],
   "source": [
    "plt.plot(data.index, data['득점'])\n",
    "plt.scatter(data.index, data['득점'])\n",
    "plt.bar(data.index, data['득점'])"
   ]
  },
  {
   "cell_type": "code",
   "execution_count": 56,
   "metadata": {},
   "outputs": [
    {
     "data": {
      "text/plain": [
       "<matplotlib.legend.Legend at 0x1ac804f7f28>"
      ]
     },
     "execution_count": 56,
     "metadata": {},
     "output_type": "execute_result"
    },
    {
     "data": {
      "image/png": "[encoded data removed]",
      "text/plain": [
       "<Figure size 432x288 with 1 Axes>"
      ]
     },
     "metadata": {
      "needs_background": "light"
     },
     "output_type": "display_data"
    }
   ],
   "source": [
    "# % 승률, 기대슬률, 타율, 출루율, 장타율\n",
    "col = ['승률','기대승률', '타율','출루율','장타율']\n",
    "for c in col:\n",
    "    plt.plot(data.index, data[c], label=c)\n",
    "plt.plot(data.index, data['볼넷%']/data['볼넷%'].max(), label = '볼넷')\n",
    "plt.plot(data.index, data['삼진%']/data['삼진%'].max(), label = '삼진')\n",
    "plt.legend()"
   ]
  },
  {
   "cell_type": "code",
   "execution_count": 61,
   "metadata": {},
   "outputs": [
    {
     "data": {
      "image/png": "[encoded data removed]",
      "text/plain": [
       "<Figure size 432x288 with 1 Axes>"
      ]
     },
     "metadata": {},
     "output_type": "display_data"
    }
   ],
   "source": [
    "plt.title(\"홈런 비율\")\n",
    "p = plt.pie(data.홈런, labels=data.index, autopct='%.1f')"
   ]
  },
  {
   "cell_type": "code",
   "execution_count": 62,
   "metadata": {},
   "outputs": [
    {
     "data": {
      "image/png": "[encoded data removed]",
      "text/plain": [
       "<Figure size 432x288 with 1 Axes>"
      ]
     },
     "metadata": {
      "needs_background": "light"
     },
     "output_type": "display_data"
    }
   ],
   "source": [
    "p = plt.title(\"경기당 득점 분포\")\n",
    "p = plt.hist(data.득점/data.경기, bins=10)"
   ]
  },
  {
   "cell_type": "code",
   "execution_count": 65,
   "metadata": {},
   "outputs": [
    {
     "name": "stdout",
     "output_type": "stream",
     "text": [
      "홈팀을 말하세요KIA\n"
     ]
    },
    {
     "data": {
      "text/plain": [
       "'KIA'"
      ]
     },
     "execution_count": 65,
     "metadata": {},
     "output_type": "execute_result"
    }
   ],
   "source": [
    "name = input('홈팀을 말하세요')\n",
    "name"
   ]
  },
  {
   "cell_type": "code",
   "execution_count": 66,
   "metadata": {},
   "outputs": [
    {
     "data": {
      "text/plain": [
       "#          7.000\n",
       "경기        76.000\n",
       "승         32.000\n",
       "무          1.000\n",
       "패         43.000\n",
       "승률         0.427\n",
       "기대승률       0.433\n",
       "R/G        4.470\n",
       "득점       340.000\n",
       "홈런        41.000\n",
       "도루        50.000\n",
       "볼넷%        9.500\n",
       "삼진%       17.000\n",
       "BABIP      0.317\n",
       "타율         0.269\n",
       "출루율        0.345\n",
       "장타율        0.381\n",
       "OPS        0.726\n",
       "wOBA       0.333\n",
       "WAR        9.650\n",
       "Name: KIA, dtype: float64"
      ]
     },
     "execution_count": 66,
     "metadata": {},
     "output_type": "execute_result"
    }
   ],
   "source": [
    "data.loc[name]"
   ]
  },
  {
   "cell_type": "code",
   "execution_count": 68,
   "metadata": {},
   "outputs": [
    {
     "data": {
      "text/html": [
       "<div>\n",
       "<style scoped>\n",
       "    .dataframe tbody tr th:only-of-type {\n",
       "        vertical-align: middle;\n",
       "    }\n",
       "\n",
       "    .dataframe tbody tr th {\n",
       "        vertical-align: top;\n",
       "    }\n",
       "\n",
       "    .dataframe thead th {\n",
       "        text-align: right;\n",
       "    }\n",
       "</style>\n",
       "<table border=\"1\" class=\"dataframe\">\n",
       "  <thead>\n",
       "    <tr style=\"text-align: right;\">\n",
       "      <th></th>\n",
       "      <th>#</th>\n",
       "      <th>경기</th>\n",
       "      <th>승</th>\n",
       "      <th>무</th>\n",
       "      <th>패</th>\n",
       "      <th>승률</th>\n",
       "      <th>기대승률</th>\n",
       "      <th>R/G</th>\n",
       "      <th>득점</th>\n",
       "      <th>홈런</th>\n",
       "      <th>도루</th>\n",
       "      <th>볼넷%</th>\n",
       "      <th>삼진%</th>\n",
       "      <th>BABIP</th>\n",
       "      <th>타율</th>\n",
       "      <th>출루율</th>\n",
       "      <th>장타율</th>\n",
       "      <th>OPS</th>\n",
       "      <th>wOBA</th>\n",
       "      <th>WAR</th>\n",
       "    </tr>\n",
       "    <tr>\n",
       "      <th>팀명</th>\n",
       "      <th></th>\n",
       "      <th></th>\n",
       "      <th></th>\n",
       "      <th></th>\n",
       "      <th></th>\n",
       "      <th></th>\n",
       "      <th></th>\n",
       "      <th></th>\n",
       "      <th></th>\n",
       "      <th></th>\n",
       "      <th></th>\n",
       "      <th></th>\n",
       "      <th></th>\n",
       "      <th></th>\n",
       "      <th></th>\n",
       "      <th></th>\n",
       "      <th></th>\n",
       "      <th></th>\n",
       "      <th></th>\n",
       "      <th></th>\n",
       "    </tr>\n",
       "  </thead>\n",
       "  <tbody>\n",
       "    <tr>\n",
       "      <th>SK</th>\n",
       "      <td>0.1</td>\n",
       "      <td>0.974684</td>\n",
       "      <td>1.000000</td>\n",
       "      <td>1.0</td>\n",
       "      <td>0.543478</td>\n",
       "      <td>1.000000</td>\n",
       "      <td>0.9696</td>\n",
       "      <td>0.880150</td>\n",
       "      <td>0.857820</td>\n",
       "      <td>0.971831</td>\n",
       "      <td>0.835821</td>\n",
       "      <td>0.752212</td>\n",
       "      <td>0.834906</td>\n",
       "      <td>0.929448</td>\n",
       "      <td>0.939286</td>\n",
       "      <td>0.933518</td>\n",
       "      <td>0.923628</td>\n",
       "      <td>0.950131</td>\n",
       "      <td>0.950867</td>\n",
       "      <td>0.602218</td>\n",
       "    </tr>\n",
       "    <tr>\n",
       "      <th>두산</th>\n",
       "      <td>0.2</td>\n",
       "      <td>0.987342</td>\n",
       "      <td>0.941176</td>\n",
       "      <td>0.0</td>\n",
       "      <td>0.652174</td>\n",
       "      <td>0.916542</td>\n",
       "      <td>1.0000</td>\n",
       "      <td>0.941948</td>\n",
       "      <td>0.928910</td>\n",
       "      <td>0.661972</td>\n",
       "      <td>0.776119</td>\n",
       "      <td>1.000000</td>\n",
       "      <td>0.731132</td>\n",
       "      <td>0.960123</td>\n",
       "      <td>0.975000</td>\n",
       "      <td>1.000000</td>\n",
       "      <td>0.930788</td>\n",
       "      <td>0.985564</td>\n",
       "      <td>1.000000</td>\n",
       "      <td>0.985447</td>\n",
       "    </tr>\n",
       "    <tr>\n",
       "      <th>LG</th>\n",
       "      <td>0.3</td>\n",
       "      <td>0.962025</td>\n",
       "      <td>0.843137</td>\n",
       "      <td>1.0</td>\n",
       "      <td>0.695652</td>\n",
       "      <td>0.853949</td>\n",
       "      <td>0.8352</td>\n",
       "      <td>0.795880</td>\n",
       "      <td>0.765403</td>\n",
       "      <td>0.676056</td>\n",
       "      <td>0.820896</td>\n",
       "      <td>0.716814</td>\n",
       "      <td>0.801887</td>\n",
       "      <td>0.929448</td>\n",
       "      <td>0.928571</td>\n",
       "      <td>0.911357</td>\n",
       "      <td>0.878282</td>\n",
       "      <td>0.914698</td>\n",
       "      <td>0.919075</td>\n",
       "      <td>0.361746</td>\n",
       "    </tr>\n",
       "    <tr>\n",
       "      <th>Hero</th>\n",
       "      <td>0.4</td>\n",
       "      <td>1.000000</td>\n",
       "      <td>0.882353</td>\n",
       "      <td>0.0</td>\n",
       "      <td>0.739130</td>\n",
       "      <td>0.849478</td>\n",
       "      <td>0.9552</td>\n",
       "      <td>1.000000</td>\n",
       "      <td>1.000000</td>\n",
       "      <td>0.830986</td>\n",
       "      <td>0.850746</td>\n",
       "      <td>0.823009</td>\n",
       "      <td>0.811321</td>\n",
       "      <td>1.000000</td>\n",
       "      <td>1.000000</td>\n",
       "      <td>0.977839</td>\n",
       "      <td>0.976134</td>\n",
       "      <td>1.000000</td>\n",
       "      <td>1.000000</td>\n",
       "      <td>1.000000</td>\n",
       "    </tr>\n",
       "    <tr>\n",
       "      <th>NC</th>\n",
       "      <td>0.5</td>\n",
       "      <td>0.962025</td>\n",
       "      <td>0.725490</td>\n",
       "      <td>0.0</td>\n",
       "      <td>0.847826</td>\n",
       "      <td>0.725782</td>\n",
       "      <td>0.7776</td>\n",
       "      <td>0.868914</td>\n",
       "      <td>0.836493</td>\n",
       "      <td>1.000000</td>\n",
       "      <td>0.552239</td>\n",
       "      <td>0.681416</td>\n",
       "      <td>0.797170</td>\n",
       "      <td>0.975460</td>\n",
       "      <td>0.996429</td>\n",
       "      <td>0.950139</td>\n",
       "      <td>1.000000</td>\n",
       "      <td>1.000000</td>\n",
       "      <td>0.988439</td>\n",
       "      <td>0.811504</td>\n",
       "    </tr>\n",
       "  </tbody>\n",
       "</table>\n",
       "</div>"
      ],
      "text/plain": [
       "        #        경기         승    무         패        승률    기대승률       R/G  \\\n",
       "팀명                                                                         \n",
       "SK    0.1  0.974684  1.000000  1.0  0.543478  1.000000  0.9696  0.880150   \n",
       "두산    0.2  0.987342  0.941176  0.0  0.652174  0.916542  1.0000  0.941948   \n",
       "LG    0.3  0.962025  0.843137  1.0  0.695652  0.853949  0.8352  0.795880   \n",
       "Hero  0.4  1.000000  0.882353  0.0  0.739130  0.849478  0.9552  1.000000   \n",
       "NC    0.5  0.962025  0.725490  0.0  0.847826  0.725782  0.7776  0.868914   \n",
       "\n",
       "            득점        홈런        도루       볼넷%       삼진%     BABIP        타율  \\\n",
       "팀명                                                                           \n",
       "SK    0.857820  0.971831  0.835821  0.752212  0.834906  0.929448  0.939286   \n",
       "두산    0.928910  0.661972  0.776119  1.000000  0.731132  0.960123  0.975000   \n",
       "LG    0.765403  0.676056  0.820896  0.716814  0.801887  0.929448  0.928571   \n",
       "Hero  1.000000  0.830986  0.850746  0.823009  0.811321  1.000000  1.000000   \n",
       "NC    0.836493  1.000000  0.552239  0.681416  0.797170  0.975460  0.996429   \n",
       "\n",
       "           출루율       장타율       OPS      wOBA       WAR  \n",
       "팀명                                                      \n",
       "SK    0.933518  0.923628  0.950131  0.950867  0.602218  \n",
       "두산    1.000000  0.930788  0.985564  1.000000  0.985447  \n",
       "LG    0.911357  0.878282  0.914698  0.919075  0.361746  \n",
       "Hero  0.977839  0.976134  1.000000  1.000000  1.000000  \n",
       "NC    0.950139  1.000000  1.000000  0.988439  0.811504  "
      ]
     },
     "execution_count": 68,
     "metadata": {},
     "output_type": "execute_result"
    }
   ],
   "source": [
    "#정규화\n",
    "data_normal = data/data.max()\n",
    "data_normal.head()"
   ]
  },
  {
   "cell_type": "code",
   "execution_count": 75,
   "metadata": {},
   "outputs": [],
   "source": [
    "#[100,1] [110,8] [120,15]\n",
    "home = data_normal.loc[name]\n",
    "# 홈팀과 다른팀과의 차이, 차이가 작은 팀들을 찾습니다.\n",
    "# 홈팀과 다른팀과의 차이, 차이의 합이 작은 팀들을 찾습니다.\n",
    "차이 = np.sum(np.square(data_normal -  home), axis=1)"
   ]
  },
  {
   "cell_type": "code",
   "execution_count": 79,
   "metadata": {},
   "outputs": [
    {
     "data": {
      "text/plain": [
       "<matplotlib.axes._subplots.AxesSubplot at 0x1ac818cdf60>"
      ]
     },
     "execution_count": 79,
     "metadata": {},
     "output_type": "execute_result"
    },
    {
     "data": {
      "image/png": "[encoded data removed]",
      "text/plain": [
       "<Figure size 360x216 with 1 Axes>"
      ]
     },
     "metadata": {
      "needs_background": "light"
     },
     "output_type": "display_data"
    }
   ],
   "source": [
    "i = 차이.sort_values().index[:4]\n",
    "data.loc[i].T.plot(figsize=(5,3))"
   ]
  },
  {
   "cell_type": "code",
   "execution_count": 78,
   "metadata": {},
   "outputs": [
    {
     "data": {
      "text/plain": [
       "<matplotlib.axes._subplots.AxesSubplot at 0x1ac8191b2e8>"
      ]
     },
     "execution_count": 78,
     "metadata": {},
     "output_type": "execute_result"
    },
    {
     "data": {
      "image/png": "[encoded data removed]",
      "text/plain": [
       "<Figure size 432x288 with 1 Axes>"
      ]
     },
     "metadata": {
      "needs_background": "light"
     },
     "output_type": "display_data"
    }
   ],
   "source": [
    "home.plot()"
   ]
  },
  {
   "cell_type": "code",
   "execution_count": null,
   "metadata": {},
   "outputs": [],
   "source": []
  }
 ],
 "metadata": {
  "kernelspec": {
   "display_name": "Python 3",
   "language": "python",
   "name": "python3"
  },
  "language_info": {
   "codemirror_mode": {
    "name": "ipython",
    "version": 3
   },
   "file_extension": ".py",
   "mimetype": "text/x-python",
   "name": "python",
   "nbconvert_exporter": "python",
   "pygments_lexer": "ipython3",
   "version": "3.7.3"
  }
 },
 "nbformat": 4,
 "nbformat_minor": 2
}
