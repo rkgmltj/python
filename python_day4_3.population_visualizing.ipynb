{
 "cells": [
  {
   "cell_type": "markdown",
   "metadata": {},
   "source": [
    "### unit8 인구 구조를 다양한 형태로 시각화하기"
   ]
  },
  {
   "cell_type": "code",
   "execution_count": 2,
   "metadata": {},
   "outputs": [],
   "source": [
    "import numpy as np\n",
    "import pandas as pd\n",
    "import matplotlib.pyplot as plt"
   ]
  },
  {
   "cell_type": "code",
   "execution_count": 4,
   "metadata": {},
   "outputs": [
    {
     "data": {
      "text/plain": [
       "<BarContainer object of 10 artists>"
      ]
     },
     "execution_count": 4,
     "metadata": {},
     "output_type": "execute_result"
    },
    {
     "data": {
      "image/png": "[encoded data removed]",
      "text/plain": [
       "<Figure size 360x72 with 1 Axes>"
      ]
     },
     "metadata": {
      "needs_background": "light"
     },
     "output_type": "display_data"
    }
   ],
   "source": [
    "# 막대그래프 (X, Y)\n",
    "plt.figure(figsize=(5,1))\n",
    "plt.bar(np.arange(10), np.random.randint(1,10, size=10))"
   ]
  },
  {
   "cell_type": "code",
   "execution_count": 16,
   "metadata": {},
   "outputs": [
    {
     "data": {
      "text/plain": [
       "<BarContainer object of 10 artists>"
      ]
     },
     "execution_count": 16,
     "metadata": {},
     "output_type": "execute_result"
    },
    {
     "data": {
      "image/png": "[encoded data removed]",
      "text/plain": [
       "<Figure size 360x72 with 1 Axes>"
      ]
     },
     "metadata": {
      "needs_background": "light"
     },
     "output_type": "display_data"
    }
   ],
   "source": [
    "plt.figure(figsize=(5,1))\n",
    "plt.barh(np.arange(10), np.random.randint(1,10, size=10), label = 'a') #bar horizontal\n",
    "plt.barh(np.arange(10), np.random.randint(1,10, size=10), label = 'b') #bar horizontal"
   ]
  },
  {
   "cell_type": "code",
   "execution_count": 20,
   "metadata": {},
   "outputs": [
    {
     "data": {
      "text/plain": [
       "<matplotlib.legend.Legend at 0x1b34254e588>"
      ]
     },
     "execution_count": 20,
     "metadata": {},
     "output_type": "execute_result"
    },
    {
     "data": {
      "image/png": "[encoded data removed]",
      "text/plain": [
       "<Figure size 360x72 with 1 Axes>"
      ]
     },
     "metadata": {
      "needs_background": "light"
     },
     "output_type": "display_data"
    }
   ],
   "source": [
    "plt.figure(figsize=(5,1))\n",
    "plt.barh(np.arange(10), np.random.randint(1,10, size=10), label = 'a') #bar horizontal\n",
    "plt.barh(np.arange(10), - np.random.randint(1,10, size=10), label = 'b') #bar horizontal\n",
    "plt.legend()"
   ]
  },
  {
   "cell_type": "markdown",
   "metadata": {},
   "source": [
    "########################################################################"
   ]
  },
  {
   "cell_type": "code",
   "execution_count": 129,
   "metadata": {},
   "outputs": [
    {
     "data": {
      "text/plain": [
       "(3842, 207)"
      ]
     },
     "execution_count": 129,
     "metadata": {},
     "output_type": "execute_result"
    }
   ],
   "source": [
    "# p115\n",
    "df = pd.read_csv('GyeongGi.csv', encoding='cp949')\n",
    "df = df.replace(',', '', regex=True) \n",
    "df.shape"
   ]
  },
  {
   "cell_type": "code",
   "execution_count": 119,
   "metadata": {},
   "outputs": [
    {
     "data": {
      "text/html": [
       "<div>\n",
       "<style scoped>\n",
       "    .dataframe tbody tr th:only-of-type {\n",
       "        vertical-align: middle;\n",
       "    }\n",
       "\n",
       "    .dataframe tbody tr th {\n",
       "        vertical-align: top;\n",
       "    }\n",
       "\n",
       "    .dataframe thead th {\n",
       "        text-align: right;\n",
       "    }\n",
       "</style>\n",
       "<table border=\"1\" class=\"dataframe\">\n",
       "  <thead>\n",
       "    <tr style=\"text-align: right;\">\n",
       "      <th></th>\n",
       "      <th>행정구역</th>\n",
       "      <th>2019년05월_남_총인구수</th>\n",
       "      <th>2019년05월_남_연령구간인구수</th>\n",
       "      <th>2019년05월_남_0세</th>\n",
       "      <th>2019년05월_남_1세</th>\n",
       "      <th>2019년05월_남_2세</th>\n",
       "      <th>2019년05월_남_3세</th>\n",
       "      <th>2019년05월_남_4세</th>\n",
       "      <th>2019년05월_남_5세</th>\n",
       "      <th>2019년05월_남_6세</th>\n",
       "      <th>...</th>\n",
       "      <th>2019년05월_여_91세</th>\n",
       "      <th>2019년05월_여_92세</th>\n",
       "      <th>2019년05월_여_93세</th>\n",
       "      <th>2019년05월_여_94세</th>\n",
       "      <th>2019년05월_여_95세</th>\n",
       "      <th>2019년05월_여_96세</th>\n",
       "      <th>2019년05월_여_97세</th>\n",
       "      <th>2019년05월_여_98세</th>\n",
       "      <th>2019년05월_여_99세</th>\n",
       "      <th>2019년05월_여_100세 이상</th>\n",
       "    </tr>\n",
       "  </thead>\n",
       "  <tbody>\n",
       "    <tr>\n",
       "      <th>0</th>\n",
       "      <td>서울특별시  (1100000000)</td>\n",
       "      <td>4 766 085</td>\n",
       "      <td>4 766 085</td>\n",
       "      <td>27 555</td>\n",
       "      <td>29 820</td>\n",
       "      <td>32 375</td>\n",
       "      <td>35 374</td>\n",
       "      <td>36 243</td>\n",
       "      <td>35 430</td>\n",
       "      <td>37 918</td>\n",
       "      <td>...</td>\n",
       "      <td>5 447</td>\n",
       "      <td>4 224</td>\n",
       "      <td>3 122</td>\n",
       "      <td>2 294</td>\n",
       "      <td>1 937</td>\n",
       "      <td>1 752</td>\n",
       "      <td>1 254</td>\n",
       "      <td>811</td>\n",
       "      <td>632</td>\n",
       "      <td>4 526</td>\n",
       "    </tr>\n",
       "    <tr>\n",
       "      <th>1</th>\n",
       "      <td>서울특별시 종로구 (1111000000)</td>\n",
       "      <td>74 240</td>\n",
       "      <td>74 240</td>\n",
       "      <td>326</td>\n",
       "      <td>319</td>\n",
       "      <td>379</td>\n",
       "      <td>410</td>\n",
       "      <td>443</td>\n",
       "      <td>424</td>\n",
       "      <td>495</td>\n",
       "      <td>...</td>\n",
       "      <td>112</td>\n",
       "      <td>88</td>\n",
       "      <td>76</td>\n",
       "      <td>53</td>\n",
       "      <td>43</td>\n",
       "      <td>39</td>\n",
       "      <td>39</td>\n",
       "      <td>18</td>\n",
       "      <td>26</td>\n",
       "      <td>163</td>\n",
       "    </tr>\n",
       "    <tr>\n",
       "      <th>2</th>\n",
       "      <td>서울특별시 종로구 청운효자동(1111051500)</td>\n",
       "      <td>6 015</td>\n",
       "      <td>6 015</td>\n",
       "      <td>28</td>\n",
       "      <td>32</td>\n",
       "      <td>40</td>\n",
       "      <td>41</td>\n",
       "      <td>60</td>\n",
       "      <td>39</td>\n",
       "      <td>48</td>\n",
       "      <td>...</td>\n",
       "      <td>4</td>\n",
       "      <td>4</td>\n",
       "      <td>9</td>\n",
       "      <td>3</td>\n",
       "      <td>4</td>\n",
       "      <td>3</td>\n",
       "      <td>1</td>\n",
       "      <td>3</td>\n",
       "      <td>3</td>\n",
       "      <td>13</td>\n",
       "    </tr>\n",
       "  </tbody>\n",
       "</table>\n",
       "<p>3 rows × 207 columns</p>\n",
       "</div>"
      ],
      "text/plain": [
       "                          행정구역 2019년05월_남_총인구수 2019년05월_남_연령구간인구수  \\\n",
       "0          서울특별시  (1100000000)       4 766 085          4 766 085   \n",
       "1       서울특별시 종로구 (1111000000)          74 240             74 240   \n",
       "2  서울특별시 종로구 청운효자동(1111051500)           6 015              6 015   \n",
       "\n",
       "  2019년05월_남_0세 2019년05월_남_1세 2019년05월_남_2세 2019년05월_남_3세 2019년05월_남_4세  \\\n",
       "0        27 555        29 820        32 375        35 374        36 243   \n",
       "1           326           319           379           410           443   \n",
       "2            28            32            40            41            60   \n",
       "\n",
       "  2019년05월_남_5세 2019년05월_남_6세  ... 2019년05월_여_91세 2019년05월_여_92세  \\\n",
       "0        35 430        37 918  ...          5 447          4 224   \n",
       "1           424           495  ...            112             88   \n",
       "2            39            48  ...              4              4   \n",
       "\n",
       "  2019년05월_여_93세 2019년05월_여_94세 2019년05월_여_95세 2019년05월_여_96세 2019년05월_여_97세  \\\n",
       "0          3 122          2 294          1 937          1 752          1 254   \n",
       "1             76             53             43             39             39   \n",
       "2              9              3              4              3              1   \n",
       "\n",
       "  2019년05월_여_98세 2019년05월_여_99세 2019년05월_여_100세 이상  \n",
       "0            811            632              4 526  \n",
       "1             18             26                163  \n",
       "2              3              3                 13  \n",
       "\n",
       "[3 rows x 207 columns]"
      ]
     },
     "execution_count": 119,
     "metadata": {},
     "output_type": "execute_result"
    }
   ],
   "source": [
    "df.head(3)"
   ]
  },
  {
   "cell_type": "markdown",
   "metadata": {},
   "source": [
    "- 특정 도시(경기도)의 여성과 남성의 나이별 인구수 대조\n",
    "- 컬럼 위치 찾기 : 남 0세~ 남 90세, 여 0세~ 여 90세\n",
    "- 0세: 10명 1세: 20명 ... 도시에서 모두 누적 > 막대 그래프로 표현"
   ]
  },
  {
   "cell_type": "code",
   "execution_count": 106,
   "metadata": {},
   "outputs": [
    {
     "data": {
      "text/plain": [
       "Index(['행정구역', '2019년05월_남_총인구수', '2019년05월_남_연령구간인구수', '2019년05월_남_0세',\n",
       "       '2019년05월_남_1세', '2019년05월_남_2세', '2019년05월_남_3세', '2019년05월_남_4세',\n",
       "       '2019년05월_남_5세', '2019년05월_남_6세',\n",
       "       ...\n",
       "       '2019년05월_여_91세', '2019년05월_여_92세', '2019년05월_여_93세', '2019년05월_여_94세',\n",
       "       '2019년05월_여_95세', '2019년05월_여_96세', '2019년05월_여_97세', '2019년05월_여_98세',\n",
       "       '2019년05월_여_99세', '2019년05월_여_100세 이상'],\n",
       "      dtype='object', length=207)"
      ]
     },
     "execution_count": 106,
     "metadata": {},
     "output_type": "execute_result"
    }
   ],
   "source": [
    "df.columns"
   ]
  },
  {
   "cell_type": "code",
   "execution_count": 172,
   "metadata": {},
   "outputs": [
    {
     "data": {
      "text/plain": [
       "('2019년05월_여_0세', '2019년05월_여_99세')"
      ]
     },
     "execution_count": 172,
     "metadata": {},
     "output_type": "execute_result"
    }
   ],
   "source": [
    "max_age = 99\n",
    "#city = '경기도 안양시 동안구'\n",
    "city = '동안구'\n",
    "man_0 = '2019년05월_남_0세'\n",
    "woman_0 = '2019년05월_여_0세'\n",
    "#type(list(df.columns))\n",
    "\n",
    "columns = list(df.columns)\n",
    "man_0_index = columns.index(man_0)\n",
    "woman_0_index = columns.index(woman_0)\n",
    "columns[man_0_index], columns[man_0_index + max_age]\n",
    "columns[woman_0_index], columns[woman_0_index + max_age]"
   ]
  },
  {
   "cell_type": "code",
   "execution_count": 173,
   "metadata": {},
   "outputs": [
    {
     "name": "stdout",
     "output_type": "stream",
     "text": [
      "1395 경기도 안양시 동안구 (4117300000) 1395\n",
      "1396 경기도 안양시 동안구 비산1동(4117351000) 1396\n",
      "1397 경기도 안양시 동안구 비산2동(4117352000) 1397\n",
      "1398 경기도 안양시 동안구 비산3동(4117353000) 1398\n",
      "1399 경기도 안양시 동안구 부흥동(4117354000) 1399\n",
      "1400 경기도 안양시 동안구 달안동(4117354600) 1400\n",
      "1401 경기도 안양시 동안구 관양1동(4117355000) 1401\n",
      "1402 경기도 안양시 동안구 관양2동(4117356000) 1402\n",
      "1403 경기도 안양시 동안구 부림동(4117356600) 1403\n",
      "1404 경기도 안양시 동안구 평촌동(4117357000) 1404\n",
      "1405 경기도 안양시 동안구 평안동(4117357600) 1405\n",
      "1406 경기도 안양시 동안구 귀인동(4117357800) 1406\n",
      "1407 경기도 안양시 동안구 호계1동(4117358000) 1407\n",
      "1408 경기도 안양시 동안구 호계2동(4117359000) 1408\n",
      "1409 경기도 안양시 동안구 호계3동(4117360000) 1409\n",
      "1410 경기도 안양시 동안구 범계동(4117361000) 1410\n",
      "1411 경기도 안양시 동안구 신촌동(4117362000) 1411\n",
      "1412 경기도 안양시 동안구 갈산동(4117363000) 1412\n"
     ]
    }
   ],
   "source": [
    "data = np.array(df)\n",
    "area = data[:,0]\n",
    "area[:3]\n",
    "city_row_index = -1\n",
    "\n",
    "for i in range(len(area)):\n",
    "    if city in area[i]:\n",
    "        city_row_index = i\n",
    "        print(i, area[i], city_row_index)"
   ]
  },
  {
   "cell_type": "code",
   "execution_count": 174,
   "metadata": {},
   "outputs": [
    {
     "data": {
      "text/plain": [
       "((99,), (99,))"
      ]
     },
     "execution_count": 174,
     "metadata": {},
     "output_type": "execute_result"
    }
   ],
   "source": [
    "city_data = data[city_row_index]\n",
    "city_man = city_data[man_0_index:man_0_index+max_age]\n",
    "city_woman = city_data[woman_0_index:woman_0_index+max_age]\n",
    "city_man.shape, city_woman.shape"
   ]
  },
  {
   "cell_type": "code",
   "execution_count": 175,
   "metadata": {},
   "outputs": [
    {
     "data": {
      "image/png": "[encoded data removed]",
      "text/plain": [
       "<Figure size 432x288 with 1 Axes>"
      ]
     },
     "metadata": {
      "needs_background": "light"
     },
     "output_type": "display_data"
    }
   ],
   "source": [
    "city_man = city_man.astype(np.int)\n",
    "city_woman = city_woman.astype(np.int)\n",
    "m = plt.barh(np.arange(len(city_man)), city_man, label = 'man')\n",
    "m = plt.barh(np.arange(len(city_woman)), -city_woman, label = 'woman')\n",
    "m = plt.legend()"
   ]
  },
  {
   "cell_type": "markdown",
   "metadata": {},
   "source": [
    "########################################################################"
   ]
  },
  {
   "cell_type": "code",
   "execution_count": 147,
   "metadata": {},
   "outputs": [
    {
     "data": {
      "text/plain": [
       "(613, 207)"
      ]
     },
     "execution_count": 147,
     "metadata": {},
     "output_type": "execute_result"
    }
   ],
   "source": [
    "city = '경기' # 이 글자가 들어간 행은 전부 찾아, 조건부 검색, 마스크(True만 뽑기)\n",
    "is_contain = []\n",
    "for i in range(len(area)):\n",
    "    is_contain.append(city in area[i])\n",
    "#is_contain[0], is_contain[-1]\n",
    "\n",
    "np.mean(is_contain)\n",
    "city_data = data[is_contain]\n",
    "city_data.shape"
   ]
  },
  {
   "cell_type": "code",
   "execution_count": 148,
   "metadata": {},
   "outputs": [],
   "source": [
    "#np.sum(city_data, axis=0)\n",
    "city_man = city_data[:, man_0_index:man_0_index+max_age].astype(np.int)\n",
    "city_woman = city_data[:, woman_0_index:woman_0_index+max_age].astype(np.int)\n",
    "city_man.shape, city_woman.shape\n",
    "city_man = np.sum(city_man, axis=0)\n",
    "city_woman = np.sum(city_woman, axis=0)"
   ]
  },
  {
   "cell_type": "code",
   "execution_count": 149,
   "metadata": {
    "scrolled": true
   },
   "outputs": [
    {
     "data": {
      "image/png": "[encoded data removed]",
      "text/plain": [
       "<Figure size 576x216 with 1 Axes>"
      ]
     },
     "metadata": {
      "needs_background": "light"
     },
     "output_type": "display_data"
    }
   ],
   "source": [
    "plt.figure(figsize=(8,3))\n",
    "m = plt.barh(np.arange(len(city_man)), city_man, label='man')\n",
    "m = plt.barh(np.arange(len(city_woman)), -city_woman, label='woman')\n",
    "m = plt.legend()"
   ]
  },
  {
   "cell_type": "markdown",
   "metadata": {},
   "source": [
    "########################################################################"
   ]
  },
  {
   "cell_type": "code",
   "execution_count": 160,
   "metadata": {},
   "outputs": [
    {
     "data": {
      "image/png": "[encoded data removed]",
      "text/plain": [
       "<Figure size 432x288 with 1 Axes>"
      ]
     },
     "metadata": {},
     "output_type": "display_data"
    }
   ],
   "source": [
    "# p130, p134 파이 돌출 효과\n",
    "plt.rc('font', family= 'Malgun Gothic')\n",
    "color = ['darkmagenta','deeppink', 'pink']\n",
    "plt.title('Pie Graph')\n",
    "n = plt.pie([10,20,30], labels=['A','B','0'], autopct='%.1f %%', colors=color, explode=(0,0.2,0))\n",
    "n = plt.legend()"
   ]
  },
  {
   "cell_type": "code",
   "execution_count": 177,
   "metadata": {},
   "outputs": [
    {
     "data": {
      "image/png": "[encoded data removed]",
      "text/plain": [
       "<Figure size 432x288 with 1 Axes>"
      ]
     },
     "metadata": {},
     "output_type": "display_data"
    }
   ],
   "source": [
    "plt.title('DonganGu Man/Woman Population')\n",
    "color = ['skyblue','pink']\n",
    "n = plt.pie([np.sum(city_man), np.sum(city_woman)], labels = ['man', 'woman']\n",
    "            , colors=color, autopct='%.1f %%', explode=(0,0.1))"
   ]
  },
  {
   "cell_type": "code",
   "execution_count": 182,
   "metadata": {},
   "outputs": [
    {
     "data": {
      "image/png": "[encoded data removed]",
      "text/plain": [
       "<Figure size 432x288 with 1 Axes>"
      ]
     },
     "metadata": {
      "needs_background": "light"
     },
     "output_type": "display_data"
    }
   ],
   "source": [
    "p = plt.plot(city_man, label = 'man')\n",
    "p = plt.plot(city_woman, label = 'woman')\n",
    "p= plt.legend()"
   ]
  },
  {
   "cell_type": "code",
   "execution_count": 185,
   "metadata": {},
   "outputs": [
    {
     "data": {
      "image/png": "[encoded data removed]",
      "text/plain": [
       "<Figure size 432x288 with 1 Axes>"
      ]
     },
     "metadata": {
      "needs_background": "light"
     },
     "output_type": "display_data"
    }
   ],
   "source": [
    "# p144 남녀 인구의 차이\n",
    "p = plt.bar(np.arange(len(city_man)), city_man - city_woman)"
   ]
  },
  {
   "cell_type": "code",
   "execution_count": 198,
   "metadata": {},
   "outputs": [
    {
     "data": {
      "image/png": "[encoded data removed]",
      "text/plain": [
       "<Figure size 432x288 with 2 Axes>"
      ]
     },
     "metadata": {
      "needs_background": "light"
     },
     "output_type": "display_data"
    }
   ],
   "source": [
    "# p144 산점도(scatter) 산개할 산, 점 점, 그림 도, p146 s(size), c(color)\n",
    "y = np.random.randint(0,100,size=100)\n",
    "n = plt.scatter(np.arange(len(y)),y,\n",
    "                #[1,2,3,4],[10,30,20,50]\n",
    "                #, c=['r','b','g','y']\n",
    "                #, s=[10,20,30,40]\n",
    "                s=y, c=range(len(y)), cmap='jet', alpha=0.5)\n",
    "n = plt.colorbar()"
   ]
  },
  {
   "cell_type": "markdown",
   "metadata": {},
   "source": [
    "### # 그래프 정리\n",
    "- plot(x) plot(x, y) 선\n",
    "- hist(x) 히스토그램\n",
    "- boxplot(x) 박스 : 분포\n",
    "- bar(x, y) 막대그래프\n",
    "- pie(x)\n",
    "- scatter(x, y) 산점도"
   ]
  }
 ],
 "metadata": {
  "kernelspec": {
   "display_name": "Python 3",
   "language": "python",
   "name": "python3"
  },
  "language_info": {
   "codemirror_mode": {
    "name": "ipython",
    "version": 3
   },
   "file_extension": ".py",
   "mimetype": "text/x-python",
   "name": "python",
   "nbconvert_exporter": "python",
   "pygments_lexer": "ipython3",
   "version": "3.7.3"
  }
 },
 "nbformat": 4,
 "nbformat_minor": 2
}
