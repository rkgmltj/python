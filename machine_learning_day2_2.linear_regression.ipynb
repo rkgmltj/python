{
 "cells": [
  {
   "cell_type": "markdown",
   "metadata": {},
   "source": [
    "### p73 선형 회귀 모델\n",
    "- 데이터를 선형 함수로 모델링\n",
    "- 최소제곱법 : 평균제곱오차를 최소화하는 파라미터를 찾는다\n",
    "    - 파라미터를 줄이고 키우고를 반복한다(예시)\n",
    "    - 오차를 파라미터로 미분한 값만큼 조절한다(경사하강법): 데이터 많을 때 사용\n",
    "    - 정규방정식으로 찾기(데이터가 많아지면 메모리 부족으로 사용 불가)\n",
    "- 평균제곱오차 : 오차(예측과 정답의 차이)를 제곱 > 모든 샘플들의 오차를 평균"
   ]
  },
  {
   "cell_type": "code",
   "execution_count": 3,
   "metadata": {},
   "outputs": [],
   "source": [
    "import numpy as np\n",
    "import pandas as pd\n",
    "import matplotlib.pyplot as plt"
   ]
  },
  {
   "cell_type": "code",
   "execution_count": 5,
   "metadata": {},
   "outputs": [],
   "source": [
    "# 키와 몸무게, 몸무게로부터 키를 예측해보자\n",
    "몸무게 = [30,60,70,90]\n",
    "키 = [120,160,170,190]\n",
    "몸무게_test = [65,80] # 이 두사람의 키는 어떻게 될까?"
   ]
  },
  {
   "cell_type": "code",
   "execution_count": 12,
   "metadata": {},
   "outputs": [],
   "source": [
    "# 4행 1열 / 1행 4열\n",
    "몸무게 = np.array(몸무게).reshape((-1,1))\n",
    "키 = np.array(키)\n",
    "몸무게_test = np.array(몸무게_test).reshape((-1,1))"
   ]
  },
  {
   "cell_type": "code",
   "execution_count": 17,
   "metadata": {},
   "outputs": [
    {
     "data": {
      "text/plain": [
       "(array([[30],\n",
       "        [60],\n",
       "        [70],\n",
       "        [90]]), array([120, 160, 170, 190]))"
      ]
     },
     "execution_count": 17,
     "metadata": {},
     "output_type": "execute_result"
    }
   ],
   "source": [
    "몸무게, 키"
   ]
  },
  {
   "cell_type": "code",
   "execution_count": 13,
   "metadata": {},
   "outputs": [
    {
     "data": {
      "text/plain": [
       "LinearRegression(copy_X=True, fit_intercept=True, n_jobs=None,\n",
       "         normalize=False)"
      ]
     },
     "execution_count": 13,
     "metadata": {},
     "output_type": "execute_result"
    }
   ],
   "source": [
    "# p76 모델선택\n",
    "from sklearn.linear_model import LinearRegression\n",
    "lr = LinearRegression()\n",
    "lr.fit(X=몸무게, y=키)"
   ]
  },
  {
   "cell_type": "code",
   "execution_count": 15,
   "metadata": {},
   "outputs": [
    {
     "data": {
      "text/plain": [
       "(array([[65],\n",
       "        [80]]), array([162.93333333, 180.53333333]))"
      ]
     },
     "execution_count": 15,
     "metadata": {},
     "output_type": "execute_result"
    }
   ],
   "source": [
    "몸무게_test, lr.predict(몸무게_test)"
   ]
  },
  {
   "cell_type": "code",
   "execution_count": 18,
   "metadata": {},
   "outputs": [
    {
     "data": {
      "text/plain": [
       "0.9928205128205129"
      ]
     },
     "execution_count": 18,
     "metadata": {},
     "output_type": "execute_result"
    }
   ],
   "source": [
    "lr.score(몸무게, 키) # 결정계수 max 1"
   ]
  },
  {
   "cell_type": "code",
   "execution_count": 19,
   "metadata": {},
   "outputs": [
    {
     "data": {
      "text/plain": [
       "(array([1.17333333]), 86.66666666666667)"
      ]
     },
     "execution_count": 19,
     "metadata": {},
     "output_type": "execute_result"
    }
   ],
   "source": [
    "# 계수 w와 절편 b, Y = wx + b = 1.17 * x + 86.6\n",
    "lr.coef_, lr.intercept_"
   ]
  },
  {
   "cell_type": "code",
   "execution_count": 21,
   "metadata": {},
   "outputs": [
    {
     "data": {
      "text/plain": [
       "array([[121.86666667],\n",
       "       [157.06666667],\n",
       "       [168.8       ],\n",
       "       [192.26666667]])"
      ]
     },
     "execution_count": 21,
     "metadata": {},
     "output_type": "execute_result"
    }
   ],
   "source": [
    "lr.coef_*몸무게+lr.intercept_ # Y = w * x + b"
   ]
  },
  {
   "cell_type": "code",
   "execution_count": 22,
   "metadata": {},
   "outputs": [
    {
     "data": {
      "text/plain": [
       "array([120, 160, 170, 190])"
      ]
     },
     "execution_count": 22,
     "metadata": {},
     "output_type": "execute_result"
    }
   ],
   "source": [
    "키"
   ]
  },
  {
   "cell_type": "markdown",
   "metadata": {},
   "source": [
    "## ============================================="
   ]
  },
  {
   "cell_type": "markdown",
   "metadata": {},
   "source": [
    "## LinearRefression 으로 내일의 종가 예측\n",
    "- 입력(X: 하루 전 데이터), 출력(Y: 다음 날의 종가)\n",
    "- 데이터 총 m =10, 학습용 8, 테스트용 2\n",
    "- 정규화는 일단 생략"
   ]
  },
  {
   "cell_type": "code",
   "execution_count": 80,
   "metadata": {},
   "outputs": [
    {
     "data": {
      "text/plain": [
       "3"
      ]
     },
     "execution_count": 80,
     "metadata": {},
     "output_type": "execute_result"
    }
   ],
   "source": [
    "url = 'https://finance.daum.net/domestic/kospi200'\n",
    "url = '코스피200 _ 다음 금융.html'  # 홈페이지 다른이름 저장\n",
    "tables = pd.read_html(url, index_col=0)\n",
    "len(tables)"
   ]
  },
  {
   "cell_type": "code",
   "execution_count": 81,
   "metadata": {},
   "outputs": [
    {
     "data": {
      "text/html": [
       "<div>\n",
       "<style scoped>\n",
       "    .dataframe tbody tr th:only-of-type {\n",
       "        vertical-align: middle;\n",
       "    }\n",
       "\n",
       "    .dataframe tbody tr th {\n",
       "        vertical-align: top;\n",
       "    }\n",
       "\n",
       "    .dataframe thead th {\n",
       "        text-align: right;\n",
       "    }\n",
       "</style>\n",
       "<table border=\"1\" class=\"dataframe\">\n",
       "  <thead>\n",
       "    <tr style=\"text-align: right;\">\n",
       "      <th></th>\n",
       "      <th>종가</th>\n",
       "      <th>전일비</th>\n",
       "      <th>등락률</th>\n",
       "      <th>거래량</th>\n",
       "      <th>거래대금</th>\n",
       "      <th>개인(억)</th>\n",
       "      <th>외국인(억)</th>\n",
       "      <th>기관(억)</th>\n",
       "    </tr>\n",
       "    <tr>\n",
       "      <th>일자</th>\n",
       "      <th></th>\n",
       "      <th></th>\n",
       "      <th></th>\n",
       "      <th></th>\n",
       "      <th></th>\n",
       "      <th></th>\n",
       "      <th></th>\n",
       "      <th></th>\n",
       "    </tr>\n",
       "  </thead>\n",
       "  <tbody>\n",
       "    <tr>\n",
       "      <th>19.07.02</th>\n",
       "      <td>276.99</td>\n",
       "      <td>▼0.28</td>\n",
       "      <td>-0.10%</td>\n",
       "      <td>22361</td>\n",
       "      <td>817795</td>\n",
       "      <td>345</td>\n",
       "      <td>67</td>\n",
       "      <td>-391</td>\n",
       "    </tr>\n",
       "    <tr>\n",
       "      <th>19.07.01</th>\n",
       "      <td>277.27</td>\n",
       "      <td>▼0.23</td>\n",
       "      <td>-0.08%</td>\n",
       "      <td>74357</td>\n",
       "      <td>3446049</td>\n",
       "      <td>-214</td>\n",
       "      <td>1286</td>\n",
       "      <td>365</td>\n",
       "    </tr>\n",
       "    <tr>\n",
       "      <th>19.06.28</th>\n",
       "      <td>277.50</td>\n",
       "      <td>▼0.25</td>\n",
       "      <td>-0.09%</td>\n",
       "      <td>67598</td>\n",
       "      <td>2879563</td>\n",
       "      <td>-1802</td>\n",
       "      <td>3011</td>\n",
       "      <td>-1189</td>\n",
       "    </tr>\n",
       "    <tr>\n",
       "      <th>19.06.27</th>\n",
       "      <td>277.75</td>\n",
       "      <td>▲2.22</td>\n",
       "      <td>+0.81%</td>\n",
       "      <td>66303</td>\n",
       "      <td>3357666</td>\n",
       "      <td>-4165</td>\n",
       "      <td>1837</td>\n",
       "      <td>2415</td>\n",
       "    </tr>\n",
       "    <tr>\n",
       "      <th>19.06.26</th>\n",
       "      <td>275.53</td>\n",
       "      <td>▲0.25</td>\n",
       "      <td>+0.09%</td>\n",
       "      <td>58818</td>\n",
       "      <td>2636531</td>\n",
       "      <td>-712</td>\n",
       "      <td>157</td>\n",
       "      <td>557</td>\n",
       "    </tr>\n",
       "    <tr>\n",
       "      <th>19.06.25</th>\n",
       "      <td>275.28</td>\n",
       "      <td>▼0.30</td>\n",
       "      <td>-0.11%</td>\n",
       "      <td>60506</td>\n",
       "      <td>2635188</td>\n",
       "      <td>-364</td>\n",
       "      <td>277</td>\n",
       "      <td>-12</td>\n",
       "    </tr>\n",
       "    <tr>\n",
       "      <th>19.06.24</th>\n",
       "      <td>275.58</td>\n",
       "      <td>▲0.10</td>\n",
       "      <td>+0.04%</td>\n",
       "      <td>55539</td>\n",
       "      <td>2235175</td>\n",
       "      <td>-978</td>\n",
       "      <td>-1048</td>\n",
       "      <td>1966</td>\n",
       "    </tr>\n",
       "    <tr>\n",
       "      <th>19.06.21</th>\n",
       "      <td>275.48</td>\n",
       "      <td>▼0.53</td>\n",
       "      <td>-0.19%</td>\n",
       "      <td>77279</td>\n",
       "      <td>3275700</td>\n",
       "      <td>538</td>\n",
       "      <td>206</td>\n",
       "      <td>-767</td>\n",
       "    </tr>\n",
       "    <tr>\n",
       "      <th>19.06.20</th>\n",
       "      <td>276.01</td>\n",
       "      <td>▲0.70</td>\n",
       "      <td>+0.25%</td>\n",
       "      <td>55336</td>\n",
       "      <td>2417864</td>\n",
       "      <td>-1342</td>\n",
       "      <td>-434</td>\n",
       "      <td>1762</td>\n",
       "    </tr>\n",
       "    <tr>\n",
       "      <th>19.06.19</th>\n",
       "      <td>275.31</td>\n",
       "      <td>▲3.95</td>\n",
       "      <td>+1.46%</td>\n",
       "      <td>69733</td>\n",
       "      <td>3134202</td>\n",
       "      <td>-4430</td>\n",
       "      <td>2876</td>\n",
       "      <td>1606</td>\n",
       "    </tr>\n",
       "  </tbody>\n",
       "</table>\n",
       "</div>"
      ],
      "text/plain": [
       "              종가    전일비     등락률    거래량     거래대금  개인(억)  외국인(억)  기관(억)\n",
       "일자                                                                   \n",
       "19.07.02  276.99  ▼0.28  -0.10%  22361   817795    345      67   -391\n",
       "19.07.01  277.27  ▼0.23  -0.08%  74357  3446049   -214    1286    365\n",
       "19.06.28  277.50  ▼0.25  -0.09%  67598  2879563  -1802    3011  -1189\n",
       "19.06.27  277.75  ▲2.22  +0.81%  66303  3357666  -4165    1837   2415\n",
       "19.06.26  275.53  ▲0.25  +0.09%  58818  2636531   -712     157    557\n",
       "19.06.25  275.28  ▼0.30  -0.11%  60506  2635188   -364     277    -12\n",
       "19.06.24  275.58  ▲0.10  +0.04%  55539  2235175   -978   -1048   1966\n",
       "19.06.21  275.48  ▼0.53  -0.19%  77279  3275700    538     206   -767\n",
       "19.06.20  276.01  ▲0.70  +0.25%  55336  2417864  -1342    -434   1762\n",
       "19.06.19  275.31  ▲3.95  +1.46%  69733  3134202  -4430    2876   1606"
      ]
     },
     "execution_count": 81,
     "metadata": {},
     "output_type": "execute_result"
    }
   ],
   "source": [
    "df = tables[1]\n",
    "df"
   ]
  },
  {
   "cell_type": "code",
   "execution_count": 82,
   "metadata": {},
   "outputs": [],
   "source": [
    "# 전일비와 등락률을 수치데이터로 변환\n",
    "df['전일비'] = df['전일비'].replace('▼','-',regex=True)\n",
    "df['전일비'] = df['전일비'].replace('▲','',regex=True)\n",
    "df['등락률'] = df['등락률'].replace('%','',regex=True)"
   ]
  },
  {
   "cell_type": "code",
   "execution_count": 83,
   "metadata": {},
   "outputs": [],
   "source": [
    "df['전일비'] = df['전일비'].astype(np.float)\n",
    "df['등락률'] = df['등락률'].astype(np.float)"
   ]
  },
  {
   "cell_type": "code",
   "execution_count": 84,
   "metadata": {},
   "outputs": [],
   "source": [
    "# min, max 정규화 [0,1]\n",
    "minimum = np.min(df, axis =0)\n",
    "maximum = np.max(df, axis =0)\n",
    "df_norm = (df - minimum) / (maximum-minimum)"
   ]
  },
  {
   "cell_type": "code",
   "execution_count": 85,
   "metadata": {},
   "outputs": [
    {
     "data": {
      "text/plain": [
       "((9, 8), (9,))"
      ]
     },
     "execution_count": 85,
     "metadata": {},
     "output_type": "execute_result"
    }
   ],
   "source": [
    "# X 와 y 를 분리\n",
    "X = df_norm.iloc[1:] # 오늘 데이터 제외\n",
    "y = df_norm.iloc[:-1,0] # 가장 오래된 데이터와 조가 외의 컬럼 제외\n",
    "X.shape, y.shape"
   ]
  },
  {
   "cell_type": "code",
   "execution_count": 86,
   "metadata": {},
   "outputs": [],
   "source": [
    "# Train/ Test 용 분리\n",
    "from sklearn.model_selection import train_test_split\n",
    "offset = 2\n",
    "X_train = X[offset:] # 예전\n",
    "X_test = X[:offset] # 최근\n",
    "y_train = y[offset:] # 예전\n",
    "y_test = y[:offset] # 최근\n",
    "\n",
    "# X_train, X_test, y_train, y_test = train_test_split(X, y, random_state=42)"
   ]
  },
  {
   "cell_type": "code",
   "execution_count": 95,
   "metadata": {},
   "outputs": [],
   "source": [
    "'''\n",
    "Train 으로 Linear Regression 모델 fit\n",
    "p78 릿지(ridge) 모델 : w를 가능한한 작게 만드는 LinearRegression\n",
    "    규제(regularization) - Lasso : L1(abs), Ridge : L2(sqare)\n",
    "    라쏘 \n",
    "W를 줄인다는 것은 Y를 예측하는 데 가능한한 모든 특성을 반영해라(모든 특성을 다방면으로 살펴봐라)\n",
    "Y = w1 * x1 + w2 * x2 + ..... + wi * xi +b\n",
    "'''\n",
    "from sklearn.linear_model import LinearRegression, Ridge, Lasso\n",
    "#lr = LinearRegression().fit(X_train, y_train)\n",
    "lr = Ridge().fit(X_train, y_train)\n",
    "#lr = Ridge(alpha = 1.0).fit(X_train, y_train)"
   ]
  },
  {
   "cell_type": "code",
   "execution_count": 88,
   "metadata": {},
   "outputs": [
    {
     "data": {
      "text/plain": [
       "(0.2529337904423953, -14.132673454873197)"
      ]
     },
     "execution_count": 88,
     "metadata": {},
     "output_type": "execute_result"
    }
   ],
   "source": [
    "# Score 측정, LR -2만점, Ridge -14점\n",
    "# Linear regression : train 굿, 테스트 bad : 과적합 Overfitting\n",
    "lr.score(X_train, y_train), lr.score(X_test, y_test)"
   ]
  },
  {
   "cell_type": "code",
   "execution_count": 94,
   "metadata": {},
   "outputs": [
    {
     "data": {
      "text/plain": [
       "0.3433965366361048"
      ]
     },
     "execution_count": 94,
     "metadata": {},
     "output_type": "execute_result"
    }
   ],
   "source": [
    "lr.coef_\n",
    "np.sum(lr.coef_)"
   ]
  },
  {
   "cell_type": "code",
   "execution_count": 89,
   "metadata": {},
   "outputs": [
    {
     "data": {
      "text/plain": [
       "<matplotlib.legend.Legend at 0x2cb231dbc88>"
      ]
     },
     "execution_count": 89,
     "metadata": {},
     "output_type": "execute_result"
    },
    {
     "data": {
      "image/png": "[encoded data removed]",
      "text/plain": [
       "<Figure size 432x288 with 1 Axes>"
      ]
     },
     "metadata": {
      "needs_background": "light"
     },
     "output_type": "display_data"
    }
   ],
   "source": [
    "# 예측을 그래프로 시각화\n",
    "train_len = np.arange(len(X_train))\n",
    "test_len = np.arange(len(X_train), len(X_train)+len(X_test))\n",
    "m = plt.plot(lr.predict(X_train), label = 'train_X')\n",
    "m = plt.plot(y_train, label = 'train_y')\n",
    "m = plt.plot(lr.predict(X_test), label = 'test_X')\n",
    "m = plt.plot(y_test, label = 'test_y')\n",
    "plt.legend()"
   ]
  },
  {
   "cell_type": "markdown",
   "metadata": {},
   "source": [
    "## ====================================="
   ]
  },
  {
   "cell_type": "code",
   "execution_count": 98,
   "metadata": {},
   "outputs": [
    {
     "data": {
      "text/plain": [
       "(495, 9)"
      ]
     },
     "execution_count": 98,
     "metadata": {},
     "output_type": "execute_result"
    }
   ],
   "source": [
    "f = '기간별환율_20190702.csv'  # 홈페이지 다른이름 저장\n",
    "df = pd.read_csv(f, encoding = 'cp949')\n",
    "df.shape"
   ]
  },
  {
   "cell_type": "code",
   "execution_count": 99,
   "metadata": {},
   "outputs": [
    {
     "data": {
      "text/html": [
       "<div>\n",
       "<style scoped>\n",
       "    .dataframe tbody tr th:only-of-type {\n",
       "        vertical-align: middle;\n",
       "    }\n",
       "\n",
       "    .dataframe tbody tr th {\n",
       "        vertical-align: top;\n",
       "    }\n",
       "\n",
       "    .dataframe thead th {\n",
       "        text-align: right;\n",
       "    }\n",
       "</style>\n",
       "<table border=\"1\" class=\"dataframe\">\n",
       "  <thead>\n",
       "    <tr style=\"text-align: right;\">\n",
       "      <th></th>\n",
       "      <th>일자</th>\n",
       "      <th>송금</th>\n",
       "      <th>Unnamed: 2</th>\n",
       "      <th>현찰</th>\n",
       "      <th>Unnamed: 4</th>\n",
       "      <th>T/C사실때</th>\n",
       "      <th>매매기준율</th>\n",
       "      <th>한국은행기준율</th>\n",
       "      <th>대미환산율</th>\n",
       "    </tr>\n",
       "  </thead>\n",
       "  <tbody>\n",
       "    <tr>\n",
       "      <th>0</th>\n",
       "      <td>NaN</td>\n",
       "      <td>보내실때</td>\n",
       "      <td>받으실때</td>\n",
       "      <td>사실때</td>\n",
       "      <td>파실때</td>\n",
       "      <td>NaN</td>\n",
       "      <td>(전일대비)</td>\n",
       "      <td>NaN</td>\n",
       "      <td>NaN</td>\n",
       "    </tr>\n",
       "    <tr>\n",
       "      <th>1</th>\n",
       "      <td>2019.07.02</td>\n",
       "      <td>1,087.53</td>\n",
       "      <td>1,066.65</td>\n",
       "      <td>1,095.93</td>\n",
       "      <td>1,058.25</td>\n",
       "      <td>1,090.01/td&gt;</td>\n",
       "      <td>1,077.09</td>\n",
       "      <td>1,066.80</td>\n",
       "      <td>0.92</td>\n",
       "    </tr>\n",
       "    <tr>\n",
       "      <th>2</th>\n",
       "      <td>NaN</td>\n",
       "      <td>NaN</td>\n",
       "      <td>NaN</td>\n",
       "      <td>NaN</td>\n",
       "      <td>NaN</td>\n",
       "      <td>NaN</td>\n",
       "      <td>상승2.87</td>\n",
       "      <td>NaN</td>\n",
       "      <td>NaN</td>\n",
       "    </tr>\n",
       "    <tr>\n",
       "      <th>3</th>\n",
       "      <td>2019.07.01</td>\n",
       "      <td>1,084.63</td>\n",
       "      <td>1,063.81</td>\n",
       "      <td>1,093.01</td>\n",
       "      <td>1,055.43</td>\n",
       "      <td>1,087.11/td&gt;</td>\n",
       "      <td>1,074.22</td>\n",
       "      <td>1,066.74</td>\n",
       "      <td>0.92</td>\n",
       "    </tr>\n",
       "    <tr>\n",
       "      <th>4</th>\n",
       "      <td>NaN</td>\n",
       "      <td>NaN</td>\n",
       "      <td>NaN</td>\n",
       "      <td>NaN</td>\n",
       "      <td>NaN</td>\n",
       "      <td>NaN</td>\n",
       "      <td>상승1.42</td>\n",
       "      <td>NaN</td>\n",
       "      <td>NaN</td>\n",
       "    </tr>\n",
       "  </tbody>\n",
       "</table>\n",
       "</div>"
      ],
      "text/plain": [
       "           일자        송금 Unnamed: 2        현찰 Unnamed: 4        T/C사실때  \\\n",
       "0         NaN      보내실때       받으실때       사실때        파실때           NaN   \n",
       "1  2019.07.02  1,087.53   1,066.65  1,095.93   1,058.25  1,090.01/td>   \n",
       "2         NaN       NaN        NaN       NaN        NaN           NaN   \n",
       "3  2019.07.01  1,084.63   1,063.81  1,093.01   1,055.43  1,087.11/td>   \n",
       "4         NaN       NaN        NaN       NaN        NaN           NaN   \n",
       "\n",
       "      매매기준율   한국은행기준율  대미환산율  \n",
       "0    (전일대비)       NaN    NaN  \n",
       "1  1,077.09  1,066.80   0.92  \n",
       "2    상승2.87       NaN    NaN  \n",
       "3  1,074.22  1,066.74   0.92  \n",
       "4    상승1.42       NaN    NaN  "
      ]
     },
     "execution_count": 99,
     "metadata": {},
     "output_type": "execute_result"
    }
   ],
   "source": [
    "df.head()"
   ]
  },
  {
   "cell_type": "markdown",
   "metadata": {},
   "source": [
    "#### 데이터 정제(refinement)"
   ]
  },
  {
   "cell_type": "code",
   "execution_count": 102,
   "metadata": {},
   "outputs": [
    {
     "data": {
      "text/html": [
       "<div>\n",
       "<style scoped>\n",
       "    .dataframe tbody tr th:only-of-type {\n",
       "        vertical-align: middle;\n",
       "    }\n",
       "\n",
       "    .dataframe tbody tr th {\n",
       "        vertical-align: top;\n",
       "    }\n",
       "\n",
       "    .dataframe thead th {\n",
       "        text-align: right;\n",
       "    }\n",
       "</style>\n",
       "<table border=\"1\" class=\"dataframe\">\n",
       "  <thead>\n",
       "    <tr style=\"text-align: right;\">\n",
       "      <th></th>\n",
       "      <th>보내실때</th>\n",
       "      <th>받으실때</th>\n",
       "      <th>사실때</th>\n",
       "      <th>파실때</th>\n",
       "      <th>Unnamed: 5</th>\n",
       "      <th>(전일대비)</th>\n",
       "      <th>Unnamed: 7</th>\n",
       "      <th>Unnamed: 8</th>\n",
       "    </tr>\n",
       "  </thead>\n",
       "  <tbody>\n",
       "    <tr>\n",
       "      <th>2019.07.02</th>\n",
       "      <td>1,087.53</td>\n",
       "      <td>1,066.65</td>\n",
       "      <td>1,095.93</td>\n",
       "      <td>1,058.25</td>\n",
       "      <td>1,090.01/td&gt;</td>\n",
       "      <td>1,077.09</td>\n",
       "      <td>1,066.80</td>\n",
       "      <td>0.92</td>\n",
       "    </tr>\n",
       "    <tr>\n",
       "      <th>NaN</th>\n",
       "      <td>NaN</td>\n",
       "      <td>NaN</td>\n",
       "      <td>NaN</td>\n",
       "      <td>NaN</td>\n",
       "      <td>NaN</td>\n",
       "      <td>상승2.87</td>\n",
       "      <td>NaN</td>\n",
       "      <td>NaN</td>\n",
       "    </tr>\n",
       "    <tr>\n",
       "      <th>2019.07.01</th>\n",
       "      <td>1,084.63</td>\n",
       "      <td>1,063.81</td>\n",
       "      <td>1,093.01</td>\n",
       "      <td>1,055.43</td>\n",
       "      <td>1,087.11/td&gt;</td>\n",
       "      <td>1,074.22</td>\n",
       "      <td>1,066.74</td>\n",
       "      <td>0.92</td>\n",
       "    </tr>\n",
       "    <tr>\n",
       "      <th>NaN</th>\n",
       "      <td>NaN</td>\n",
       "      <td>NaN</td>\n",
       "      <td>NaN</td>\n",
       "      <td>NaN</td>\n",
       "      <td>NaN</td>\n",
       "      <td>상승1.42</td>\n",
       "      <td>NaN</td>\n",
       "      <td>NaN</td>\n",
       "    </tr>\n",
       "    <tr>\n",
       "      <th>2019.06.28</th>\n",
       "      <td>1,083.20</td>\n",
       "      <td>1,062.40</td>\n",
       "      <td>1,091.57</td>\n",
       "      <td>1,054.03</td>\n",
       "      <td>1,085.67/td&gt;</td>\n",
       "      <td>1,072.80</td>\n",
       "      <td>1,073.35</td>\n",
       "      <td>0.92</td>\n",
       "    </tr>\n",
       "  </tbody>\n",
       "</table>\n",
       "</div>"
      ],
      "text/plain": [
       "                보내실때      받으실때       사실때       파실때    Unnamed: 5    (전일대비)  \\\n",
       "2019.07.02  1,087.53  1,066.65  1,095.93  1,058.25  1,090.01/td>  1,077.09   \n",
       "NaN              NaN       NaN       NaN       NaN           NaN    상승2.87   \n",
       "2019.07.01  1,084.63  1,063.81  1,093.01  1,055.43  1,087.11/td>  1,074.22   \n",
       "NaN              NaN       NaN       NaN       NaN           NaN    상승1.42   \n",
       "2019.06.28  1,083.20  1,062.40  1,091.57  1,054.03  1,085.67/td>  1,072.80   \n",
       "\n",
       "           Unnamed: 7  Unnamed: 8  \n",
       "2019.07.02   1,066.80        0.92  \n",
       "NaN               NaN         NaN  \n",
       "2019.07.01   1,066.74        0.92  \n",
       "NaN               NaN         NaN  \n",
       "2019.06.28   1,073.35        0.92  "
      ]
     },
     "execution_count": 102,
     "metadata": {},
     "output_type": "execute_result"
    }
   ],
   "source": [
    "f = '기간별환율_20190702.csv'  # 홈페이지 다른이름 저장\n",
    "df = pd.read_csv(f, encoding = 'cp949', index_col=0, header=1)\n",
    "df.head()"
   ]
  },
  {
   "cell_type": "code",
   "execution_count": 113,
   "metadata": {},
   "outputs": [],
   "source": [
    "df4 = df.iloc[:,:4]"
   ]
  },
  {
   "cell_type": "code",
   "execution_count": 114,
   "metadata": {},
   "outputs": [
    {
     "data": {
      "text/html": [
       "<div>\n",
       "<style scoped>\n",
       "    .dataframe tbody tr th:only-of-type {\n",
       "        vertical-align: middle;\n",
       "    }\n",
       "\n",
       "    .dataframe tbody tr th {\n",
       "        vertical-align: top;\n",
       "    }\n",
       "\n",
       "    .dataframe thead th {\n",
       "        text-align: right;\n",
       "    }\n",
       "</style>\n",
       "<table border=\"1\" class=\"dataframe\">\n",
       "  <thead>\n",
       "    <tr style=\"text-align: right;\">\n",
       "      <th></th>\n",
       "      <th>보내실때</th>\n",
       "      <th>받으실때</th>\n",
       "      <th>사실때</th>\n",
       "      <th>파실때</th>\n",
       "    </tr>\n",
       "  </thead>\n",
       "  <tbody>\n",
       "    <tr>\n",
       "      <th>2018.07.03</th>\n",
       "      <td>1,014.98</td>\n",
       "      <td>995.48</td>\n",
       "      <td>1,022.82</td>\n",
       "      <td>987.64</td>\n",
       "    </tr>\n",
       "    <tr>\n",
       "      <th>NaN</th>\n",
       "      <td>NaN</td>\n",
       "      <td>NaN</td>\n",
       "      <td>NaN</td>\n",
       "      <td>NaN</td>\n",
       "    </tr>\n",
       "    <tr>\n",
       "      <th>2018.07.02</th>\n",
       "      <td>1,020.55</td>\n",
       "      <td>1,000.95</td>\n",
       "      <td>1,028.43</td>\n",
       "      <td>993.07</td>\n",
       "    </tr>\n",
       "    <tr>\n",
       "      <th>NaN</th>\n",
       "      <td>NaN</td>\n",
       "      <td>NaN</td>\n",
       "      <td>NaN</td>\n",
       "      <td>NaN</td>\n",
       "    </tr>\n",
       "    <tr>\n",
       "      <th>2018.06.29</th>\n",
       "      <td>1,015.36</td>\n",
       "      <td>995.86</td>\n",
       "      <td>1,023.20</td>\n",
       "      <td>988.02</td>\n",
       "    </tr>\n",
       "  </tbody>\n",
       "</table>\n",
       "</div>"
      ],
      "text/plain": [
       "                보내실때      받으실때       사실때     파실때\n",
       "2018.07.03  1,014.98    995.48  1,022.82  987.64\n",
       "NaN              NaN       NaN       NaN     NaN\n",
       "2018.07.02  1,020.55  1,000.95  1,028.43  993.07\n",
       "NaN              NaN       NaN       NaN     NaN\n",
       "2018.06.29  1,015.36    995.86  1,023.20  988.02"
      ]
     },
     "execution_count": 114,
     "metadata": {},
     "output_type": "execute_result"
    }
   ],
   "source": [
    "df4.tail()"
   ]
  },
  {
   "cell_type": "code",
   "execution_count": 131,
   "metadata": {
    "scrolled": true
   },
   "outputs": [],
   "source": [
    "df4 = df4.dropna() # NaN 하나라도 있으면 그 행을 버린다"
   ]
  },
  {
   "cell_type": "markdown",
   "metadata": {},
   "source": [
    "#### 전처리 (문자 -> 숫자)"
   ]
  },
  {
   "cell_type": "code",
   "execution_count": 132,
   "metadata": {},
   "outputs": [
    {
     "name": "stdout",
     "output_type": "stream",
     "text": [
      "<class 'pandas.core.frame.DataFrame'>\n",
      "Index: 248 entries, 2019.07.02 to 2018.06.29\n",
      "Data columns (total 4 columns):\n",
      "보내실때    248 non-null float64\n",
      "받으실때    248 non-null float64\n",
      "사실때     248 non-null float64\n",
      "파실때     248 non-null float64\n",
      "dtypes: float64(4)\n",
      "memory usage: 9.7+ KB\n"
     ]
    }
   ],
   "source": [
    "df4.info()"
   ]
  },
  {
   "cell_type": "code",
   "execution_count": 133,
   "metadata": {
    "scrolled": true
   },
   "outputs": [
    {
     "data": {
      "text/html": [
       "<div>\n",
       "<style scoped>\n",
       "    .dataframe tbody tr th:only-of-type {\n",
       "        vertical-align: middle;\n",
       "    }\n",
       "\n",
       "    .dataframe tbody tr th {\n",
       "        vertical-align: top;\n",
       "    }\n",
       "\n",
       "    .dataframe thead th {\n",
       "        text-align: right;\n",
       "    }\n",
       "</style>\n",
       "<table border=\"1\" class=\"dataframe\">\n",
       "  <thead>\n",
       "    <tr style=\"text-align: right;\">\n",
       "      <th></th>\n",
       "      <th>보내실때</th>\n",
       "      <th>받으실때</th>\n",
       "      <th>사실때</th>\n",
       "      <th>파실때</th>\n",
       "    </tr>\n",
       "  </thead>\n",
       "  <tbody>\n",
       "    <tr>\n",
       "      <th>2019.07.02</th>\n",
       "      <td>1087.53</td>\n",
       "      <td>1066.65</td>\n",
       "      <td>1095.93</td>\n",
       "      <td>1058.25</td>\n",
       "    </tr>\n",
       "    <tr>\n",
       "      <th>2019.07.01</th>\n",
       "      <td>1084.63</td>\n",
       "      <td>1063.81</td>\n",
       "      <td>1093.01</td>\n",
       "      <td>1055.43</td>\n",
       "    </tr>\n",
       "    <tr>\n",
       "      <th>2019.06.28</th>\n",
       "      <td>1083.20</td>\n",
       "      <td>1062.40</td>\n",
       "      <td>1091.57</td>\n",
       "      <td>1054.03</td>\n",
       "    </tr>\n",
       "    <tr>\n",
       "      <th>2019.06.27</th>\n",
       "      <td>1082.90</td>\n",
       "      <td>1062.10</td>\n",
       "      <td>1091.26</td>\n",
       "      <td>1053.74</td>\n",
       "    </tr>\n",
       "    <tr>\n",
       "      <th>2019.06.26</th>\n",
       "      <td>1086.17</td>\n",
       "      <td>1065.31</td>\n",
       "      <td>1094.56</td>\n",
       "      <td>1056.92</td>\n",
       "    </tr>\n",
       "  </tbody>\n",
       "</table>\n",
       "</div>"
      ],
      "text/plain": [
       "               보내실때     받으실때      사실때      파실때\n",
       "2019.07.02  1087.53  1066.65  1095.93  1058.25\n",
       "2019.07.01  1084.63  1063.81  1093.01  1055.43\n",
       "2019.06.28  1083.20  1062.40  1091.57  1054.03\n",
       "2019.06.27  1082.90  1062.10  1091.26  1053.74\n",
       "2019.06.26  1086.17  1065.31  1094.56  1056.92"
      ]
     },
     "execution_count": 133,
     "metadata": {},
     "output_type": "execute_result"
    }
   ],
   "source": [
    "df4 = df4.replace(',', '', regex = True)\n",
    "df4 = df4.astype(np.float)\n",
    "df4.head()"
   ]
  },
  {
   "cell_type": "code",
   "execution_count": 134,
   "metadata": {},
   "outputs": [
    {
     "data": {
      "text/plain": [
       "<matplotlib.axes._subplots.AxesSubplot at 0x2cb23661b70>"
      ]
     },
     "execution_count": 134,
     "metadata": {},
     "output_type": "execute_result"
    },
    {
     "data": {
      "image/png": "[encoded data removed]",
      "text/plain": [
       "<Figure size 432x288 with 1 Axes>"
      ]
     },
     "metadata": {
      "needs_background": "light"
     },
     "output_type": "display_data"
    }
   ],
   "source": [
    "plt.rc('font',family = 'Malgun Gothic')\n",
    "df4.iloc[::-1].plot()"
   ]
  },
  {
   "cell_type": "code",
   "execution_count": 135,
   "metadata": {},
   "outputs": [
    {
     "name": "stdout",
     "output_type": "stream",
     "text": [
      "WARNING *** file size (48256) not 512 + multiple of sector size (512)\n"
     ]
    },
    {
     "data": {
      "text/html": [
       "<div>\n",
       "<style scoped>\n",
       "    .dataframe tbody tr th:only-of-type {\n",
       "        vertical-align: middle;\n",
       "    }\n",
       "\n",
       "    .dataframe tbody tr th {\n",
       "        vertical-align: top;\n",
       "    }\n",
       "\n",
       "    .dataframe thead th {\n",
       "        text-align: right;\n",
       "    }\n",
       "</style>\n",
       "<table border=\"1\" class=\"dataframe\">\n",
       "  <thead>\n",
       "    <tr style=\"text-align: right;\">\n",
       "      <th></th>\n",
       "      <th>원자료</th>\n",
       "      <th>원자료.1</th>\n",
       "    </tr>\n",
       "    <tr>\n",
       "      <th>변환</th>\n",
       "      <th></th>\n",
       "      <th></th>\n",
       "    </tr>\n",
       "  </thead>\n",
       "  <tbody>\n",
       "    <tr>\n",
       "      <th>2018/06/29</th>\n",
       "      <td>1121.7</td>\n",
       "      <td>1014.79</td>\n",
       "    </tr>\n",
       "    <tr>\n",
       "      <th>2018/06/30</th>\n",
       "      <td>NaN</td>\n",
       "      <td>NaN</td>\n",
       "    </tr>\n",
       "    <tr>\n",
       "      <th>2018/07/01</th>\n",
       "      <td>NaN</td>\n",
       "      <td>NaN</td>\n",
       "    </tr>\n",
       "    <tr>\n",
       "      <th>2018/07/02</th>\n",
       "      <td>1117.2</td>\n",
       "      <td>1009.26</td>\n",
       "    </tr>\n",
       "    <tr>\n",
       "      <th>2018/07/03</th>\n",
       "      <td>1117.4</td>\n",
       "      <td>1008.26</td>\n",
       "    </tr>\n",
       "  </tbody>\n",
       "</table>\n",
       "</div>"
      ],
      "text/plain": [
       "               원자료    원자료.1\n",
       "변환                         \n",
       "2018/06/29  1121.7  1014.79\n",
       "2018/06/30     NaN      NaN\n",
       "2018/07/01     NaN      NaN\n",
       "2018/07/02  1117.2  1009.26\n",
       "2018/07/03  1117.4  1008.26"
      ]
     },
     "execution_count": 135,
     "metadata": {},
     "output_type": "execute_result"
    }
   ],
   "source": [
    "f = '8.8.1.1 주요국통화의 대원화.xls'  # 홈페이지 다른이름 저장\n",
    "df = pd.read_excel(f, encoding = 'cp949', index_col=0, header=3)\n",
    "df.head()"
   ]
  },
  {
   "cell_type": "code",
   "execution_count": 136,
   "metadata": {},
   "outputs": [],
   "source": [
    "df1 = df.dropna()"
   ]
  },
  {
   "cell_type": "code",
   "execution_count": 137,
   "metadata": {},
   "outputs": [
    {
     "data": {
      "text/html": [
       "<div>\n",
       "<style scoped>\n",
       "    .dataframe tbody tr th:only-of-type {\n",
       "        vertical-align: middle;\n",
       "    }\n",
       "\n",
       "    .dataframe tbody tr th {\n",
       "        vertical-align: top;\n",
       "    }\n",
       "\n",
       "    .dataframe thead th {\n",
       "        text-align: right;\n",
       "    }\n",
       "</style>\n",
       "<table border=\"1\" class=\"dataframe\">\n",
       "  <thead>\n",
       "    <tr style=\"text-align: right;\">\n",
       "      <th></th>\n",
       "      <th>원자료</th>\n",
       "      <th>원자료.1</th>\n",
       "    </tr>\n",
       "    <tr>\n",
       "      <th>변환</th>\n",
       "      <th></th>\n",
       "      <th></th>\n",
       "    </tr>\n",
       "  </thead>\n",
       "  <tbody>\n",
       "    <tr>\n",
       "      <th>2018/06/29</th>\n",
       "      <td>1121.7</td>\n",
       "      <td>1014.79</td>\n",
       "    </tr>\n",
       "    <tr>\n",
       "      <th>2018/07/02</th>\n",
       "      <td>1117.2</td>\n",
       "      <td>1009.26</td>\n",
       "    </tr>\n",
       "    <tr>\n",
       "      <th>2018/07/03</th>\n",
       "      <td>1117.4</td>\n",
       "      <td>1008.26</td>\n",
       "    </tr>\n",
       "    <tr>\n",
       "      <th>2018/07/04</th>\n",
       "      <td>1121.1</td>\n",
       "      <td>1014.34</td>\n",
       "    </tr>\n",
       "    <tr>\n",
       "      <th>2018/07/05</th>\n",
       "      <td>1115.3</td>\n",
       "      <td>1009.55</td>\n",
       "    </tr>\n",
       "  </tbody>\n",
       "</table>\n",
       "</div>"
      ],
      "text/plain": [
       "               원자료    원자료.1\n",
       "변환                         \n",
       "2018/06/29  1121.7  1014.79\n",
       "2018/07/02  1117.2  1009.26\n",
       "2018/07/03  1117.4  1008.26\n",
       "2018/07/04  1121.1  1014.34\n",
       "2018/07/05  1115.3  1009.55"
      ]
     },
     "execution_count": 137,
     "metadata": {},
     "output_type": "execute_result"
    }
   ],
   "source": [
    "df1.head()"
   ]
  },
  {
   "cell_type": "code",
   "execution_count": 138,
   "metadata": {},
   "outputs": [],
   "source": [
    "df1.columns = ['미국달러','일본엔']"
   ]
  },
  {
   "cell_type": "code",
   "execution_count": 139,
   "metadata": {},
   "outputs": [
    {
     "data": {
      "text/html": [
       "<div>\n",
       "<style scoped>\n",
       "    .dataframe tbody tr th:only-of-type {\n",
       "        vertical-align: middle;\n",
       "    }\n",
       "\n",
       "    .dataframe tbody tr th {\n",
       "        vertical-align: top;\n",
       "    }\n",
       "\n",
       "    .dataframe thead th {\n",
       "        text-align: right;\n",
       "    }\n",
       "</style>\n",
       "<table border=\"1\" class=\"dataframe\">\n",
       "  <thead>\n",
       "    <tr style=\"text-align: right;\">\n",
       "      <th></th>\n",
       "      <th>미국달러</th>\n",
       "      <th>일본엔</th>\n",
       "    </tr>\n",
       "    <tr>\n",
       "      <th>변환</th>\n",
       "      <th></th>\n",
       "      <th></th>\n",
       "    </tr>\n",
       "  </thead>\n",
       "  <tbody>\n",
       "    <tr>\n",
       "      <th>2018/06/29</th>\n",
       "      <td>1121.7</td>\n",
       "      <td>1014.79</td>\n",
       "    </tr>\n",
       "    <tr>\n",
       "      <th>2018/07/02</th>\n",
       "      <td>1117.2</td>\n",
       "      <td>1009.26</td>\n",
       "    </tr>\n",
       "    <tr>\n",
       "      <th>2018/07/03</th>\n",
       "      <td>1117.4</td>\n",
       "      <td>1008.26</td>\n",
       "    </tr>\n",
       "    <tr>\n",
       "      <th>2018/07/04</th>\n",
       "      <td>1121.1</td>\n",
       "      <td>1014.34</td>\n",
       "    </tr>\n",
       "    <tr>\n",
       "      <th>2018/07/05</th>\n",
       "      <td>1115.3</td>\n",
       "      <td>1009.55</td>\n",
       "    </tr>\n",
       "  </tbody>\n",
       "</table>\n",
       "</div>"
      ],
      "text/plain": [
       "              미국달러      일본엔\n",
       "변환                         \n",
       "2018/06/29  1121.7  1014.79\n",
       "2018/07/02  1117.2  1009.26\n",
       "2018/07/03  1117.4  1008.26\n",
       "2018/07/04  1121.1  1014.34\n",
       "2018/07/05  1115.3  1009.55"
      ]
     },
     "execution_count": 139,
     "metadata": {},
     "output_type": "execute_result"
    }
   ],
   "source": [
    "df1.head()"
   ]
  },
  {
   "cell_type": "code",
   "execution_count": 140,
   "metadata": {},
   "outputs": [
    {
     "data": {
      "text/plain": [
       "<matplotlib.axes._subplots.AxesSubplot at 0x2cb23b7e9e8>"
      ]
     },
     "execution_count": 140,
     "metadata": {},
     "output_type": "execute_result"
    },
    {
     "data": {
      "image/png": "[encoded data removed]",
      "text/plain": [
       "<Figure size 432x288 with 1 Axes>"
      ]
     },
     "metadata": {
      "needs_background": "light"
     },
     "output_type": "display_data"
    }
   ],
   "source": [
    "df1.plot()"
   ]
  },
  {
   "cell_type": "code",
   "execution_count": 145,
   "metadata": {},
   "outputs": [
    {
     "data": {
      "text/plain": [
       "20"
      ]
     },
     "execution_count": 145,
     "metadata": {},
     "output_type": "execute_result"
    }
   ],
   "source": [
    "window_weak = 4\n",
    "window_day = window_weak * 5 # 5일\n",
    "predict_day = 5\n",
    "window_day"
   ]
  },
  {
   "cell_type": "markdown",
   "metadata": {},
   "source": [
    "X, Y 갯수\n",
    "- 데이터가 30개 있으면? 20개로부터 5일 예측하므로 (20+5) =1샘플, 총 5샘플\n",
    "- 현재 데이터 248개 샘플, 총 224 쌍의 X, Y를 만들어야 합니다.\n",
    "- X[224, 2 * 20], y[224, 2 * 5]"
   ]
  },
  {
   "cell_type": "code",
   "execution_count": 146,
   "metadata": {},
   "outputs": [
    {
     "data": {
      "text/plain": [
       "(248, 25, 223)"
      ]
     },
     "execution_count": 146,
     "metadata": {},
     "output_type": "execute_result"
    }
   ],
   "source": [
    "len(df1), window_day + predict_day, len(df1)-(window_day+predict_day)"
   ]
  },
  {
   "cell_type": "code",
   "execution_count": 149,
   "metadata": {},
   "outputs": [
    {
     "data": {
      "text/plain": [
       "(24, 224)"
      ]
     },
     "execution_count": 149,
     "metadata": {},
     "output_type": "execute_result"
    }
   ],
   "source": [
    "offset = window_day +predict_day -1\n",
    "offset, len(df1)-offset"
   ]
  },
  {
   "cell_type": "code",
   "execution_count": 154,
   "metadata": {},
   "outputs": [
    {
     "data": {
      "text/plain": [
       "((243, 2), (228, 2))"
      ]
     },
     "execution_count": 154,
     "metadata": {},
     "output_type": "execute_result"
    }
   ],
   "source": [
    "before = df1.iloc[:-predict_day] # 최근 데이터 24개 빼고\n",
    "later = df1.iloc[window_day:] # 과거 데이터 24개 빼고\n",
    "before.shape, later.shape"
   ]
  },
  {
   "cell_type": "code",
   "execution_count": 155,
   "metadata": {},
   "outputs": [
    {
     "data": {
      "text/plain": [
       "224"
      ]
     },
     "execution_count": 155,
     "metadata": {},
     "output_type": "execute_result"
    }
   ],
   "source": [
    "m = len(df1) - (predict_day + window_day - 1)\n",
    "m"
   ]
  },
  {
   "cell_type": "code",
   "execution_count": 160,
   "metadata": {},
   "outputs": [],
   "source": [
    "x_list = []\n",
    "y_list = []\n",
    "for i in range(m):\n",
    "    x = df1.iloc[i:i+window_day] # 20일간의 데이터\n",
    "    y = df1.iloc[i+window_day:i+window_day+predict_day] # 그 다음 5일간의 데이터\n",
    "    x_list.append(x.values) # 날짜 인덱스 빼고 값만 저장\n",
    "    y_list.append(y.values)"
   ]
  },
  {
   "cell_type": "code",
   "execution_count": 161,
   "metadata": {},
   "outputs": [
    {
     "data": {
      "text/plain": [
       "224"
      ]
     },
     "execution_count": 161,
     "metadata": {},
     "output_type": "execute_result"
    }
   ],
   "source": [
    "len(x_list)"
   ]
  },
  {
   "cell_type": "code",
   "execution_count": 163,
   "metadata": {},
   "outputs": [
    {
     "data": {
      "text/plain": [
       "((224, 20, 2), (224, 5, 2))"
      ]
     },
     "execution_count": 163,
     "metadata": {},
     "output_type": "execute_result"
    }
   ],
   "source": [
    "X = np.array(x_list)\n",
    "y = np.array(y_list)\n",
    "X.shape, y.shape # (m-instance, day, columns:특징수(달러, 엔화))"
   ]
  },
  {
   "cell_type": "code",
   "execution_count": 164,
   "metadata": {},
   "outputs": [
    {
     "data": {
      "text/plain": [
       "((224, 40), (224, 10))"
      ]
     },
     "execution_count": 164,
     "metadata": {},
     "output_type": "execute_result"
    }
   ],
   "source": [
    "X = np.reshape(X,[m,-1])\n",
    "y = np.reshape(y,[m,-1])\n",
    "X.shape, y.shape # (달러, 엔화, 달러, 엔화 ...)"
   ]
  },
  {
   "cell_type": "code",
   "execution_count": 167,
   "metadata": {},
   "outputs": [
    {
     "data": {
      "text/plain": [
       "((194, 40), (30, 40), (194, 10), (30, 10))"
      ]
     },
     "execution_count": 167,
     "metadata": {},
     "output_type": "execute_result"
    }
   ],
   "source": [
    "# train / test 분리\n",
    "offset = 30\n",
    "X_train = X[offset:]\n",
    "X_test = X[:offset]\n",
    "y_train = y[offset:]\n",
    "y_test = y[:offset]\n",
    "X_train.shape, X_test.shape, y_train.shape, y_test.shape"
   ]
  },
  {
   "cell_type": "code",
   "execution_count": 172,
   "metadata": {},
   "outputs": [],
   "source": [
    "from sklearn.linear_model import LinearRegression, Ridge, Lasso\n",
    "#lr = LinearRegression().fit(X_train, y_train)\n",
    "lr = Ridge().fit(X_train, y_train)\n",
    "#lr = Ridge(alpha = 1.0).fit(X_train, y_train)"
   ]
  },
  {
   "cell_type": "code",
   "execution_count": 173,
   "metadata": {},
   "outputs": [],
   "source": [
    "lr = LinearRegression().fit(X_train, y_train)"
   ]
  },
  {
   "cell_type": "code",
   "execution_count": 174,
   "metadata": {},
   "outputs": [
    {
     "data": {
      "text/plain": [
       "(0.9205409567677935, -0.6547522365360025)"
      ]
     },
     "execution_count": 174,
     "metadata": {},
     "output_type": "execute_result"
    }
   ],
   "source": [
    "lr.score(X_train, y_train), lr.score(X_test, y_test)"
   ]
  },
  {
   "cell_type": "code",
   "execution_count": 187,
   "metadata": {},
   "outputs": [
    {
     "data": {
      "text/plain": [
       "(20, 2)"
      ]
     },
     "execution_count": 187,
     "metadata": {},
     "output_type": "execute_result"
    }
   ],
   "source": [
    "최근20일데이터 = df1.iloc[-window_day:]\n",
    "최근20일데이터.shape"
   ]
  },
  {
   "cell_type": "code",
   "execution_count": 189,
   "metadata": {},
   "outputs": [
    {
     "data": {
      "text/plain": [
       "(5, 2)"
      ]
     },
     "execution_count": 189,
     "metadata": {},
     "output_type": "execute_result"
    }
   ],
   "source": [
    "# 미래의 5일 환율 예측을 그래프로 시각화\n",
    "최근20일데이터 = df1.iloc[-window_day:].values.reshape([1,-1])\n",
    "미래의5일예측 = lr.predict(최근20일데이터)\n",
    "미래의5일예측 = np.reshape(미래의5일예측, [predict_day, 2]) # 다시 3차원으로 변환\n",
    "미래의5일예측.shape"
   ]
  },
  {
   "cell_type": "code",
   "execution_count": 193,
   "metadata": {
    "scrolled": true
   },
   "outputs": [
    {
     "data": {
      "text/plain": [
       "[<matplotlib.lines.Line2D at 0x2cb233f4e10>]"
      ]
     },
     "execution_count": 193,
     "metadata": {},
     "output_type": "execute_result"
    },
    {
     "data": {
      "image/png": "[encoded data removed]",
      "text/plain": [
       "<Figure size 432x288 with 1 Axes>"
      ]
     },
     "metadata": {
      "needs_background": "light"
     },
     "output_type": "display_data"
    }
   ],
   "source": [
    "usa = df1.iloc[:,0].values\n",
    "japan = df1.iloc[:,1].values\n",
    "\n",
    "x_num = np.arange(len(usa))\n",
    "x1_num = np.arange(len(usa),len(usa)+len(미래의5일예측))\n",
    "\n",
    "#plt.plot(usa)\n",
    "#plt.plot(japan)\n",
    "plt.plot(x_num, usa)\n",
    "plt.plot(x_num, japan)\n",
    "plt.plot(x1_num, 미래의5일예측[:,0])\n",
    "plt.plot(x1_num, 미래의5일예측[:,1])"
   ]
  }
 ],
 "metadata": {
  "kernelspec": {
   "display_name": "Python 3",
   "language": "python",
   "name": "python3"
  },
  "language_info": {
   "codemirror_mode": {
    "name": "ipython",
    "version": 3
   },
   "file_extension": ".py",
   "mimetype": "text/x-python",
   "name": "python",
   "nbconvert_exporter": "python",
   "pygments_lexer": "ipython3",
   "version": "3.7.3"
  }
 },
 "nbformat": 4,
 "nbformat_minor": 2
}
