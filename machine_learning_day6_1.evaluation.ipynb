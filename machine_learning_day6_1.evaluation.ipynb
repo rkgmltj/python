{
 "cells": [
  {
   "cell_type": "code",
   "execution_count": null,
   "metadata": {},
   "outputs": [],
   "source": [
    "'''\n",
    "### 배운내용\n",
    "\n",
    "- 파이썬, Numpy(속도, 편의성), Pandas(High level API)\n",
    "- 머신러닝 : 교사학습(성능/Y)\n",
    "           비교사학습(항상 가능, 성능 낮음)\n",
    "           강화학습(액션/보상) - 어렵고 자원 필요 ....준교사학습/약교사학습\n",
    "- 교사학습: KNN: k개 이웃 찾기로 분류/회귀\n",
    "          Linear Regression(선형 회귀), 측: 데이터를 Y = ax+b 등으로 모델링\n",
    "              > Ridge, Lasso : 파라미터가 커지지 않도록 제약\n",
    "          Decisoin Tree(결정트리) : 장점 - 시각적, 설명력/ 단점 - 성능 떨어지고 과적합\n",
    "              > ensenble(2개 이상의 모델 같이 사용) 기법으로 단점 해결\n",
    "             Random Forest: 서로 다른 Tree 여러개(예를 들어 100개)\n",
    "                 > 다른 데이터를 나무에 주입 : 부트스트랩, 병렬화 가능\n",
    "             Gradient Boosting Model\n",
    "                 > 순차적으로 Tree를 fit, 현재의 loss를 줄이는 다음 tree\n",
    "             AnaBoost : Adaptive Boost 적응적으로 (성능을) 끌어올리자\n",
    "                 > 순차적으로 Tree를 fit, 예측이 틀린 샘플을 다음 tree에서 맞추자\n",
    "           SVM(Support Vector Machine): 일부 벡터만 가지고 분류, 예측\n",
    "           Neural Network(신경망) : MLP(Multi Layer Perceptron) 히든 레이어 등장 \n",
    "                                    Y = ax+b  >  Y = dd*(cc*(aaX+bb)+cc)+e+d*(c*(aX+b)+c)+e\n",
    "- 비교사학습 : 차원축소와 클러스터링\n",
    "             PCA(Principle Component Analysis: 주성분분석): 주성분-분산이 가장 큰 데이터\n",
    "             t-SNE: 인접한 특징을 가장 잘 설명하는 새로운 표현 방법을 찾는다.\n",
    "                    글자 이미지들처럼 선들이 이어져 있을 때 효과적\n",
    "             k-means: K개로 분류\n",
    "             군집 알고리즘: 가까운 샘플들끼리 그룹화해 나갑니다.\n",
    "                            k개 그룹이 될때까지\n",
    "             DBSCAN : 거리를 정해주면 그 거리안의 샘플들끼리 그룹화해 나갑니다.\n",
    "- 성능지표, Accuracym Prescision, Recall, ROC 커브, F-score, confusion matrix 등\n",
    "- 성능 좋은 모델 찾는 법, 텍스트 데이터 다루기\n",
    "'''"
   ]
  },
  {
   "cell_type": "markdown",
   "metadata": {},
   "source": [
    "\n",
    "# 5장 모델 평가와 성능 향상"
   ]
  },
  {
   "cell_type": "markdown",
   "metadata": {},
   "source": [
    "### 교차 검증\n",
    "- 데이터를 훈련 세트와 테스트 세트로 한번 나누기?\n",
    "- 여러번 나누자!"
   ]
  },
  {
   "cell_type": "code",
   "execution_count": 23,
   "metadata": {},
   "outputs": [],
   "source": [
    "import mglearn\n",
    "import numpy as np"
   ]
  },
  {
   "cell_type": "code",
   "execution_count": 2,
   "metadata": {},
   "outputs": [
    {
     "data": {
      "image/png": "[encoded data removed]",
      "text/plain": [
       "<Figure size 864x144 with 1 Axes>"
      ]
     },
     "metadata": {
      "needs_background": "light"
     },
     "output_type": "display_data"
    }
   ],
   "source": [
    "mglearn.plots.plot_cross_validation()"
   ]
  },
  {
   "cell_type": "code",
   "execution_count": 3,
   "metadata": {},
   "outputs": [],
   "source": [
    "# 325\n",
    "from sklearn.model_selection import cross_val_score # 소문자로 시작한 cross_val_score 함수\n",
    "from sklearn.datasets import load_iris # 분류\n",
    "from sklearn.linear_model import LinearRegression, LogisticRegression # 예측, 분류"
   ]
  },
  {
   "cell_type": "code",
   "execution_count": 5,
   "metadata": {},
   "outputs": [
    {
     "data": {
      "text/plain": [
       "((150, 4), (150,))"
      ]
     },
     "execution_count": 5,
     "metadata": {},
     "output_type": "execute_result"
    }
   ],
   "source": [
    "iris = load_iris()\n",
    "iris.data.shape, iris.target.shape # X,Y"
   ]
  },
  {
   "cell_type": "code",
   "execution_count": 19,
   "metadata": {},
   "outputs": [],
   "source": [
    "model = LogisticRegression(solver='lbfgs', multi_class='auto')"
   ]
  },
  {
   "cell_type": "code",
   "execution_count": 24,
   "metadata": {},
   "outputs": [
    {
     "name": "stderr",
     "output_type": "stream",
     "text": [
      "C:\\Users\\wtime\\Anaconda3\\lib\\site-packages\\sklearn\\linear_model\\logistic.py:758: ConvergenceWarning: lbfgs failed to converge. Increase the number of iterations.\n",
      "  \"of iterations.\", ConvergenceWarning)\n"
     ]
    },
    {
     "data": {
      "text/plain": [
       "(array([0.96666667, 1.        , 0.93333333, 0.96666667, 1.        ]),\n",
       " 0.9733333333333334)"
      ]
     },
     "execution_count": 24,
     "metadata": {},
     "output_type": "execute_result"
    }
   ],
   "source": [
    "scores = cross_val_score(model, iris.data, iris.target, cv = 5) # cv: fold 몇개? 교차검증 몇 번?\n",
    "scores, np.mean(scores)"
   ]
  },
  {
   "cell_type": "code",
   "execution_count": 25,
   "metadata": {},
   "outputs": [],
   "source": [
    "from sklearn.model_selection import cross_val_score, cross_validate # score 외의 정보도 출력됩니다."
   ]
  },
  {
   "cell_type": "code",
   "execution_count": 28,
   "metadata": {},
   "outputs": [
    {
     "name": "stderr",
     "output_type": "stream",
     "text": [
      "C:\\Users\\wtime\\Anaconda3\\lib\\site-packages\\sklearn\\linear_model\\logistic.py:758: ConvergenceWarning: lbfgs failed to converge. Increase the number of iterations.\n",
      "  \"of iterations.\", ConvergenceWarning)\n"
     ]
    }
   ],
   "source": [
    "info = cross_validate(model, iris.data, iris.target, cv = 5, return_train_score='true')"
   ]
  },
  {
   "cell_type": "code",
   "execution_count": 29,
   "metadata": {},
   "outputs": [
    {
     "data": {
      "text/html": [
       "<div>\n",
       "<style scoped>\n",
       "    .dataframe tbody tr th:only-of-type {\n",
       "        vertical-align: middle;\n",
       "    }\n",
       "\n",
       "    .dataframe tbody tr th {\n",
       "        vertical-align: top;\n",
       "    }\n",
       "\n",
       "    .dataframe thead th {\n",
       "        text-align: right;\n",
       "    }\n",
       "</style>\n",
       "<table border=\"1\" class=\"dataframe\">\n",
       "  <thead>\n",
       "    <tr style=\"text-align: right;\">\n",
       "      <th></th>\n",
       "      <th>fit_time</th>\n",
       "      <th>score_time</th>\n",
       "      <th>test_score</th>\n",
       "      <th>train_score</th>\n",
       "    </tr>\n",
       "  </thead>\n",
       "  <tbody>\n",
       "    <tr>\n",
       "      <th>0</th>\n",
       "      <td>0.015390</td>\n",
       "      <td>0.0</td>\n",
       "      <td>0.966667</td>\n",
       "      <td>0.966667</td>\n",
       "    </tr>\n",
       "    <tr>\n",
       "      <th>1</th>\n",
       "      <td>0.031243</td>\n",
       "      <td>0.0</td>\n",
       "      <td>1.000000</td>\n",
       "      <td>0.966667</td>\n",
       "    </tr>\n",
       "    <tr>\n",
       "      <th>2</th>\n",
       "      <td>0.015655</td>\n",
       "      <td>0.0</td>\n",
       "      <td>0.933333</td>\n",
       "      <td>0.983333</td>\n",
       "    </tr>\n",
       "    <tr>\n",
       "      <th>3</th>\n",
       "      <td>0.015614</td>\n",
       "      <td>0.0</td>\n",
       "      <td>0.966667</td>\n",
       "      <td>0.983333</td>\n",
       "    </tr>\n",
       "    <tr>\n",
       "      <th>4</th>\n",
       "      <td>0.015617</td>\n",
       "      <td>0.0</td>\n",
       "      <td>1.000000</td>\n",
       "      <td>0.975000</td>\n",
       "    </tr>\n",
       "  </tbody>\n",
       "</table>\n",
       "</div>"
      ],
      "text/plain": [
       "   fit_time  score_time  test_score  train_score\n",
       "0  0.015390         0.0    0.966667     0.966667\n",
       "1  0.031243         0.0    1.000000     0.966667\n",
       "2  0.015655         0.0    0.933333     0.983333\n",
       "3  0.015614         0.0    0.966667     0.983333\n",
       "4  0.015617         0.0    1.000000     0.975000"
      ]
     },
     "execution_count": 29,
     "metadata": {},
     "output_type": "execute_result"
    }
   ],
   "source": [
    "import pandas as pd\n",
    "pd.DataFrame(info)"
   ]
  },
  {
   "cell_type": "markdown",
   "metadata": {},
   "source": [
    "### 그리드 서치"
   ]
  },
  {
   "cell_type": "markdown",
   "metadata": {},
   "source": [
    "- 파라미터: 모델이 자동으로 fitting, 사람이 정해줘야 하는 파라미터(하이퍼 파라미터: 예 KNN의 k)\n",
    "- (하이퍼) 파라미터 선정을 위한 서치"
   ]
  },
  {
   "cell_type": "code",
   "execution_count": 31,
   "metadata": {},
   "outputs": [
    {
     "data": {
      "image/png": "[encoded data removed]",
      "text/plain": [
       "<Figure size 700x210 with 1 Axes>"
      ]
     },
     "metadata": {
      "needs_background": "light"
     },
     "output_type": "display_data"
    }
   ],
   "source": [
    "# 342\n",
    "mglearn.plots.plot_grid_search_overview()"
   ]
  },
  {
   "cell_type": "code",
   "execution_count": 76,
   "metadata": {},
   "outputs": [],
   "source": [
    "from sklearn.svm import SVC, SVR # 분류/ 예측\n",
    "model = SVC(C=0.5 ,gamma=0.001)\n",
    "#model = SVC(C=100 ,gamma=0.01)\n",
    "# c규제 : 규제가 크다 -> 파라미터를 작게 만든다 -> 모든 특징을 활용해서 예측\n",
    "# gamma 는 커널의 폭에 해당(폭이 넓으면 느슨하게 분류, 폭이 좁으면 세밀하게 분류)"
   ]
  },
  {
   "cell_type": "code",
   "execution_count": 77,
   "metadata": {},
   "outputs": [
    {
     "data": {
      "text/plain": [
       "array([0.86666667, 0.96666667, 0.83333333, 0.96666667, 0.93333333])"
      ]
     },
     "execution_count": 77,
     "metadata": {},
     "output_type": "execute_result"
    }
   ],
   "source": [
    "cross_val_score(model, iris.data, iris.target, cv =5)"
   ]
  },
  {
   "cell_type": "code",
   "execution_count": 38,
   "metadata": {},
   "outputs": [],
   "source": [
    "#최적의 C, gamma 값을 찾아보자\n",
    "C = [0.1, 1, 10, 50, 100]\n",
    "gamma = [0.001, 0.01, 0.1, 1, 10]"
   ]
  },
  {
   "cell_type": "code",
   "execution_count": 46,
   "metadata": {},
   "outputs": [
    {
     "name": "stdout",
     "output_type": "stream",
     "text": [
      "best_g_c (0.01, 50) 0.9866666666666667\n"
     ]
    }
   ],
   "source": [
    "maximum = -1\n",
    "best_g_c = 0\n",
    "for g in gamma:\n",
    "    for c in C:\n",
    "        model = SVC(C=c ,gamma=g)\n",
    "        scores = cross_val_score(model, iris.data, iris.target, cv = 5)\n",
    "        #print('Gamma',g, 'C',c, np.mean(scores))\n",
    "        if np.mean(scores)> maximum:\n",
    "            maximum = np.mean(scores)\n",
    "            best_g_c = (g,c)\n",
    "print('best_g_c', best_g_c, maximum)"
   ]
  },
  {
   "cell_type": "markdown",
   "metadata": {},
   "source": [
    "### =========================================================="
   ]
  },
  {
   "cell_type": "markdown",
   "metadata": {},
   "source": [
    "### =========================================================="
   ]
  },
  {
   "cell_type": "code",
   "execution_count": 51,
   "metadata": {},
   "outputs": [],
   "source": [
    "#343 모델의 성능 가산점 90%, 95%\n",
    "from sklearn.model_selection import GridSearchCV"
   ]
  },
  {
   "cell_type": "code",
   "execution_count": 132,
   "metadata": {},
   "outputs": [],
   "source": [
    "param_grid = {'C': [0.1, 1, 10, 50, 100], 'gamma': [0.001, 0.01, 0.1, 1, 10]} #dict\n",
    "grid_search = GridSearchCV(SVC(), param_grid, return_train_score=True)"
   ]
  },
  {
   "cell_type": "code",
   "execution_count": 133,
   "metadata": {},
   "outputs": [
    {
     "name": "stderr",
     "output_type": "stream",
     "text": [
      "C:\\Users\\wtime\\Anaconda3\\lib\\site-packages\\sklearn\\model_selection\\_split.py:2053: FutureWarning: You should specify a value for 'cv' instead of relying on the default value. The default value will change from 3 to 5 in version 0.22.\n",
      "  warnings.warn(CV_WARNING, FutureWarning)\n",
      "C:\\Users\\wtime\\Anaconda3\\lib\\site-packages\\sklearn\\model_selection\\_search.py:841: DeprecationWarning: The default of the `iid` parameter will change from True to False in version 0.22 and will be removed in 0.24. This will change numeric results when test-set sizes are unequal.\n",
      "  DeprecationWarning)\n"
     ]
    }
   ],
   "source": [
    "grid_search = grid_search.fit(iris.data, iris.target)"
   ]
  },
  {
   "cell_type": "code",
   "execution_count": 134,
   "metadata": {},
   "outputs": [
    {
     "data": {
      "text/plain": [
       "SVC(C=100, cache_size=200, class_weight=None, coef0=0.0,\n",
       "  decision_function_shape='ovr', degree=3, gamma=0.01, kernel='rbf',\n",
       "  max_iter=-1, probability=False, random_state=None, shrinking=True,\n",
       "  tol=0.001, verbose=False)"
      ]
     },
     "execution_count": 134,
     "metadata": {},
     "output_type": "execute_result"
    }
   ],
   "source": [
    "grid_search.best_estimator_  # 최적의 하이퍼파라미터"
   ]
  },
  {
   "cell_type": "code",
   "execution_count": 135,
   "metadata": {},
   "outputs": [
    {
     "data": {
      "text/html": [
       "<div>\n",
       "<style scoped>\n",
       "    .dataframe tbody tr th:only-of-type {\n",
       "        vertical-align: middle;\n",
       "    }\n",
       "\n",
       "    .dataframe tbody tr th {\n",
       "        vertical-align: top;\n",
       "    }\n",
       "\n",
       "    .dataframe thead th {\n",
       "        text-align: right;\n",
       "    }\n",
       "</style>\n",
       "<table border=\"1\" class=\"dataframe\">\n",
       "  <thead>\n",
       "    <tr style=\"text-align: right;\">\n",
       "      <th></th>\n",
       "      <th>mean_fit_time</th>\n",
       "      <th>std_fit_time</th>\n",
       "      <th>mean_score_time</th>\n",
       "      <th>std_score_time</th>\n",
       "      <th>param_C</th>\n",
       "      <th>param_gamma</th>\n",
       "      <th>params</th>\n",
       "      <th>split0_test_score</th>\n",
       "      <th>split1_test_score</th>\n",
       "      <th>split2_test_score</th>\n",
       "      <th>mean_test_score</th>\n",
       "      <th>std_test_score</th>\n",
       "      <th>rank_test_score</th>\n",
       "      <th>split0_train_score</th>\n",
       "      <th>split1_train_score</th>\n",
       "      <th>split2_train_score</th>\n",
       "      <th>mean_train_score</th>\n",
       "      <th>std_train_score</th>\n",
       "    </tr>\n",
       "  </thead>\n",
       "  <tbody>\n",
       "    <tr>\n",
       "      <th>0</th>\n",
       "      <td>0.0</td>\n",
       "      <td>0.0</td>\n",
       "      <td>0.0</td>\n",
       "      <td>0.0</td>\n",
       "      <td>0.1</td>\n",
       "      <td>0.001</td>\n",
       "      <td>{'C': 0.1, 'gamma': 0.001}</td>\n",
       "      <td>0.901961</td>\n",
       "      <td>0.901961</td>\n",
       "      <td>0.937500</td>\n",
       "      <td>0.913333</td>\n",
       "      <td>0.016578</td>\n",
       "      <td>22</td>\n",
       "      <td>0.919192</td>\n",
       "      <td>0.949495</td>\n",
       "      <td>0.892157</td>\n",
       "      <td>0.920281</td>\n",
       "      <td>0.023421</td>\n",
       "    </tr>\n",
       "    <tr>\n",
       "      <th>1</th>\n",
       "      <td>0.0</td>\n",
       "      <td>0.0</td>\n",
       "      <td>0.0</td>\n",
       "      <td>0.0</td>\n",
       "      <td>0.1</td>\n",
       "      <td>0.01</td>\n",
       "      <td>{'C': 0.1, 'gamma': 0.01}</td>\n",
       "      <td>0.901961</td>\n",
       "      <td>0.901961</td>\n",
       "      <td>0.937500</td>\n",
       "      <td>0.913333</td>\n",
       "      <td>0.016578</td>\n",
       "      <td>22</td>\n",
       "      <td>0.919192</td>\n",
       "      <td>0.949495</td>\n",
       "      <td>0.892157</td>\n",
       "      <td>0.920281</td>\n",
       "      <td>0.023421</td>\n",
       "    </tr>\n",
       "    <tr>\n",
       "      <th>2</th>\n",
       "      <td>0.0</td>\n",
       "      <td>0.0</td>\n",
       "      <td>0.0</td>\n",
       "      <td>0.0</td>\n",
       "      <td>0.1</td>\n",
       "      <td>0.1</td>\n",
       "      <td>{'C': 0.1, 'gamma': 0.1}</td>\n",
       "      <td>0.921569</td>\n",
       "      <td>0.921569</td>\n",
       "      <td>0.937500</td>\n",
       "      <td>0.926667</td>\n",
       "      <td>0.007432</td>\n",
       "      <td>21</td>\n",
       "      <td>0.939394</td>\n",
       "      <td>0.959596</td>\n",
       "      <td>0.892157</td>\n",
       "      <td>0.930382</td>\n",
       "      <td>0.028260</td>\n",
       "    </tr>\n",
       "    <tr>\n",
       "      <th>3</th>\n",
       "      <td>0.0</td>\n",
       "      <td>0.0</td>\n",
       "      <td>0.0</td>\n",
       "      <td>0.0</td>\n",
       "      <td>0.1</td>\n",
       "      <td>1</td>\n",
       "      <td>{'C': 0.1, 'gamma': 1}</td>\n",
       "      <td>0.960784</td>\n",
       "      <td>0.960784</td>\n",
       "      <td>0.979167</td>\n",
       "      <td>0.966667</td>\n",
       "      <td>0.008575</td>\n",
       "      <td>9</td>\n",
       "      <td>0.969697</td>\n",
       "      <td>0.989899</td>\n",
       "      <td>0.931373</td>\n",
       "      <td>0.963656</td>\n",
       "      <td>0.024272</td>\n",
       "    </tr>\n",
       "    <tr>\n",
       "      <th>4</th>\n",
       "      <td>0.0</td>\n",
       "      <td>0.0</td>\n",
       "      <td>0.0</td>\n",
       "      <td>0.0</td>\n",
       "      <td>0.1</td>\n",
       "      <td>10</td>\n",
       "      <td>{'C': 0.1, 'gamma': 10}</td>\n",
       "      <td>0.686275</td>\n",
       "      <td>0.705882</td>\n",
       "      <td>0.916667</td>\n",
       "      <td>0.766667</td>\n",
       "      <td>0.103216</td>\n",
       "      <td>25</td>\n",
       "      <td>0.848485</td>\n",
       "      <td>0.909091</td>\n",
       "      <td>0.911765</td>\n",
       "      <td>0.889780</td>\n",
       "      <td>0.029221</td>\n",
       "    </tr>\n",
       "  </tbody>\n",
       "</table>\n",
       "</div>"
      ],
      "text/plain": [
       "   mean_fit_time  std_fit_time  mean_score_time  std_score_time param_C  \\\n",
       "0            0.0           0.0              0.0             0.0     0.1   \n",
       "1            0.0           0.0              0.0             0.0     0.1   \n",
       "2            0.0           0.0              0.0             0.0     0.1   \n",
       "3            0.0           0.0              0.0             0.0     0.1   \n",
       "4            0.0           0.0              0.0             0.0     0.1   \n",
       "\n",
       "  param_gamma                      params  split0_test_score  \\\n",
       "0       0.001  {'C': 0.1, 'gamma': 0.001}           0.901961   \n",
       "1        0.01   {'C': 0.1, 'gamma': 0.01}           0.901961   \n",
       "2         0.1    {'C': 0.1, 'gamma': 0.1}           0.921569   \n",
       "3           1      {'C': 0.1, 'gamma': 1}           0.960784   \n",
       "4          10     {'C': 0.1, 'gamma': 10}           0.686275   \n",
       "\n",
       "   split1_test_score  split2_test_score  mean_test_score  std_test_score  \\\n",
       "0           0.901961           0.937500         0.913333        0.016578   \n",
       "1           0.901961           0.937500         0.913333        0.016578   \n",
       "2           0.921569           0.937500         0.926667        0.007432   \n",
       "3           0.960784           0.979167         0.966667        0.008575   \n",
       "4           0.705882           0.916667         0.766667        0.103216   \n",
       "\n",
       "   rank_test_score  split0_train_score  split1_train_score  \\\n",
       "0               22            0.919192            0.949495   \n",
       "1               22            0.919192            0.949495   \n",
       "2               21            0.939394            0.959596   \n",
       "3                9            0.969697            0.989899   \n",
       "4               25            0.848485            0.909091   \n",
       "\n",
       "   split2_train_score  mean_train_score  std_train_score  \n",
       "0            0.892157          0.920281         0.023421  \n",
       "1            0.892157          0.920281         0.023421  \n",
       "2            0.892157          0.930382         0.028260  \n",
       "3            0.931373          0.963656         0.024272  \n",
       "4            0.911765          0.889780         0.029221  "
      ]
     },
     "execution_count": 135,
     "metadata": {},
     "output_type": "execute_result"
    }
   ],
   "source": [
    "df = pd.DataFrame(grid_search.cv_results_)\n",
    "df.head()"
   ]
  },
  {
   "cell_type": "code",
   "execution_count": 136,
   "metadata": {},
   "outputs": [
    {
     "data": {
      "text/plain": [
       "(25, 18)"
      ]
     },
     "execution_count": 136,
     "metadata": {},
     "output_type": "execute_result"
    }
   ],
   "source": [
    "df.shape"
   ]
  },
  {
   "cell_type": "code",
   "execution_count": 137,
   "metadata": {},
   "outputs": [],
   "source": [
    "# 347 그리드 서치 성능을 그림으로\n",
    "scores = np.array(df['mean_test_score']).reshape(5,5)"
   ]
  },
  {
   "cell_type": "code",
   "execution_count": 141,
   "metadata": {},
   "outputs": [
    {
     "data": {
      "image/png": "[encoded data removed]",
      "text/plain": [
       "<Figure size 432x288 with 1 Axes>"
      ]
     },
     "metadata": {
      "needs_background": "light"
     },
     "output_type": "display_data"
    }
   ],
   "source": [
    "p= mglearn.tools.heatmap(scores, xlabel='gamma', ylabel='C'\n",
    "                       , xticklabels = param_grid['C'], yticklabels=param_grid['gamma'])"
   ]
  },
  {
   "cell_type": "code",
   "execution_count": 153,
   "metadata": {},
   "outputs": [
    {
     "name": "stderr",
     "output_type": "stream",
     "text": [
      "C:\\Users\\wtime\\Anaconda3\\lib\\site-packages\\sklearn\\model_selection\\_split.py:2053: FutureWarning: You should specify a value for 'cv' instead of relying on the default value. The default value will change from 3 to 5 in version 0.22.\n",
      "  warnings.warn(CV_WARNING, FutureWarning)\n",
      "C:\\Users\\wtime\\Anaconda3\\lib\\site-packages\\sklearn\\model_selection\\_search.py:841: DeprecationWarning: The default of the `iid` parameter will change from True to False in version 0.22 and will be removed in 0.24. This will change numeric results when test-set sizes are unequal.\n",
      "  DeprecationWarning)\n"
     ]
    }
   ],
   "source": [
    "from sklearn.tree import DecisionTreeClassifier\n",
    "param_grid = {'max_depth': [1, 2, 3, 4, 5, 6], 'min_samples_split': [0.5, 1.0] } \n",
    "#max_depth 최대 높이, 최소 몇개의 샘플이 있어야 분기되느냐(나뭇 가지 edge 가 나뉘느냐)\n",
    "gird_search = GridSearchCV(DecisionTreeClassifier(), param_grid, return_train_score=True)\n",
    "gird_search = gird_search.fit(iris.data, iris.target)"
   ]
  },
  {
   "cell_type": "code",
   "execution_count": 154,
   "metadata": {},
   "outputs": [
    {
     "data": {
      "text/plain": [
       "DecisionTreeClassifier(class_weight=None, criterion='gini', max_depth=2,\n",
       "            max_features=None, max_leaf_nodes=None,\n",
       "            min_impurity_decrease=0.0, min_impurity_split=None,\n",
       "            min_samples_leaf=1, min_samples_split=0.5,\n",
       "            min_weight_fraction_leaf=0.0, presort=False, random_state=None,\n",
       "            splitter='best')"
      ]
     },
     "execution_count": 154,
     "metadata": {},
     "output_type": "execute_result"
    }
   ],
   "source": [
    "grid_search.best_estimator_  # 최적의 하이퍼파라미터"
   ]
  },
  {
   "cell_type": "code",
   "execution_count": 155,
   "metadata": {},
   "outputs": [],
   "source": [
    "df = pd.DataFrame(grid_search.cv_results_)"
   ]
  },
  {
   "cell_type": "code",
   "execution_count": 156,
   "metadata": {},
   "outputs": [
    {
     "data": {
      "text/html": [
       "<div>\n",
       "<style scoped>\n",
       "    .dataframe tbody tr th:only-of-type {\n",
       "        vertical-align: middle;\n",
       "    }\n",
       "\n",
       "    .dataframe tbody tr th {\n",
       "        vertical-align: top;\n",
       "    }\n",
       "\n",
       "    .dataframe thead th {\n",
       "        text-align: right;\n",
       "    }\n",
       "</style>\n",
       "<table border=\"1\" class=\"dataframe\">\n",
       "  <thead>\n",
       "    <tr style=\"text-align: right;\">\n",
       "      <th></th>\n",
       "      <th>mean_fit_time</th>\n",
       "      <th>std_fit_time</th>\n",
       "      <th>mean_score_time</th>\n",
       "      <th>std_score_time</th>\n",
       "      <th>param_max_depth</th>\n",
       "      <th>param_min_samples_split</th>\n",
       "      <th>params</th>\n",
       "      <th>split0_test_score</th>\n",
       "      <th>split1_test_score</th>\n",
       "      <th>split2_test_score</th>\n",
       "      <th>mean_test_score</th>\n",
       "      <th>std_test_score</th>\n",
       "      <th>rank_test_score</th>\n",
       "      <th>split0_train_score</th>\n",
       "      <th>split1_train_score</th>\n",
       "      <th>split2_train_score</th>\n",
       "      <th>mean_train_score</th>\n",
       "      <th>std_train_score</th>\n",
       "    </tr>\n",
       "  </thead>\n",
       "  <tbody>\n",
       "    <tr>\n",
       "      <th>0</th>\n",
       "      <td>0.0</td>\n",
       "      <td>0.0</td>\n",
       "      <td>0.0</td>\n",
       "      <td>0.0</td>\n",
       "      <td>2</td>\n",
       "      <td>0.5</td>\n",
       "      <td>{'max_depth': 2, 'min_samples_split': 0.5}</td>\n",
       "      <td>0.960784</td>\n",
       "      <td>0.901961</td>\n",
       "      <td>0.979167</td>\n",
       "      <td>0.946667</td>\n",
       "      <td>0.032944</td>\n",
       "      <td>1</td>\n",
       "      <td>0.949495</td>\n",
       "      <td>0.989899</td>\n",
       "      <td>0.950980</td>\n",
       "      <td>0.963458</td>\n",
       "      <td>0.018706</td>\n",
       "    </tr>\n",
       "    <tr>\n",
       "      <th>1</th>\n",
       "      <td>0.0</td>\n",
       "      <td>0.0</td>\n",
       "      <td>0.0</td>\n",
       "      <td>0.0</td>\n",
       "      <td>2</td>\n",
       "      <td>1</td>\n",
       "      <td>{'max_depth': 2, 'min_samples_split': 1.0}</td>\n",
       "      <td>0.666667</td>\n",
       "      <td>0.666667</td>\n",
       "      <td>0.666667</td>\n",
       "      <td>0.666667</td>\n",
       "      <td>0.000000</td>\n",
       "      <td>6</td>\n",
       "      <td>0.666667</td>\n",
       "      <td>0.666667</td>\n",
       "      <td>0.666667</td>\n",
       "      <td>0.666667</td>\n",
       "      <td>0.000000</td>\n",
       "    </tr>\n",
       "    <tr>\n",
       "      <th>2</th>\n",
       "      <td>0.0</td>\n",
       "      <td>0.0</td>\n",
       "      <td>0.0</td>\n",
       "      <td>0.0</td>\n",
       "      <td>3</td>\n",
       "      <td>0.5</td>\n",
       "      <td>{'max_depth': 3, 'min_samples_split': 0.5}</td>\n",
       "      <td>0.960784</td>\n",
       "      <td>0.901961</td>\n",
       "      <td>0.979167</td>\n",
       "      <td>0.946667</td>\n",
       "      <td>0.032944</td>\n",
       "      <td>1</td>\n",
       "      <td>0.949495</td>\n",
       "      <td>0.989899</td>\n",
       "      <td>0.950980</td>\n",
       "      <td>0.963458</td>\n",
       "      <td>0.018706</td>\n",
       "    </tr>\n",
       "    <tr>\n",
       "      <th>3</th>\n",
       "      <td>0.0</td>\n",
       "      <td>0.0</td>\n",
       "      <td>0.0</td>\n",
       "      <td>0.0</td>\n",
       "      <td>3</td>\n",
       "      <td>1</td>\n",
       "      <td>{'max_depth': 3, 'min_samples_split': 1.0}</td>\n",
       "      <td>0.666667</td>\n",
       "      <td>0.666667</td>\n",
       "      <td>0.666667</td>\n",
       "      <td>0.666667</td>\n",
       "      <td>0.000000</td>\n",
       "      <td>6</td>\n",
       "      <td>0.666667</td>\n",
       "      <td>0.666667</td>\n",
       "      <td>0.666667</td>\n",
       "      <td>0.666667</td>\n",
       "      <td>0.000000</td>\n",
       "    </tr>\n",
       "    <tr>\n",
       "      <th>4</th>\n",
       "      <td>0.0</td>\n",
       "      <td>0.0</td>\n",
       "      <td>0.0</td>\n",
       "      <td>0.0</td>\n",
       "      <td>4</td>\n",
       "      <td>0.5</td>\n",
       "      <td>{'max_depth': 4, 'min_samples_split': 0.5}</td>\n",
       "      <td>0.960784</td>\n",
       "      <td>0.901961</td>\n",
       "      <td>0.979167</td>\n",
       "      <td>0.946667</td>\n",
       "      <td>0.032944</td>\n",
       "      <td>1</td>\n",
       "      <td>0.949495</td>\n",
       "      <td>0.989899</td>\n",
       "      <td>0.950980</td>\n",
       "      <td>0.963458</td>\n",
       "      <td>0.018706</td>\n",
       "    </tr>\n",
       "  </tbody>\n",
       "</table>\n",
       "</div>"
      ],
      "text/plain": [
       "   mean_fit_time  std_fit_time  mean_score_time  std_score_time  \\\n",
       "0            0.0           0.0              0.0             0.0   \n",
       "1            0.0           0.0              0.0             0.0   \n",
       "2            0.0           0.0              0.0             0.0   \n",
       "3            0.0           0.0              0.0             0.0   \n",
       "4            0.0           0.0              0.0             0.0   \n",
       "\n",
       "  param_max_depth param_min_samples_split  \\\n",
       "0               2                     0.5   \n",
       "1               2                       1   \n",
       "2               3                     0.5   \n",
       "3               3                       1   \n",
       "4               4                     0.5   \n",
       "\n",
       "                                       params  split0_test_score  \\\n",
       "0  {'max_depth': 2, 'min_samples_split': 0.5}           0.960784   \n",
       "1  {'max_depth': 2, 'min_samples_split': 1.0}           0.666667   \n",
       "2  {'max_depth': 3, 'min_samples_split': 0.5}           0.960784   \n",
       "3  {'max_depth': 3, 'min_samples_split': 1.0}           0.666667   \n",
       "4  {'max_depth': 4, 'min_samples_split': 0.5}           0.960784   \n",
       "\n",
       "   split1_test_score  split2_test_score  mean_test_score  std_test_score  \\\n",
       "0           0.901961           0.979167         0.946667        0.032944   \n",
       "1           0.666667           0.666667         0.666667        0.000000   \n",
       "2           0.901961           0.979167         0.946667        0.032944   \n",
       "3           0.666667           0.666667         0.666667        0.000000   \n",
       "4           0.901961           0.979167         0.946667        0.032944   \n",
       "\n",
       "   rank_test_score  split0_train_score  split1_train_score  \\\n",
       "0                1            0.949495            0.989899   \n",
       "1                6            0.666667            0.666667   \n",
       "2                1            0.949495            0.989899   \n",
       "3                6            0.666667            0.666667   \n",
       "4                1            0.949495            0.989899   \n",
       "\n",
       "   split2_train_score  mean_train_score  std_train_score  \n",
       "0            0.950980          0.963458         0.018706  \n",
       "1            0.666667          0.666667         0.000000  \n",
       "2            0.950980          0.963458         0.018706  \n",
       "3            0.666667          0.666667         0.000000  \n",
       "4            0.950980          0.963458         0.018706  "
      ]
     },
     "execution_count": 156,
     "metadata": {},
     "output_type": "execute_result"
    }
   ],
   "source": [
    "df.head()"
   ]
  },
  {
   "cell_type": "code",
   "execution_count": 157,
   "metadata": {
    "scrolled": true
   },
   "outputs": [
    {
     "data": {
      "image/png": "[encoded data removed]",
      "text/plain": [
       "<Figure size 432x288 with 1 Axes>"
      ]
     },
     "metadata": {
      "needs_background": "light"
     },
     "output_type": "display_data"
    }
   ],
   "source": [
    "scores = np.array(df['mean_test_score']).reshape(-1,2)\n",
    "p = mglearn.tools.heatmap(scores, xlabel='min_samples_split', ylabel='max_depth',\n",
    "                      xticklabels=param_grid['min_samples_split'], yticklabels=param_grid['max_depth'])"
   ]
  },
  {
   "cell_type": "markdown",
   "metadata": {},
   "source": [
    "## 에러의 종류\n",
    "- 분류: 정확도 accuracy + 오차 행렬(TP, TN, FP, FN) > 정밀도(precision)와 재현율(recall) > 조화평균(F-score)\n",
    "- 회귀: 결정계수 R^2, Absoluste Loss(L1)"
   ]
  },
  {
   "cell_type": "markdown",
   "metadata": {},
   "source": [
    "#### 너목보 목표: 노래 잘부르는 사람 찾기\n",
    "- 노래 잘부르는 사람 Y = 1 보통 30%\n",
    "- 노래 못부르는 사람 Y = 0"
   ]
  },
  {
   "cell_type": "code",
   "execution_count": 91,
   "metadata": {},
   "outputs": [],
   "source": [
    "Y = [0, 1, 0, 0, 1, 0] # 0은 음치, 1은 노래 잘 부른다"
   ]
  },
  {
   "cell_type": "code",
   "execution_count": 92,
   "metadata": {},
   "outputs": [],
   "source": [
    "p1 = [0, 0, 0, 1, 1, 1]\n",
    "p2 = [0, 0, 0, 0, 0, 1]\n",
    "p3 = [0, 1, 0, 1, 1, 1]"
   ]
  },
  {
   "cell_type": "code",
   "execution_count": 93,
   "metadata": {},
   "outputs": [],
   "source": [
    "Y = np.array(Y)\n",
    "p1 = np.array(p1)\n",
    "p2 = np.array(p2)\n",
    "p3 = np.array(p3)"
   ]
  },
  {
   "cell_type": "markdown",
   "metadata": {},
   "source": [
    "누가 제일 정확하게 예측했습니까?"
   ]
  },
  {
   "cell_type": "code",
   "execution_count": 94,
   "metadata": {},
   "outputs": [
    {
     "data": {
      "text/plain": [
       "(0.5, 0.5, 0.6666666666666666)"
      ]
     },
     "execution_count": 94,
     "metadata": {},
     "output_type": "execute_result"
    }
   ],
   "source": [
    "np.mean(Y==p1), np.mean(Y==p2), np.mean(Y==p3)"
   ]
  },
  {
   "cell_type": "markdown",
   "metadata": {},
   "source": [
    "### => 클래스 불균형 상황에서는 정확도를 사용하면 안됩니다.\n",
    "### => 정밀도(precision)와 재현율(recall) > 조화평균(F-score) 을 써야함"
   ]
  },
  {
   "cell_type": "code",
   "execution_count": 95,
   "metadata": {},
   "outputs": [],
   "source": [
    "# metrics: 성능지표\n",
    "from sklearn.metrics import classification_report"
   ]
  },
  {
   "cell_type": "code",
   "execution_count": 100,
   "metadata": {},
   "outputs": [
    {
     "name": "stdout",
     "output_type": "stream",
     "text": [
      "              precision    recall  f1-score   support\n",
      "\n",
      "          음치       0.67      0.50      0.57         4\n",
      "          가수       0.33      0.50      0.40         2\n",
      "\n",
      "   micro avg       0.50      0.50      0.50         6\n",
      "   macro avg       0.50      0.50      0.49         6\n",
      "weighted avg       0.56      0.50      0.51         6\n",
      "\n"
     ]
    }
   ],
   "source": [
    "print(classification_report(Y, p1, target_names=['음치','가수']))\n",
    "#  precision    recall    f1-score   support\n",
    "#   정밀도      재현율      평균      샘플수"
   ]
  },
  {
   "cell_type": "code",
   "execution_count": 101,
   "metadata": {},
   "outputs": [
    {
     "name": "stdout",
     "output_type": "stream",
     "text": [
      "              precision    recall  f1-score   support\n",
      "\n",
      "          음치       0.60      0.75      0.67         4\n",
      "          가수       0.00      0.00      0.00         2\n",
      "\n",
      "   micro avg       0.50      0.50      0.50         6\n",
      "   macro avg       0.30      0.38      0.33         6\n",
      "weighted avg       0.40      0.50      0.44         6\n",
      "\n"
     ]
    }
   ],
   "source": [
    "print(classification_report(Y, p2, target_names=['음치','가수']))"
   ]
  },
  {
   "cell_type": "code",
   "execution_count": 102,
   "metadata": {},
   "outputs": [
    {
     "name": "stdout",
     "output_type": "stream",
     "text": [
      "              precision    recall  f1-score   support\n",
      "\n",
      "          음치       1.00      0.50      0.67         4\n",
      "          가수       0.50      1.00      0.67         2\n",
      "\n",
      "   micro avg       0.67      0.67      0.67         6\n",
      "   macro avg       0.75      0.75      0.67         6\n",
      "weighted avg       0.83      0.67      0.67         6\n",
      "\n"
     ]
    }
   ],
   "source": [
    "print(classification_report(Y, p3, target_names=['음치','가수']))"
   ]
  },
  {
   "cell_type": "code",
   "execution_count": 104,
   "metadata": {},
   "outputs": [
    {
     "data": {
      "image/png": "[encoded data removed]",
      "text/plain": [
       "<Figure size 432x288 with 1 Axes>"
      ]
     },
     "metadata": {
      "needs_background": "light"
     },
     "output_type": "display_data"
    }
   ],
   "source": [
    "# 362 confusion : 오차/혼동 - 오차행렬, 혼동렬\n",
    "mglearn.plots.plot_binary_confusion_matrix()"
   ]
  },
  {
   "cell_type": "markdown",
   "metadata": {},
   "source": [
    "- True 예측이 맞다\n",
    "- False 예측이 틀렸다\n",
    "- Positive 예측 타겟이다\n",
    "- Negative 예측 타겟이 아니다\n",
    "- \n",
    "- TN: 음치를 음치라고 예측한 샘플 수\n",
    "- FN: 가수를 음치라고 예측한 샘플 수\n",
    "- TP: 가수를 가수라고 예측한 샘플 수\n",
    "- FP: 음치를 가수라고 예측한 샘플 수"
   ]
  },
  {
   "cell_type": "markdown",
   "metadata": {},
   "source": [
    "- 정확도(Accyracy) = TP + TN / (TP + TN + FP + FN) - 클래스 균형\n",
    "- 정밀도(Precision) = TP / (TP + FP) -> 예측이 얼마나 정확하나\n",
    "- 재현율(Recall) = TP / (TP + FN)  * 민감도(통계: sensitivity), 적중률(hirate), 진짜 양성 비율\n",
    "-                  -> 타겟을 몇 퍼센트나 찾았나 ***\n",
    "- F-score: 2*정밀도*재현율"
   ]
  },
  {
   "cell_type": "code",
   "execution_count": 105,
   "metadata": {},
   "outputs": [],
   "source": [
    "# 361\n",
    "from sklearn.metrics import confusion_matrix"
   ]
  },
  {
   "cell_type": "code",
   "execution_count": 108,
   "metadata": {},
   "outputs": [
    {
     "data": {
      "text/plain": [
       "(array([0, 1, 0, 0, 1, 0]), array([0, 0, 0, 1, 1, 1]))"
      ]
     },
     "execution_count": 108,
     "metadata": {},
     "output_type": "execute_result"
    }
   ],
   "source": [
    "Y, p1"
   ]
  },
  {
   "cell_type": "code",
   "execution_count": 107,
   "metadata": {},
   "outputs": [
    {
     "name": "stdout",
     "output_type": "stream",
     "text": [
      "[[2 2]\n",
      " [1 1]]\n"
     ]
    }
   ],
   "source": [
    "print(confusion_matrix(Y, p1))"
   ]
  },
  {
   "cell_type": "markdown",
   "metadata": {},
   "source": [
    "정밀도-재현율 곡선과 ROC 곡선, 멀티 클래스에서의 혼동 행렬"
   ]
  },
  {
   "cell_type": "code",
   "execution_count": 110,
   "metadata": {},
   "outputs": [
    {
     "data": {
      "image/png": "[encoded data removed]",
      "text/plain": [
       "<Figure size 1080x576 with 6 Axes>"
      ]
     },
     "metadata": {},
     "output_type": "display_data"
    }
   ],
   "source": [
    "# 368\n",
    "mglearn.plots.plot_decision_threshold()"
   ]
  },
  {
   "cell_type": "code",
   "execution_count": 111,
   "metadata": {},
   "outputs": [],
   "source": [
    "# 373\n",
    "#digits\n",
    "from sklearn.datasets import load_digits"
   ]
  },
  {
   "cell_type": "code",
   "execution_count": 113,
   "metadata": {},
   "outputs": [],
   "source": [
    "digit = load_digits()"
   ]
  },
  {
   "cell_type": "code",
   "execution_count": 115,
   "metadata": {},
   "outputs": [
    {
     "data": {
      "text/plain": [
       "((1797, 64), (1797,), array([0, 1, 2, 3, 4, 5, 6, 7, 8, 9]))"
      ]
     },
     "execution_count": 115,
     "metadata": {},
     "output_type": "execute_result"
    }
   ],
   "source": [
    "digit.data.shape, digit.target.shape, digit.target_names # X, Y"
   ]
  },
  {
   "cell_type": "markdown",
   "metadata": {},
   "source": [
    "# 데이터 분리 없이 전부 Logistic Regression 으로 fit, score 측정"
   ]
  },
  {
   "cell_type": "code",
   "execution_count": 117,
   "metadata": {},
   "outputs": [
    {
     "name": "stderr",
     "output_type": "stream",
     "text": [
      "C:\\Users\\wtime\\Anaconda3\\lib\\site-packages\\sklearn\\linear_model\\logistic.py:433: FutureWarning: Default solver will be changed to 'lbfgs' in 0.22. Specify a solver to silence this warning.\n",
      "  FutureWarning)\n",
      "C:\\Users\\wtime\\Anaconda3\\lib\\site-packages\\sklearn\\linear_model\\logistic.py:460: FutureWarning: Default multi_class will be changed to 'auto' in 0.22. Specify the multi_class option to silence this warning.\n",
      "  \"this warning.\", FutureWarning)\n"
     ]
    },
    {
     "data": {
      "text/plain": [
       "0.993322203672788"
      ]
     },
     "execution_count": 117,
     "metadata": {},
     "output_type": "execute_result"
    }
   ],
   "source": [
    "x, y = digit.data, digit.target\n",
    "model = LogisticRegression().fit(x,y)\n",
    "model.score(x,y)"
   ]
  },
  {
   "cell_type": "code",
   "execution_count": 118,
   "metadata": {},
   "outputs": [],
   "source": [
    "# 382 혼동행렬\n",
    "from sklearn.metrics import confusion_matrix"
   ]
  },
  {
   "cell_type": "code",
   "execution_count": 119,
   "metadata": {},
   "outputs": [
    {
     "name": "stdout",
     "output_type": "stream",
     "text": [
      "[[178   0   0   0   0   0   0   0   0   0]\n",
      " [  0 179   0   1   0   0   0   0   2   0]\n",
      " [  0   0 177   0   0   0   0   0   0   0]\n",
      " [  0   0   0 183   0   0   0   0   0   0]\n",
      " [  0   0   0   0 181   0   0   0   0   0]\n",
      " [  0   0   0   0   0 182   0   0   0   0]\n",
      " [  0   0   0   0   0   0 181   0   0   0]\n",
      " [  0   0   0   0   0   0   0 179   0   0]\n",
      " [  0   5   0   1   0   0   0   0 168   0]\n",
      " [  0   0   0   1   0   0   0   0   2 177]]\n"
     ]
    }
   ],
   "source": [
    "cm = confusion_matrix(y, model.predict(x))\n",
    "print(cm)"
   ]
  },
  {
   "cell_type": "code",
   "execution_count": 159,
   "metadata": {},
   "outputs": [
    {
     "data": {
      "text/plain": [
       "<matplotlib.collections.PolyCollection at 0x1c71d844b38>"
      ]
     },
     "execution_count": 159,
     "metadata": {},
     "output_type": "execute_result"
    },
    {
     "data": {
      "image/png": "[encoded data removed]",
      "text/plain": [
       "<Figure size 432x288 with 1 Axes>"
      ]
     },
     "metadata": {
      "needs_background": "light"
     },
     "output_type": "display_data"
    }
   ],
   "source": [
    "mglearn.tools.heatmap(cm, xlabel='p', ylabel='Y', \n",
    "                      xticklabels=digit.target_names, yticklabels=digit.target_names, fmt='%d')"
   ]
  }
 ],
 "metadata": {
  "kernelspec": {
   "display_name": "Python 3",
   "language": "python",
   "name": "python3"
  },
  "language_info": {
   "codemirror_mode": {
    "name": "ipython",
    "version": 3
   },
   "file_extension": ".py",
   "mimetype": "text/x-python",
   "name": "python",
   "nbconvert_exporter": "python",
   "pygments_lexer": "ipython3",
   "version": "3.7.3"
  }
 },
 "nbformat": 4,
 "nbformat_minor": 2
}
