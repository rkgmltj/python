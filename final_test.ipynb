{
 "cells": [
  {
   "cell_type": "markdown",
   "metadata": {},
   "source": [
    "## 1. stock market prediction > regression\n",
    " - input: 한국 KOSPI + 미국 DJIA 검색\n",
    " - output : KOSPI 미래의 1일 ~ 1개월간의 종가 예측"
   ]
  },
  {
   "cell_type": "code",
   "execution_count": 69,
   "metadata": {},
   "outputs": [],
   "source": [
    "import numpy as np\n",
    "import pandas as pd\n",
    "import matplotlib.pyplot as plt"
   ]
  },
  {
   "cell_type": "code",
   "execution_count": 82,
   "metadata": {},
   "outputs": [],
   "source": [
    "kospi_url = 'https://kr.investing.com/indices/kospi-historical-data'\n",
    "kospi_url = 'KOSPI 과거 금리 - Investing.com.html'"
   ]
  },
  {
   "cell_type": "code",
   "execution_count": 83,
   "metadata": {
    "scrolled": true
   },
   "outputs": [
    {
     "data": {
      "text/html": [
       "<div>\n",
       "<style scoped>\n",
       "    .dataframe tbody tr th:only-of-type {\n",
       "        vertical-align: middle;\n",
       "    }\n",
       "\n",
       "    .dataframe tbody tr th {\n",
       "        vertical-align: top;\n",
       "    }\n",
       "\n",
       "    .dataframe thead th {\n",
       "        text-align: right;\n",
       "    }\n",
       "</style>\n",
       "<table border=\"1\" class=\"dataframe\">\n",
       "  <thead>\n",
       "    <tr style=\"text-align: right;\">\n",
       "      <th></th>\n",
       "      <th>날짜</th>\n",
       "      <th>현재가</th>\n",
       "      <th>오픈</th>\n",
       "      <th>고가</th>\n",
       "      <th>저가</th>\n",
       "      <th>거래량</th>\n",
       "      <th>변동 %</th>\n",
       "    </tr>\n",
       "  </thead>\n",
       "  <tbody>\n",
       "    <tr>\n",
       "      <th>0</th>\n",
       "      <td>2019년 07월 01일</td>\n",
       "      <td>2129.74</td>\n",
       "      <td>2147.24</td>\n",
       "      <td>2147.24</td>\n",
       "      <td>2126.87</td>\n",
       "      <td>412.29M</td>\n",
       "      <td>-0.04%</td>\n",
       "    </tr>\n",
       "    <tr>\n",
       "      <th>1</th>\n",
       "      <td>2019년 06월 28일</td>\n",
       "      <td>2130.62</td>\n",
       "      <td>2135.06</td>\n",
       "      <td>2139.24</td>\n",
       "      <td>2123.97</td>\n",
       "      <td>537.27M</td>\n",
       "      <td>-0.17%</td>\n",
       "    </tr>\n",
       "    <tr>\n",
       "      <th>2</th>\n",
       "      <td>2019년 06월 27일</td>\n",
       "      <td>2134.32</td>\n",
       "      <td>2120.73</td>\n",
       "      <td>2141.27</td>\n",
       "      <td>2118.22</td>\n",
       "      <td>644.90M</td>\n",
       "      <td>0.59%</td>\n",
       "    </tr>\n",
       "  </tbody>\n",
       "</table>\n",
       "</div>"
      ],
      "text/plain": [
       "              날짜      현재가       오픈       고가       저가      거래량    변동 %\n",
       "0  2019년 07월 01일  2129.74  2147.24  2147.24  2126.87  412.29M  -0.04%\n",
       "1  2019년 06월 28일  2130.62  2135.06  2139.24  2123.97  537.27M  -0.17%\n",
       "2  2019년 06월 27일  2134.32  2120.73  2141.27  2118.22  644.90M   0.59%"
      ]
     },
     "execution_count": 83,
     "metadata": {},
     "output_type": "execute_result"
    }
   ],
   "source": [
    "tables = pd.read_html(kospi_url, encoding='cp949')\n",
    "kospi = tables[0]\n",
    "kospi.head(3)"
   ]
  },
  {
   "cell_type": "code",
   "execution_count": 84,
   "metadata": {
    "scrolled": false
   },
   "outputs": [
    {
     "data": {
      "text/html": [
       "<div>\n",
       "<style scoped>\n",
       "    .dataframe tbody tr th:only-of-type {\n",
       "        vertical-align: middle;\n",
       "    }\n",
       "\n",
       "    .dataframe tbody tr th {\n",
       "        vertical-align: top;\n",
       "    }\n",
       "\n",
       "    .dataframe thead th {\n",
       "        text-align: right;\n",
       "    }\n",
       "</style>\n",
       "<table border=\"1\" class=\"dataframe\">\n",
       "  <thead>\n",
       "    <tr style=\"text-align: right;\">\n",
       "      <th></th>\n",
       "      <th>날짜</th>\n",
       "      <th>현재가</th>\n",
       "      <th>오픈</th>\n",
       "      <th>고가</th>\n",
       "      <th>저가</th>\n",
       "    </tr>\n",
       "  </thead>\n",
       "  <tbody>\n",
       "    <tr>\n",
       "      <th>0</th>\n",
       "      <td>2019년 07월 01일</td>\n",
       "      <td>2129.74</td>\n",
       "      <td>2147.24</td>\n",
       "      <td>2147.24</td>\n",
       "      <td>2126.87</td>\n",
       "    </tr>\n",
       "    <tr>\n",
       "      <th>1</th>\n",
       "      <td>2019년 06월 28일</td>\n",
       "      <td>2130.62</td>\n",
       "      <td>2135.06</td>\n",
       "      <td>2139.24</td>\n",
       "      <td>2123.97</td>\n",
       "    </tr>\n",
       "    <tr>\n",
       "      <th>2</th>\n",
       "      <td>2019년 06월 27일</td>\n",
       "      <td>2134.32</td>\n",
       "      <td>2120.73</td>\n",
       "      <td>2141.27</td>\n",
       "      <td>2118.22</td>\n",
       "    </tr>\n",
       "  </tbody>\n",
       "</table>\n",
       "</div>"
      ],
      "text/plain": [
       "              날짜      현재가       오픈       고가       저가\n",
       "0  2019년 07월 01일  2129.74  2147.24  2147.24  2126.87\n",
       "1  2019년 06월 28일  2130.62  2135.06  2139.24  2123.97\n",
       "2  2019년 06월 27일  2134.32  2120.73  2141.27  2118.22"
      ]
     },
     "execution_count": 84,
     "metadata": {},
     "output_type": "execute_result"
    }
   ],
   "source": [
    "kospi = kospi.iloc[:,:-2]\n",
    "kospi.head(3)"
   ]
  },
  {
   "cell_type": "code",
   "execution_count": 85,
   "metadata": {},
   "outputs": [
    {
     "data": {
      "text/plain": [
       "Index(['날짜', '현재가', '오픈', '고가', '저가'], dtype='object')"
      ]
     },
     "execution_count": 85,
     "metadata": {},
     "output_type": "execute_result"
    }
   ],
   "source": [
    "kospi.columns"
   ]
  },
  {
   "cell_type": "code",
   "execution_count": 87,
   "metadata": {},
   "outputs": [],
   "source": [
    "kospi.columns=['날짜','k종가', 'k오픈', 'k고가', 'k저가']"
   ]
  },
  {
   "cell_type": "code",
   "execution_count": 88,
   "metadata": {},
   "outputs": [
    {
     "data": {
      "text/html": [
       "<div>\n",
       "<style scoped>\n",
       "    .dataframe tbody tr th:only-of-type {\n",
       "        vertical-align: middle;\n",
       "    }\n",
       "\n",
       "    .dataframe tbody tr th {\n",
       "        vertical-align: top;\n",
       "    }\n",
       "\n",
       "    .dataframe thead th {\n",
       "        text-align: right;\n",
       "    }\n",
       "</style>\n",
       "<table border=\"1\" class=\"dataframe\">\n",
       "  <thead>\n",
       "    <tr style=\"text-align: right;\">\n",
       "      <th></th>\n",
       "      <th>날짜</th>\n",
       "      <th>현재가</th>\n",
       "      <th>오픈</th>\n",
       "      <th>고가</th>\n",
       "      <th>저가</th>\n",
       "      <th>거래량</th>\n",
       "      <th>변동 %</th>\n",
       "    </tr>\n",
       "  </thead>\n",
       "  <tbody>\n",
       "    <tr>\n",
       "      <th>0</th>\n",
       "      <td>2019년 07월 01일</td>\n",
       "      <td>26717.43</td>\n",
       "      <td>26805.86</td>\n",
       "      <td>26890.64</td>\n",
       "      <td>26616.21</td>\n",
       "      <td>285.35M</td>\n",
       "      <td>0.44%</td>\n",
       "    </tr>\n",
       "    <tr>\n",
       "      <th>1</th>\n",
       "      <td>2019년 06월 28일</td>\n",
       "      <td>26599.96</td>\n",
       "      <td>26605.93</td>\n",
       "      <td>26638.35</td>\n",
       "      <td>26522.27</td>\n",
       "      <td>499.35M</td>\n",
       "      <td>0.28%</td>\n",
       "    </tr>\n",
       "    <tr>\n",
       "      <th>2</th>\n",
       "      <td>2019년 06월 27일</td>\n",
       "      <td>26526.58</td>\n",
       "      <td>26523.72</td>\n",
       "      <td>26607.24</td>\n",
       "      <td>26465.32</td>\n",
       "      <td>246.93M</td>\n",
       "      <td>-0.04%</td>\n",
       "    </tr>\n",
       "  </tbody>\n",
       "</table>\n",
       "</div>"
      ],
      "text/plain": [
       "              날짜       현재가        오픈        고가        저가      거래량    변동 %\n",
       "0  2019년 07월 01일  26717.43  26805.86  26890.64  26616.21  285.35M   0.44%\n",
       "1  2019년 06월 28일  26599.96  26605.93  26638.35  26522.27  499.35M   0.28%\n",
       "2  2019년 06월 27일  26526.58  26523.72  26607.24  26465.32  246.93M  -0.04%"
      ]
     },
     "execution_count": 88,
     "metadata": {},
     "output_type": "execute_result"
    }
   ],
   "source": [
    "djia_url = 'Dow Jones 과거 금리 - Investing.com.html'\n",
    "djia_tables = pd.read_html(djia_url, encoding='cp949')\n",
    "djia = djia_tables[0]\n",
    "djia.head(3)"
   ]
  },
  {
   "cell_type": "code",
   "execution_count": 89,
   "metadata": {},
   "outputs": [
    {
     "data": {
      "text/html": [
       "<div>\n",
       "<style scoped>\n",
       "    .dataframe tbody tr th:only-of-type {\n",
       "        vertical-align: middle;\n",
       "    }\n",
       "\n",
       "    .dataframe tbody tr th {\n",
       "        vertical-align: top;\n",
       "    }\n",
       "\n",
       "    .dataframe thead th {\n",
       "        text-align: right;\n",
       "    }\n",
       "</style>\n",
       "<table border=\"1\" class=\"dataframe\">\n",
       "  <thead>\n",
       "    <tr style=\"text-align: right;\">\n",
       "      <th></th>\n",
       "      <th>날짜</th>\n",
       "      <th>현재가</th>\n",
       "      <th>오픈</th>\n",
       "      <th>고가</th>\n",
       "      <th>저가</th>\n",
       "    </tr>\n",
       "  </thead>\n",
       "  <tbody>\n",
       "    <tr>\n",
       "      <th>0</th>\n",
       "      <td>2019년 07월 01일</td>\n",
       "      <td>26717.43</td>\n",
       "      <td>26805.86</td>\n",
       "      <td>26890.64</td>\n",
       "      <td>26616.21</td>\n",
       "    </tr>\n",
       "    <tr>\n",
       "      <th>1</th>\n",
       "      <td>2019년 06월 28일</td>\n",
       "      <td>26599.96</td>\n",
       "      <td>26605.93</td>\n",
       "      <td>26638.35</td>\n",
       "      <td>26522.27</td>\n",
       "    </tr>\n",
       "    <tr>\n",
       "      <th>2</th>\n",
       "      <td>2019년 06월 27일</td>\n",
       "      <td>26526.58</td>\n",
       "      <td>26523.72</td>\n",
       "      <td>26607.24</td>\n",
       "      <td>26465.32</td>\n",
       "    </tr>\n",
       "  </tbody>\n",
       "</table>\n",
       "</div>"
      ],
      "text/plain": [
       "              날짜       현재가        오픈        고가        저가\n",
       "0  2019년 07월 01일  26717.43  26805.86  26890.64  26616.21\n",
       "1  2019년 06월 28일  26599.96  26605.93  26638.35  26522.27\n",
       "2  2019년 06월 27일  26526.58  26523.72  26607.24  26465.32"
      ]
     },
     "execution_count": 89,
     "metadata": {},
     "output_type": "execute_result"
    }
   ],
   "source": [
    "djia = djia.iloc[:,:-2]\n",
    "djia.head(3)"
   ]
  },
  {
   "cell_type": "code",
   "execution_count": 90,
   "metadata": {},
   "outputs": [],
   "source": [
    "djia.columns=['날짜','d종가', 'd오픈', 'd고가', 'd저가']"
   ]
  },
  {
   "cell_type": "code",
   "execution_count": 91,
   "metadata": {},
   "outputs": [
    {
     "data": {
      "text/plain": [
       "((245, 5), (251, 5))"
      ]
     },
     "execution_count": 91,
     "metadata": {},
     "output_type": "execute_result"
    }
   ],
   "source": [
    "kospi.shape, djia.shape"
   ]
  },
  {
   "cell_type": "code",
   "execution_count": 92,
   "metadata": {
    "scrolled": true
   },
   "outputs": [
    {
     "data": {
      "text/plain": [
       "날짜     0\n",
       "k종가    0\n",
       "k오픈    0\n",
       "k고가    0\n",
       "k저가    0\n",
       "dtype: int64"
      ]
     },
     "execution_count": 92,
     "metadata": {},
     "output_type": "execute_result"
    }
   ],
   "source": [
    "kospi.isna().sum()"
   ]
  },
  {
   "cell_type": "code",
   "execution_count": 93,
   "metadata": {},
   "outputs": [
    {
     "data": {
      "text/plain": [
       "날짜     0\n",
       "d종가    0\n",
       "d오픈    0\n",
       "d고가    0\n",
       "d저가    0\n",
       "dtype: int64"
      ]
     },
     "execution_count": 93,
     "metadata": {},
     "output_type": "execute_result"
    }
   ],
   "source": [
    "djia.isna().sum()"
   ]
  },
  {
   "cell_type": "code",
   "execution_count": 94,
   "metadata": {},
   "outputs": [],
   "source": [
    "kospi = kospi.set_index('날짜')\n",
    "djia = djia.set_index('날짜')"
   ]
  },
  {
   "cell_type": "code",
   "execution_count": 95,
   "metadata": {},
   "outputs": [
    {
     "name": "stderr",
     "output_type": "stream",
     "text": [
      "C:\\Users\\wtime\\Anaconda3\\lib\\site-packages\\ipykernel_launcher.py:1: FutureWarning: Sorting because non-concatenation axis is not aligned. A future version\n",
      "of pandas will change to not sort by default.\n",
      "\n",
      "To accept the future behavior, pass 'sort=False'.\n",
      "\n",
      "To retain the current behavior and silence the warning, pass 'sort=True'.\n",
      "\n",
      "  \"\"\"Entry point for launching an IPython kernel.\n"
     ]
    },
    {
     "data": {
      "text/plain": [
       "(259, 8)"
      ]
     },
     "execution_count": 95,
     "metadata": {},
     "output_type": "execute_result"
    }
   ],
   "source": [
    "df = pd.concat((kospi,djia), axis=1)\n",
    "df.shape"
   ]
  },
  {
   "cell_type": "code",
   "execution_count": 96,
   "metadata": {},
   "outputs": [
    {
     "data": {
      "text/plain": [
       "k종가    float64\n",
       "k오픈    float64\n",
       "k고가    float64\n",
       "k저가    float64\n",
       "d종가    float64\n",
       "d오픈    float64\n",
       "d고가    float64\n",
       "d저가    float64\n",
       "dtype: object"
      ]
     },
     "execution_count": 96,
     "metadata": {},
     "output_type": "execute_result"
    }
   ],
   "source": [
    "df.dtypes"
   ]
  },
  {
   "cell_type": "code",
   "execution_count": 97,
   "metadata": {},
   "outputs": [
    {
     "data": {
      "text/html": [
       "<div>\n",
       "<style scoped>\n",
       "    .dataframe tbody tr th:only-of-type {\n",
       "        vertical-align: middle;\n",
       "    }\n",
       "\n",
       "    .dataframe tbody tr th {\n",
       "        vertical-align: top;\n",
       "    }\n",
       "\n",
       "    .dataframe thead th {\n",
       "        text-align: right;\n",
       "    }\n",
       "</style>\n",
       "<table border=\"1\" class=\"dataframe\">\n",
       "  <thead>\n",
       "    <tr style=\"text-align: right;\">\n",
       "      <th></th>\n",
       "      <th>k종가</th>\n",
       "      <th>k오픈</th>\n",
       "      <th>k고가</th>\n",
       "      <th>k저가</th>\n",
       "      <th>d종가</th>\n",
       "      <th>d오픈</th>\n",
       "      <th>d고가</th>\n",
       "      <th>d저가</th>\n",
       "    </tr>\n",
       "  </thead>\n",
       "  <tbody>\n",
       "    <tr>\n",
       "      <th>2018년 07월 02일</th>\n",
       "      <td>2271.54</td>\n",
       "      <td>2322.23</td>\n",
       "      <td>2327.59</td>\n",
       "      <td>2271.53</td>\n",
       "      <td>24307.18</td>\n",
       "      <td>24161.53</td>\n",
       "      <td>24319.42</td>\n",
       "      <td>24077.56</td>\n",
       "    </tr>\n",
       "    <tr>\n",
       "      <th>2018년 07월 03일</th>\n",
       "      <td>2272.76</td>\n",
       "      <td>2285.88</td>\n",
       "      <td>2287.39</td>\n",
       "      <td>2252.36</td>\n",
       "      <td>24174.82</td>\n",
       "      <td>24359.39</td>\n",
       "      <td>24444.88</td>\n",
       "      <td>24150.85</td>\n",
       "    </tr>\n",
       "    <tr>\n",
       "      <th>2018년 07월 04일</th>\n",
       "      <td>2265.46</td>\n",
       "      <td>2270.95</td>\n",
       "      <td>2280.81</td>\n",
       "      <td>2261.34</td>\n",
       "      <td>NaN</td>\n",
       "      <td>NaN</td>\n",
       "      <td>NaN</td>\n",
       "      <td>NaN</td>\n",
       "    </tr>\n",
       "  </tbody>\n",
       "</table>\n",
       "</div>"
      ],
      "text/plain": [
       "                   k종가      k오픈      k고가      k저가       d종가       d오픈  \\\n",
       "2018년 07월 02일  2271.54  2322.23  2327.59  2271.53  24307.18  24161.53   \n",
       "2018년 07월 03일  2272.76  2285.88  2287.39  2252.36  24174.82  24359.39   \n",
       "2018년 07월 04일  2265.46  2270.95  2280.81  2261.34       NaN       NaN   \n",
       "\n",
       "                    d고가       d저가  \n",
       "2018년 07월 02일  24319.42  24077.56  \n",
       "2018년 07월 03일  24444.88  24150.85  \n",
       "2018년 07월 04일       NaN       NaN  "
      ]
     },
     "execution_count": 97,
     "metadata": {},
     "output_type": "execute_result"
    }
   ],
   "source": [
    "df.head(3)"
   ]
  },
  {
   "cell_type": "code",
   "execution_count": 98,
   "metadata": {},
   "outputs": [
    {
     "data": {
      "text/plain": [
       "(237, 8)"
      ]
     },
     "execution_count": 98,
     "metadata": {},
     "output_type": "execute_result"
    }
   ],
   "source": [
    "df = df.dropna()\n",
    "df.shape"
   ]
  },
  {
   "cell_type": "code",
   "execution_count": 99,
   "metadata": {},
   "outputs": [
    {
     "data": {
      "text/html": [
       "<div>\n",
       "<style scoped>\n",
       "    .dataframe tbody tr th:only-of-type {\n",
       "        vertical-align: middle;\n",
       "    }\n",
       "\n",
       "    .dataframe tbody tr th {\n",
       "        vertical-align: top;\n",
       "    }\n",
       "\n",
       "    .dataframe thead th {\n",
       "        text-align: right;\n",
       "    }\n",
       "</style>\n",
       "<table border=\"1\" class=\"dataframe\">\n",
       "  <thead>\n",
       "    <tr style=\"text-align: right;\">\n",
       "      <th></th>\n",
       "      <th>k종가</th>\n",
       "      <th>k오픈</th>\n",
       "      <th>k고가</th>\n",
       "      <th>k저가</th>\n",
       "      <th>d종가</th>\n",
       "      <th>d오픈</th>\n",
       "      <th>d고가</th>\n",
       "      <th>d저가</th>\n",
       "    </tr>\n",
       "  </thead>\n",
       "  <tbody>\n",
       "    <tr>\n",
       "      <th>2018년 07월 02일</th>\n",
       "      <td>2271.54</td>\n",
       "      <td>2322.23</td>\n",
       "      <td>2327.59</td>\n",
       "      <td>2271.53</td>\n",
       "      <td>24307.18</td>\n",
       "      <td>24161.53</td>\n",
       "      <td>24319.42</td>\n",
       "      <td>24077.56</td>\n",
       "    </tr>\n",
       "    <tr>\n",
       "      <th>2018년 07월 03일</th>\n",
       "      <td>2272.76</td>\n",
       "      <td>2285.88</td>\n",
       "      <td>2287.39</td>\n",
       "      <td>2252.36</td>\n",
       "      <td>24174.82</td>\n",
       "      <td>24359.39</td>\n",
       "      <td>24444.88</td>\n",
       "      <td>24150.85</td>\n",
       "    </tr>\n",
       "    <tr>\n",
       "      <th>2018년 07월 05일</th>\n",
       "      <td>2257.55</td>\n",
       "      <td>2264.74</td>\n",
       "      <td>2274.74</td>\n",
       "      <td>2243.90</td>\n",
       "      <td>24356.74</td>\n",
       "      <td>24285.82</td>\n",
       "      <td>24372.80</td>\n",
       "      <td>24177.44</td>\n",
       "    </tr>\n",
       "  </tbody>\n",
       "</table>\n",
       "</div>"
      ],
      "text/plain": [
       "                   k종가      k오픈      k고가      k저가       d종가       d오픈  \\\n",
       "2018년 07월 02일  2271.54  2322.23  2327.59  2271.53  24307.18  24161.53   \n",
       "2018년 07월 03일  2272.76  2285.88  2287.39  2252.36  24174.82  24359.39   \n",
       "2018년 07월 05일  2257.55  2264.74  2274.74  2243.90  24356.74  24285.82   \n",
       "\n",
       "                    d고가       d저가  \n",
       "2018년 07월 02일  24319.42  24077.56  \n",
       "2018년 07월 03일  24444.88  24150.85  \n",
       "2018년 07월 05일  24372.80  24177.44  "
      ]
     },
     "execution_count": 99,
     "metadata": {},
     "output_type": "execute_result"
    }
   ],
   "source": [
    "df.head(3)"
   ]
  },
  {
   "cell_type": "code",
   "execution_count": 100,
   "metadata": {},
   "outputs": [
    {
     "data": {
      "text/html": [
       "<div>\n",
       "<style scoped>\n",
       "    .dataframe tbody tr th:only-of-type {\n",
       "        vertical-align: middle;\n",
       "    }\n",
       "\n",
       "    .dataframe tbody tr th {\n",
       "        vertical-align: top;\n",
       "    }\n",
       "\n",
       "    .dataframe thead th {\n",
       "        text-align: right;\n",
       "    }\n",
       "</style>\n",
       "<table border=\"1\" class=\"dataframe\">\n",
       "  <thead>\n",
       "    <tr style=\"text-align: right;\">\n",
       "      <th></th>\n",
       "      <th>k종가</th>\n",
       "      <th>k오픈</th>\n",
       "      <th>k고가</th>\n",
       "      <th>k저가</th>\n",
       "      <th>d종가</th>\n",
       "      <th>d오픈</th>\n",
       "      <th>d고가</th>\n",
       "      <th>d저가</th>\n",
       "    </tr>\n",
       "  </thead>\n",
       "  <tbody>\n",
       "    <tr>\n",
       "      <th>count</th>\n",
       "      <td>237.000000</td>\n",
       "      <td>237.00000</td>\n",
       "      <td>237.000000</td>\n",
       "      <td>237.000000</td>\n",
       "      <td>237.000000</td>\n",
       "      <td>237.000000</td>\n",
       "      <td>237.000000</td>\n",
       "      <td>237.000000</td>\n",
       "    </tr>\n",
       "    <tr>\n",
       "      <th>mean</th>\n",
       "      <td>2170.667342</td>\n",
       "      <td>2171.46135</td>\n",
       "      <td>2181.320464</td>\n",
       "      <td>2158.940591</td>\n",
       "      <td>25430.768734</td>\n",
       "      <td>25424.405105</td>\n",
       "      <td>25558.779873</td>\n",
       "      <td>25282.152574</td>\n",
       "    </tr>\n",
       "    <tr>\n",
       "      <th>std</th>\n",
       "      <td>92.071125</td>\n",
       "      <td>93.12829</td>\n",
       "      <td>91.327047</td>\n",
       "      <td>93.059741</td>\n",
       "      <td>893.688023</td>\n",
       "      <td>894.122694</td>\n",
       "      <td>846.215706</td>\n",
       "      <td>943.756730</td>\n",
       "    </tr>\n",
       "    <tr>\n",
       "      <th>min</th>\n",
       "      <td>1993.700000</td>\n",
       "      <td>1985.95000</td>\n",
       "      <td>2011.560000</td>\n",
       "      <td>1984.530000</td>\n",
       "      <td>21792.200000</td>\n",
       "      <td>21857.730000</td>\n",
       "      <td>22339.870000</td>\n",
       "      <td>21712.530000</td>\n",
       "    </tr>\n",
       "    <tr>\n",
       "      <th>25%</th>\n",
       "      <td>2090.730000</td>\n",
       "      <td>2090.32000</td>\n",
       "      <td>2100.010000</td>\n",
       "      <td>2075.510000</td>\n",
       "      <td>25027.070000</td>\n",
       "      <td>25025.310000</td>\n",
       "      <td>25109.620000</td>\n",
       "      <td>24842.090000</td>\n",
       "    </tr>\n",
       "    <tr>\n",
       "      <th>50%</th>\n",
       "      <td>2168.280000</td>\n",
       "      <td>2169.44000</td>\n",
       "      <td>2179.340000</td>\n",
       "      <td>2152.590000</td>\n",
       "      <td>25554.660000</td>\n",
       "      <td>25568.060000</td>\n",
       "      <td>25688.960000</td>\n",
       "      <td>25425.270000</td>\n",
       "    </tr>\n",
       "    <tr>\n",
       "      <th>75%</th>\n",
       "      <td>2253.830000</td>\n",
       "      <td>2257.35000</td>\n",
       "      <td>2271.820000</td>\n",
       "      <td>2244.590000</td>\n",
       "      <td>26031.810000</td>\n",
       "      <td>26075.100000</td>\n",
       "      <td>26155.290000</td>\n",
       "      <td>25929.430000</td>\n",
       "    </tr>\n",
       "    <tr>\n",
       "      <th>max</th>\n",
       "      <td>2355.430000</td>\n",
       "      <td>2356.13000</td>\n",
       "      <td>2356.620000</td>\n",
       "      <td>2337.470000</td>\n",
       "      <td>26773.940000</td>\n",
       "      <td>26805.860000</td>\n",
       "      <td>26907.370000</td>\n",
       "      <td>26723.370000</td>\n",
       "    </tr>\n",
       "  </tbody>\n",
       "</table>\n",
       "</div>"
      ],
      "text/plain": [
       "               k종가         k오픈          k고가          k저가           d종가  \\\n",
       "count   237.000000   237.00000   237.000000   237.000000    237.000000   \n",
       "mean   2170.667342  2171.46135  2181.320464  2158.940591  25430.768734   \n",
       "std      92.071125    93.12829    91.327047    93.059741    893.688023   \n",
       "min    1993.700000  1985.95000  2011.560000  1984.530000  21792.200000   \n",
       "25%    2090.730000  2090.32000  2100.010000  2075.510000  25027.070000   \n",
       "50%    2168.280000  2169.44000  2179.340000  2152.590000  25554.660000   \n",
       "75%    2253.830000  2257.35000  2271.820000  2244.590000  26031.810000   \n",
       "max    2355.430000  2356.13000  2356.620000  2337.470000  26773.940000   \n",
       "\n",
       "                d오픈           d고가           d저가  \n",
       "count    237.000000    237.000000    237.000000  \n",
       "mean   25424.405105  25558.779873  25282.152574  \n",
       "std      894.122694    846.215706    943.756730  \n",
       "min    21857.730000  22339.870000  21712.530000  \n",
       "25%    25025.310000  25109.620000  24842.090000  \n",
       "50%    25568.060000  25688.960000  25425.270000  \n",
       "75%    26075.100000  26155.290000  25929.430000  \n",
       "max    26805.860000  26907.370000  26723.370000  "
      ]
     },
     "execution_count": 100,
     "metadata": {},
     "output_type": "execute_result"
    }
   ],
   "source": [
    "df.describe()"
   ]
  },
  {
   "cell_type": "code",
   "execution_count": 101,
   "metadata": {},
   "outputs": [
    {
     "data": {
      "text/plain": [
       "k종가    0\n",
       "k오픈    0\n",
       "k고가    0\n",
       "k저가    0\n",
       "d종가    0\n",
       "d오픈    0\n",
       "d고가    0\n",
       "d저가    0\n",
       "dtype: int64"
      ]
     },
     "execution_count": 101,
     "metadata": {},
     "output_type": "execute_result"
    }
   ],
   "source": [
    "df.isna().sum()"
   ]
  },
  {
   "cell_type": "code",
   "execution_count": 102,
   "metadata": {},
   "outputs": [
    {
     "data": {
      "text/html": [
       "<div>\n",
       "<style scoped>\n",
       "    .dataframe tbody tr th:only-of-type {\n",
       "        vertical-align: middle;\n",
       "    }\n",
       "\n",
       "    .dataframe tbody tr th {\n",
       "        vertical-align: top;\n",
       "    }\n",
       "\n",
       "    .dataframe thead th {\n",
       "        text-align: right;\n",
       "    }\n",
       "</style>\n",
       "<table border=\"1\" class=\"dataframe\">\n",
       "  <thead>\n",
       "    <tr style=\"text-align: right;\">\n",
       "      <th></th>\n",
       "      <th>k종가</th>\n",
       "      <th>k오픈</th>\n",
       "      <th>k고가</th>\n",
       "      <th>k저가</th>\n",
       "      <th>d종가</th>\n",
       "      <th>d오픈</th>\n",
       "      <th>d고가</th>\n",
       "      <th>d저가</th>\n",
       "    </tr>\n",
       "  </thead>\n",
       "  <tbody>\n",
       "    <tr>\n",
       "      <th>k종가</th>\n",
       "      <td>8477.092147</td>\n",
       "      <td>8447.298642</td>\n",
       "      <td>8349.647820</td>\n",
       "      <td>8528.937059</td>\n",
       "      <td>37933.156955</td>\n",
       "      <td>37285.693698</td>\n",
       "      <td>33598.136082</td>\n",
       "      <td>42385.164951</td>\n",
       "    </tr>\n",
       "    <tr>\n",
       "      <th>k오픈</th>\n",
       "      <td>8447.298642</td>\n",
       "      <td>8672.878491</td>\n",
       "      <td>8466.412221</td>\n",
       "      <td>8607.129524</td>\n",
       "      <td>38188.489635</td>\n",
       "      <td>37991.549524</td>\n",
       "      <td>34081.423338</td>\n",
       "      <td>42501.485927</td>\n",
       "    </tr>\n",
       "    <tr>\n",
       "      <th>k고가</th>\n",
       "      <td>8349.647820</td>\n",
       "      <td>8466.412221</td>\n",
       "      <td>8340.629601</td>\n",
       "      <td>8451.294983</td>\n",
       "      <td>37538.449470</td>\n",
       "      <td>37126.397482</td>\n",
       "      <td>33419.556129</td>\n",
       "      <td>41734.782440</td>\n",
       "    </tr>\n",
       "    <tr>\n",
       "      <th>k저가</th>\n",
       "      <td>8528.937059</td>\n",
       "      <td>8607.129524</td>\n",
       "      <td>8451.294983</td>\n",
       "      <td>8660.115320</td>\n",
       "      <td>38615.049628</td>\n",
       "      <td>38183.248833</td>\n",
       "      <td>34308.345712</td>\n",
       "      <td>43138.287482</td>\n",
       "    </tr>\n",
       "    <tr>\n",
       "      <th>d종가</th>\n",
       "      <td>37933.156955</td>\n",
       "      <td>38188.489635</td>\n",
       "      <td>37538.449470</td>\n",
       "      <td>38615.049628</td>\n",
       "      <td>798678.282633</td>\n",
       "      <td>777535.257966</td>\n",
       "      <td>745785.824788</td>\n",
       "      <td>834727.900110</td>\n",
       "    </tr>\n",
       "    <tr>\n",
       "      <th>d오픈</th>\n",
       "      <td>37285.693698</td>\n",
       "      <td>37991.549524</td>\n",
       "      <td>37126.397482</td>\n",
       "      <td>38183.248833</td>\n",
       "      <td>777535.257966</td>\n",
       "      <td>799455.391901</td>\n",
       "      <td>750051.843158</td>\n",
       "      <td>831780.494958</td>\n",
       "    </tr>\n",
       "    <tr>\n",
       "      <th>d고가</th>\n",
       "      <td>33598.136082</td>\n",
       "      <td>34081.423338</td>\n",
       "      <td>33419.556129</td>\n",
       "      <td>34308.345712</td>\n",
       "      <td>745785.824788</td>\n",
       "      <td>750051.843158</td>\n",
       "      <td>716081.020356</td>\n",
       "      <td>786850.699172</td>\n",
       "    </tr>\n",
       "    <tr>\n",
       "      <th>d저가</th>\n",
       "      <td>42385.164951</td>\n",
       "      <td>42501.485927</td>\n",
       "      <td>41734.782440</td>\n",
       "      <td>43138.287482</td>\n",
       "      <td>834727.900110</td>\n",
       "      <td>831780.494958</td>\n",
       "      <td>786850.699172</td>\n",
       "      <td>890676.764867</td>\n",
       "    </tr>\n",
       "  </tbody>\n",
       "</table>\n",
       "</div>"
      ],
      "text/plain": [
       "              k종가           k오픈           k고가           k저가            d종가  \\\n",
       "k종가   8477.092147   8447.298642   8349.647820   8528.937059   37933.156955   \n",
       "k오픈   8447.298642   8672.878491   8466.412221   8607.129524   38188.489635   \n",
       "k고가   8349.647820   8466.412221   8340.629601   8451.294983   37538.449470   \n",
       "k저가   8528.937059   8607.129524   8451.294983   8660.115320   38615.049628   \n",
       "d종가  37933.156955  38188.489635  37538.449470  38615.049628  798678.282633   \n",
       "d오픈  37285.693698  37991.549524  37126.397482  38183.248833  777535.257966   \n",
       "d고가  33598.136082  34081.423338  33419.556129  34308.345712  745785.824788   \n",
       "d저가  42385.164951  42501.485927  41734.782440  43138.287482  834727.900110   \n",
       "\n",
       "               d오픈            d고가            d저가  \n",
       "k종가   37285.693698   33598.136082   42385.164951  \n",
       "k오픈   37991.549524   34081.423338   42501.485927  \n",
       "k고가   37126.397482   33419.556129   41734.782440  \n",
       "k저가   38183.248833   34308.345712   43138.287482  \n",
       "d종가  777535.257966  745785.824788  834727.900110  \n",
       "d오픈  799455.391901  750051.843158  831780.494958  \n",
       "d고가  750051.843158  716081.020356  786850.699172  \n",
       "d저가  831780.494958  786850.699172  890676.764867  "
      ]
     },
     "execution_count": 102,
     "metadata": {},
     "output_type": "execute_result"
    }
   ],
   "source": [
    "df.cov() # 상관관계"
   ]
  },
  {
   "cell_type": "code",
   "execution_count": 103,
   "metadata": {},
   "outputs": [
    {
     "data": {
      "text/plain": [
       "(237, 148)"
      ]
     },
     "execution_count": 103,
     "metadata": {},
     "output_type": "execute_result"
    }
   ],
   "source": [
    "input_seq = 60\n",
    "output_seq = 30\n",
    "m = len(df) - (input_seq + output_seq) +1\n",
    "len(df), m"
   ]
  },
  {
   "cell_type": "code",
   "execution_count": 104,
   "metadata": {
    "scrolled": true
   },
   "outputs": [
    {
     "data": {
      "text/html": [
       "<div>\n",
       "<style scoped>\n",
       "    .dataframe tbody tr th:only-of-type {\n",
       "        vertical-align: middle;\n",
       "    }\n",
       "\n",
       "    .dataframe tbody tr th {\n",
       "        vertical-align: top;\n",
       "    }\n",
       "\n",
       "    .dataframe thead th {\n",
       "        text-align: right;\n",
       "    }\n",
       "</style>\n",
       "<table border=\"1\" class=\"dataframe\">\n",
       "  <thead>\n",
       "    <tr style=\"text-align: right;\">\n",
       "      <th></th>\n",
       "      <th>k종가</th>\n",
       "      <th>d종가</th>\n",
       "    </tr>\n",
       "  </thead>\n",
       "  <tbody>\n",
       "    <tr>\n",
       "      <th>2019년 05월 17일</th>\n",
       "      <td>2055.80</td>\n",
       "      <td>25764.00</td>\n",
       "    </tr>\n",
       "    <tr>\n",
       "      <th>2019년 05월 20일</th>\n",
       "      <td>2055.71</td>\n",
       "      <td>25679.90</td>\n",
       "    </tr>\n",
       "    <tr>\n",
       "      <th>2019년 05월 21일</th>\n",
       "      <td>2061.25</td>\n",
       "      <td>25877.33</td>\n",
       "    </tr>\n",
       "    <tr>\n",
       "      <th>2019년 05월 22일</th>\n",
       "      <td>2064.86</td>\n",
       "      <td>25776.61</td>\n",
       "    </tr>\n",
       "    <tr>\n",
       "      <th>2019년 05월 23일</th>\n",
       "      <td>2059.59</td>\n",
       "      <td>25490.47</td>\n",
       "    </tr>\n",
       "    <tr>\n",
       "      <th>2019년 05월 24일</th>\n",
       "      <td>2045.31</td>\n",
       "      <td>25585.69</td>\n",
       "    </tr>\n",
       "    <tr>\n",
       "      <th>2019년 05월 28일</th>\n",
       "      <td>2048.83</td>\n",
       "      <td>25347.77</td>\n",
       "    </tr>\n",
       "    <tr>\n",
       "      <th>2019년 05월 29일</th>\n",
       "      <td>2023.32</td>\n",
       "      <td>25126.41</td>\n",
       "    </tr>\n",
       "    <tr>\n",
       "      <th>2019년 05월 30일</th>\n",
       "      <td>2038.80</td>\n",
       "      <td>25169.88</td>\n",
       "    </tr>\n",
       "    <tr>\n",
       "      <th>2019년 05월 31일</th>\n",
       "      <td>2041.74</td>\n",
       "      <td>24815.04</td>\n",
       "    </tr>\n",
       "    <tr>\n",
       "      <th>2019년 06월 03일</th>\n",
       "      <td>2067.85</td>\n",
       "      <td>24819.78</td>\n",
       "    </tr>\n",
       "    <tr>\n",
       "      <th>2019년 06월 04일</th>\n",
       "      <td>2066.97</td>\n",
       "      <td>25332.18</td>\n",
       "    </tr>\n",
       "    <tr>\n",
       "      <th>2019년 06월 05일</th>\n",
       "      <td>2069.11</td>\n",
       "      <td>25539.57</td>\n",
       "    </tr>\n",
       "    <tr>\n",
       "      <th>2019년 06월 07일</th>\n",
       "      <td>2072.33</td>\n",
       "      <td>25983.94</td>\n",
       "    </tr>\n",
       "    <tr>\n",
       "      <th>2019년 06월 10일</th>\n",
       "      <td>2099.49</td>\n",
       "      <td>26062.68</td>\n",
       "    </tr>\n",
       "    <tr>\n",
       "      <th>2019년 06월 11일</th>\n",
       "      <td>2111.81</td>\n",
       "      <td>26048.51</td>\n",
       "    </tr>\n",
       "    <tr>\n",
       "      <th>2019년 06월 12일</th>\n",
       "      <td>2108.75</td>\n",
       "      <td>26004.83</td>\n",
       "    </tr>\n",
       "    <tr>\n",
       "      <th>2019년 06월 13일</th>\n",
       "      <td>2103.15</td>\n",
       "      <td>26106.77</td>\n",
       "    </tr>\n",
       "    <tr>\n",
       "      <th>2019년 06월 14일</th>\n",
       "      <td>2095.41</td>\n",
       "      <td>26089.61</td>\n",
       "    </tr>\n",
       "    <tr>\n",
       "      <th>2019년 06월 17일</th>\n",
       "      <td>2090.73</td>\n",
       "      <td>26112.53</td>\n",
       "    </tr>\n",
       "    <tr>\n",
       "      <th>2019년 06월 18일</th>\n",
       "      <td>2098.71</td>\n",
       "      <td>26465.54</td>\n",
       "    </tr>\n",
       "    <tr>\n",
       "      <th>2019년 06월 19일</th>\n",
       "      <td>2124.78</td>\n",
       "      <td>26504.00</td>\n",
       "    </tr>\n",
       "    <tr>\n",
       "      <th>2019년 06월 20일</th>\n",
       "      <td>2131.29</td>\n",
       "      <td>26753.17</td>\n",
       "    </tr>\n",
       "    <tr>\n",
       "      <th>2019년 06월 21일</th>\n",
       "      <td>2125.62</td>\n",
       "      <td>26719.13</td>\n",
       "    </tr>\n",
       "    <tr>\n",
       "      <th>2019년 06월 24일</th>\n",
       "      <td>2126.33</td>\n",
       "      <td>26727.54</td>\n",
       "    </tr>\n",
       "    <tr>\n",
       "      <th>2019년 06월 25일</th>\n",
       "      <td>2121.64</td>\n",
       "      <td>26548.22</td>\n",
       "    </tr>\n",
       "    <tr>\n",
       "      <th>2019년 06월 26일</th>\n",
       "      <td>2121.85</td>\n",
       "      <td>26536.82</td>\n",
       "    </tr>\n",
       "    <tr>\n",
       "      <th>2019년 06월 27일</th>\n",
       "      <td>2134.32</td>\n",
       "      <td>26526.58</td>\n",
       "    </tr>\n",
       "    <tr>\n",
       "      <th>2019년 06월 28일</th>\n",
       "      <td>2130.62</td>\n",
       "      <td>26599.96</td>\n",
       "    </tr>\n",
       "    <tr>\n",
       "      <th>2019년 07월 01일</th>\n",
       "      <td>2129.74</td>\n",
       "      <td>26717.43</td>\n",
       "    </tr>\n",
       "  </tbody>\n",
       "</table>\n",
       "</div>"
      ],
      "text/plain": [
       "                   k종가       d종가\n",
       "2019년 05월 17일  2055.80  25764.00\n",
       "2019년 05월 20일  2055.71  25679.90\n",
       "2019년 05월 21일  2061.25  25877.33\n",
       "2019년 05월 22일  2064.86  25776.61\n",
       "2019년 05월 23일  2059.59  25490.47\n",
       "2019년 05월 24일  2045.31  25585.69\n",
       "2019년 05월 28일  2048.83  25347.77\n",
       "2019년 05월 29일  2023.32  25126.41\n",
       "2019년 05월 30일  2038.80  25169.88\n",
       "2019년 05월 31일  2041.74  24815.04\n",
       "2019년 06월 03일  2067.85  24819.78\n",
       "2019년 06월 04일  2066.97  25332.18\n",
       "2019년 06월 05일  2069.11  25539.57\n",
       "2019년 06월 07일  2072.33  25983.94\n",
       "2019년 06월 10일  2099.49  26062.68\n",
       "2019년 06월 11일  2111.81  26048.51\n",
       "2019년 06월 12일  2108.75  26004.83\n",
       "2019년 06월 13일  2103.15  26106.77\n",
       "2019년 06월 14일  2095.41  26089.61\n",
       "2019년 06월 17일  2090.73  26112.53\n",
       "2019년 06월 18일  2098.71  26465.54\n",
       "2019년 06월 19일  2124.78  26504.00\n",
       "2019년 06월 20일  2131.29  26753.17\n",
       "2019년 06월 21일  2125.62  26719.13\n",
       "2019년 06월 24일  2126.33  26727.54\n",
       "2019년 06월 25일  2121.64  26548.22\n",
       "2019년 06월 26일  2121.85  26536.82\n",
       "2019년 06월 27일  2134.32  26526.58\n",
       "2019년 06월 28일  2130.62  26599.96\n",
       "2019년 07월 01일  2129.74  26717.43"
      ]
     },
     "execution_count": 104,
     "metadata": {},
     "output_type": "execute_result"
    }
   ],
   "source": [
    "for i in range(m):\n",
    "    x = df.iloc[i:i+input_seq]\n",
    "    y = df.iloc[i+input_seq:i+input_seq+output_seq][['k종가', 'd종가']]\n",
    "y"
   ]
  },
  {
   "cell_type": "code",
   "execution_count": 105,
   "metadata": {
    "scrolled": true
   },
   "outputs": [
    {
     "data": {
      "text/plain": [
       "[                   k종가       d종가\n",
       " 2018년 10월 02일  2309.57  26773.94\n",
       " 2018년 10월 04일  2274.49  26627.48\n",
       " 2018년 10월 05일  2267.52  26447.05\n",
       " 2018년 10월 08일  2253.83  26486.78\n",
       " 2018년 10월 10일  2228.61  25598.74\n",
       " 2018년 10월 11일  2129.67  25052.83\n",
       " 2018년 10월 12일  2161.85  25339.99\n",
       " 2018년 10월 15일  2145.12  25250.55\n",
       " 2018년 10월 16일  2145.12  25798.42\n",
       " 2018년 10월 17일  2167.51  25706.68\n",
       " 2018년 10월 18일  2148.31  25379.45\n",
       " 2018년 10월 19일  2156.26  25444.34\n",
       " 2018년 10월 22일  2161.71  25317.41\n",
       " 2018년 10월 23일  2106.10  25191.43\n",
       " 2018년 10월 24일  2097.58  24583.42\n",
       " 2018년 10월 25일  2063.30  24984.55\n",
       " 2018년 10월 26일  2027.15  24688.31\n",
       " 2018년 10월 29일  1996.05  24442.92\n",
       " 2018년 10월 30일  2014.69  24874.64\n",
       " 2018년 10월 31일  2029.69  25115.76\n",
       " 2018년 11월 01일  2024.46  25380.74\n",
       " 2018년 11월 02일  2096.00  25270.83\n",
       " 2018년 11월 05일  2076.92  25461.70\n",
       " 2018년 11월 06일  2089.62  25635.01\n",
       " 2018년 11월 07일  2078.69  26180.30\n",
       " 2018년 11월 08일  2092.63  26191.22\n",
       " 2018년 11월 09일  2086.09  25989.30\n",
       " 2018년 11월 12일  2080.44  25387.18\n",
       " 2018년 11월 13일  2071.23  25286.49\n",
       " 2018년 11월 14일  2068.05  25080.50,                    k종가       d종가\n",
       " 2018년 10월 04일  2274.49  26627.48\n",
       " 2018년 10월 05일  2267.52  26447.05\n",
       " 2018년 10월 08일  2253.83  26486.78\n",
       " 2018년 10월 10일  2228.61  25598.74\n",
       " 2018년 10월 11일  2129.67  25052.83\n",
       " 2018년 10월 12일  2161.85  25339.99\n",
       " 2018년 10월 15일  2145.12  25250.55\n",
       " 2018년 10월 16일  2145.12  25798.42\n",
       " 2018년 10월 17일  2167.51  25706.68\n",
       " 2018년 10월 18일  2148.31  25379.45\n",
       " 2018년 10월 19일  2156.26  25444.34\n",
       " 2018년 10월 22일  2161.71  25317.41\n",
       " 2018년 10월 23일  2106.10  25191.43\n",
       " 2018년 10월 24일  2097.58  24583.42\n",
       " 2018년 10월 25일  2063.30  24984.55\n",
       " 2018년 10월 26일  2027.15  24688.31\n",
       " 2018년 10월 29일  1996.05  24442.92\n",
       " 2018년 10월 30일  2014.69  24874.64\n",
       " 2018년 10월 31일  2029.69  25115.76\n",
       " 2018년 11월 01일  2024.46  25380.74\n",
       " 2018년 11월 02일  2096.00  25270.83\n",
       " 2018년 11월 05일  2076.92  25461.70\n",
       " 2018년 11월 06일  2089.62  25635.01\n",
       " 2018년 11월 07일  2078.69  26180.30\n",
       " 2018년 11월 08일  2092.63  26191.22\n",
       " 2018년 11월 09일  2086.09  25989.30\n",
       " 2018년 11월 12일  2080.44  25387.18\n",
       " 2018년 11월 13일  2071.23  25286.49\n",
       " 2018년 11월 14일  2068.05  25080.50\n",
       " 2018년 11월 15일  2088.06  25289.27]"
      ]
     },
     "execution_count": 105,
     "metadata": {},
     "output_type": "execute_result"
    }
   ],
   "source": [
    "x_list = []\n",
    "y_list = []\n",
    "for i in range(m):\n",
    "    x = df.iloc[i:i+input_seq]\n",
    "    y = df.iloc[i+input_seq:i+input_seq+output_seq][['k종가', 'd종가']]\n",
    "    x_list.append(x)\n",
    "    y_list.append(y)\n",
    "y_list[:2]"
   ]
  },
  {
   "cell_type": "code",
   "execution_count": 106,
   "metadata": {},
   "outputs": [
    {
     "data": {
      "text/plain": [
       "148"
      ]
     },
     "execution_count": 106,
     "metadata": {},
     "output_type": "execute_result"
    }
   ],
   "source": [
    "len(x_list)"
   ]
  },
  {
   "cell_type": "code",
   "execution_count": 107,
   "metadata": {},
   "outputs": [
    {
     "data": {
      "text/plain": [
       "((148, 60, 8), (148, 30, 2))"
      ]
     },
     "execution_count": 107,
     "metadata": {},
     "output_type": "execute_result"
    }
   ],
   "source": [
    "x_3d = np.stack(x_list, axis =0)\n",
    "y_3d = np.stack(y_list, axis =0)\n",
    "x_3d.shape, y_3d.shape"
   ]
  },
  {
   "cell_type": "code",
   "execution_count": 108,
   "metadata": {},
   "outputs": [
    {
     "data": {
      "text/plain": [
       "Index(['k종가', 'k오픈', 'k고가', 'k저가', 'd종가', 'd오픈', 'd고가', 'd저가'], dtype='object')"
      ]
     },
     "execution_count": 108,
     "metadata": {},
     "output_type": "execute_result"
    }
   ],
   "source": [
    "df.columns"
   ]
  },
  {
   "cell_type": "code",
   "execution_count": 109,
   "metadata": {},
   "outputs": [],
   "source": [
    "kospi_close_index = 0\n",
    "djia_close_index = 4"
   ]
  },
  {
   "cell_type": "code",
   "execution_count": 112,
   "metadata": {},
   "outputs": [
    {
     "data": {
      "image/png": "[encoded data removed]",
      "text/plain": [
       "<Figure size 432x288 with 1 Axes>"
      ]
     },
     "metadata": {
      "needs_background": "light"
     },
     "output_type": "display_data"
    }
   ],
   "source": [
    "p = plt.rc('font',family = 'Malgun Gothic')\n",
    "p = df['k종가'].plot()\n",
    "p = df['d종가'].plot()"
   ]
  },
  {
   "cell_type": "code",
   "execution_count": 113,
   "metadata": {},
   "outputs": [
    {
     "data": {
      "text/plain": [
       "14"
      ]
     },
     "execution_count": 113,
     "metadata": {},
     "output_type": "execute_result"
    }
   ],
   "source": [
    "test_ratio = 0.1\n",
    "test_m = int(len(x_3d)*test_ratio)\n",
    "test_m"
   ]
  },
  {
   "cell_type": "code",
   "execution_count": 115,
   "metadata": {},
   "outputs": [],
   "source": [
    "m = len(x_3d)\n",
    "x_2d = np.reshape(x_3d,[m,-1])\n",
    "y_2d = np.reshape(y_3d,[m,-1])\n",
    "\n",
    "x_test = x_2d[:test_m]\n",
    "x_train = x_2d[test_m:]\n",
    "y_test = y_2d[:test_m]\n",
    "y_train = y_2d[test_m:]"
   ]
  },
  {
   "cell_type": "code",
   "execution_count": 116,
   "metadata": {},
   "outputs": [],
   "source": [
    "from sklearn.linear_model import Ridge, Lasso\n",
    "model = Ridge(normalize = True, solver='lsqr').fit(x_train,y_train)"
   ]
  },
  {
   "cell_type": "code",
   "execution_count": 117,
   "metadata": {},
   "outputs": [
    {
     "data": {
      "text/plain": [
       "(0.9362690496642989, -3.5139251690342013)"
      ]
     },
     "execution_count": 117,
     "metadata": {},
     "output_type": "execute_result"
    }
   ],
   "source": [
    "model.score(x_train, y_train), model.score(x_test, y_test)"
   ]
  },
  {
   "cell_type": "code",
   "execution_count": 118,
   "metadata": {},
   "outputs": [
    {
     "data": {
      "text/plain": [
       "[<matplotlib.lines.Line2D at 0x2a34d035940>]"
      ]
     },
     "execution_count": 118,
     "metadata": {},
     "output_type": "execute_result"
    },
    {
     "data": {
      "image/png": "[encoded data removed]",
      "text/plain": [
       "<Figure size 432x288 with 1 Axes>"
      ]
     },
     "metadata": {
      "needs_background": "light"
     },
     "output_type": "display_data"
    }
   ],
   "source": [
    "plt.plot(df['k종가'].values)\n",
    "plt.plot(df['d종가'].values)"
   ]
  },
  {
   "cell_type": "code",
   "execution_count": 119,
   "metadata": {},
   "outputs": [
    {
     "data": {
      "text/plain": [
       "(1, 480)"
      ]
     },
     "execution_count": 119,
     "metadata": {},
     "output_type": "execute_result"
    }
   ],
   "source": [
    "recent = df.iloc[-input_seq:]\n",
    "recent = np.reshape(np.array(recent), [1, -1])\n",
    "recent.shape"
   ]
  },
  {
   "cell_type": "code",
   "execution_count": 120,
   "metadata": {},
   "outputs": [
    {
     "data": {
      "text/plain": [
       "(1, 480)"
      ]
     },
     "execution_count": 120,
     "metadata": {},
     "output_type": "execute_result"
    }
   ],
   "source": [
    "recent = df.iloc[-input_seq:]\n",
    "recent = np.reshape(np.array(recent),[1, -1])\n",
    "recent.shape"
   ]
  },
  {
   "cell_type": "code",
   "execution_count": 121,
   "metadata": {},
   "outputs": [
    {
     "data": {
      "text/plain": [
       "(30, 2)"
      ]
     },
     "execution_count": 121,
     "metadata": {},
     "output_type": "execute_result"
    }
   ],
   "source": [
    "p = model.predict(recent)\n",
    "p = np.reshape(p, [output_seq, -1])\n",
    "p.shape"
   ]
  },
  {
   "cell_type": "code",
   "execution_count": 123,
   "metadata": {},
   "outputs": [
    {
     "data": {
      "text/plain": [
       "<matplotlib.legend.Legend at 0x2a34d2e3048>"
      ]
     },
     "execution_count": 123,
     "metadata": {},
     "output_type": "execute_result"
    },
    {
     "data": {
      "image/png": "[encoded data removed]",
      "text/plain": [
       "<Figure size 432x288 with 1 Axes>"
      ]
     },
     "metadata": {
      "needs_background": "light"
     },
     "output_type": "display_data"
    }
   ],
   "source": [
    "plt.plot(df['k종가'].values)\n",
    "plt.plot(df['d종가'].values)\n",
    "plt.plot(p[:,0], label = 'KOSPI')\n",
    "plt.plot(p[:,1], label = 'DJIA')\n",
    "plt.legend()"
   ]
  },
  {
   "cell_type": "code",
   "execution_count": 124,
   "metadata": {},
   "outputs": [
    {
     "data": {
      "text/plain": [
       "<matplotlib.legend.Legend at 0x2a34d128eb8>"
      ]
     },
     "execution_count": 124,
     "metadata": {},
     "output_type": "execute_result"
    },
    {
     "data": {
      "image/png": "[encoded data removed]",
      "text/plain": [
       "<Figure size 432x288 with 1 Axes>"
      ]
     },
     "metadata": {
      "needs_background": "light"
     },
     "output_type": "display_data"
    }
   ],
   "source": [
    "xm = len(df)\n",
    "plt.plot(np.arange(xm), df['k종가'].values, label='KOSPI')\n",
    "plt.plot(np.arange(xm), df['d종가'].values, label='DJIA')\n",
    "plt.plot(np.arange(xm,xm+output_seq), p[:, 0], label='KOSPI')\n",
    "plt.plot(np.arange(xm,xm+output_seq), p[:, 1], label='DJIA')\n",
    "plt.legend()"
   ]
  },
  {
   "cell_type": "markdown",
   "metadata": {},
   "source": [
    "## ======================================"
   ]
  },
  {
   "cell_type": "markdown",
   "metadata": {},
   "source": [
    "## ======================================"
   ]
  },
  {
   "cell_type": "markdown",
   "metadata": {},
   "source": [
    "## 2. loan default prediction > classification\n",
    " - input: 검색"
   ]
  },
  {
   "cell_type": "code",
   "execution_count": 131,
   "metadata": {},
   "outputs": [],
   "source": [
    "import matplotlib.pyplot as plt\n",
    "from sklearn.decomposition import PCA\n",
    "from sklearn.cluster import KMeans\n",
    "import mglearn"
   ]
  },
  {
   "cell_type": "code",
   "execution_count": 132,
   "metadata": {},
   "outputs": [
    {
     "data": {
      "text/plain": [
       "(9578, 14)"
      ]
     },
     "execution_count": 132,
     "metadata": {},
     "output_type": "execute_result"
    }
   ],
   "source": [
    "loans = pd.read_csv('loans.csv')\n",
    "loans.shape"
   ]
  },
  {
   "cell_type": "code",
   "execution_count": 134,
   "metadata": {},
   "outputs": [
    {
     "data": {
      "text/html": [
       "<div>\n",
       "<style scoped>\n",
       "    .dataframe tbody tr th:only-of-type {\n",
       "        vertical-align: middle;\n",
       "    }\n",
       "\n",
       "    .dataframe tbody tr th {\n",
       "        vertical-align: top;\n",
       "    }\n",
       "\n",
       "    .dataframe thead th {\n",
       "        text-align: right;\n",
       "    }\n",
       "</style>\n",
       "<table border=\"1\" class=\"dataframe\">\n",
       "  <thead>\n",
       "    <tr style=\"text-align: right;\">\n",
       "      <th></th>\n",
       "      <th>credit.policy</th>\n",
       "      <th>purpose</th>\n",
       "      <th>int.rate</th>\n",
       "      <th>installment</th>\n",
       "      <th>log.annual.inc</th>\n",
       "      <th>dti</th>\n",
       "      <th>fico</th>\n",
       "      <th>days.with.cr.line</th>\n",
       "      <th>revol.bal</th>\n",
       "      <th>revol.util</th>\n",
       "      <th>inq.last.6mths</th>\n",
       "      <th>delinq.2yrs</th>\n",
       "      <th>pub.rec</th>\n",
       "      <th>not.fully.paid</th>\n",
       "    </tr>\n",
       "  </thead>\n",
       "  <tbody>\n",
       "    <tr>\n",
       "      <th>0</th>\n",
       "      <td>1</td>\n",
       "      <td>debt_consolidation</td>\n",
       "      <td>0.1189</td>\n",
       "      <td>829.10</td>\n",
       "      <td>11.350407</td>\n",
       "      <td>19.48</td>\n",
       "      <td>737</td>\n",
       "      <td>5639.958333</td>\n",
       "      <td>28854</td>\n",
       "      <td>52.1</td>\n",
       "      <td>0.0</td>\n",
       "      <td>0.0</td>\n",
       "      <td>0.0</td>\n",
       "      <td>0</td>\n",
       "    </tr>\n",
       "    <tr>\n",
       "      <th>1</th>\n",
       "      <td>1</td>\n",
       "      <td>credit_card</td>\n",
       "      <td>0.1071</td>\n",
       "      <td>228.22</td>\n",
       "      <td>11.082143</td>\n",
       "      <td>14.29</td>\n",
       "      <td>707</td>\n",
       "      <td>2760.000000</td>\n",
       "      <td>33623</td>\n",
       "      <td>76.7</td>\n",
       "      <td>0.0</td>\n",
       "      <td>0.0</td>\n",
       "      <td>0.0</td>\n",
       "      <td>0</td>\n",
       "    </tr>\n",
       "  </tbody>\n",
       "</table>\n",
       "</div>"
      ],
      "text/plain": [
       "   credit.policy             purpose  int.rate  installment  log.annual.inc  \\\n",
       "0              1  debt_consolidation    0.1189       829.10       11.350407   \n",
       "1              1         credit_card    0.1071       228.22       11.082143   \n",
       "\n",
       "     dti  fico  days.with.cr.line  revol.bal  revol.util  inq.last.6mths  \\\n",
       "0  19.48   737        5639.958333      28854        52.1             0.0   \n",
       "1  14.29   707        2760.000000      33623        76.7             0.0   \n",
       "\n",
       "   delinq.2yrs  pub.rec  not.fully.paid  \n",
       "0          0.0      0.0               0  \n",
       "1          0.0      0.0               0  "
      ]
     },
     "execution_count": 134,
     "metadata": {},
     "output_type": "execute_result"
    }
   ],
   "source": [
    "loans.head(2)"
   ]
  },
  {
   "cell_type": "code",
   "execution_count": 135,
   "metadata": {},
   "outputs": [
    {
     "data": {
      "text/plain": [
       "credit.policy          int64\n",
       "purpose               object\n",
       "int.rate             float64\n",
       "installment          float64\n",
       "log.annual.inc       float64\n",
       "dti                  float64\n",
       "fico                   int64\n",
       "days.with.cr.line    float64\n",
       "revol.bal              int64\n",
       "revol.util           float64\n",
       "inq.last.6mths       float64\n",
       "delinq.2yrs          float64\n",
       "pub.rec              float64\n",
       "not.fully.paid         int64\n",
       "dtype: object"
      ]
     },
     "execution_count": 135,
     "metadata": {},
     "output_type": "execute_result"
    }
   ],
   "source": [
    "loans.dtypes"
   ]
  },
  {
   "cell_type": "code",
   "execution_count": 136,
   "metadata": {},
   "outputs": [
    {
     "data": {
      "text/plain": [
       "credit.policy         0\n",
       "purpose               0\n",
       "int.rate              0\n",
       "installment           0\n",
       "log.annual.inc        4\n",
       "dti                   0\n",
       "fico                  0\n",
       "days.with.cr.line    29\n",
       "revol.bal             0\n",
       "revol.util           62\n",
       "inq.last.6mths       29\n",
       "delinq.2yrs          29\n",
       "pub.rec              29\n",
       "not.fully.paid        0\n",
       "dtype: int64"
      ]
     },
     "execution_count": 136,
     "metadata": {},
     "output_type": "execute_result"
    }
   ],
   "source": [
    "loans.isna().sum()"
   ]
  },
  {
   "cell_type": "code",
   "execution_count": 137,
   "metadata": {},
   "outputs": [
    {
     "data": {
      "text/plain": [
       "0"
      ]
     },
     "execution_count": 137,
     "metadata": {},
     "output_type": "execute_result"
    }
   ],
   "source": [
    "loans = loans.dropna()\n",
    "loans.isna().sum().sum()"
   ]
  },
  {
   "cell_type": "code",
   "execution_count": 139,
   "metadata": {},
   "outputs": [],
   "source": [
    "loans_hot = pd.get_dummies(loans)"
   ]
  },
  {
   "cell_type": "code",
   "execution_count": 142,
   "metadata": {},
   "outputs": [
    {
     "data": {
      "text/html": [
       "<div>\n",
       "<style scoped>\n",
       "    .dataframe tbody tr th:only-of-type {\n",
       "        vertical-align: middle;\n",
       "    }\n",
       "\n",
       "    .dataframe tbody tr th {\n",
       "        vertical-align: top;\n",
       "    }\n",
       "\n",
       "    .dataframe thead th {\n",
       "        text-align: right;\n",
       "    }\n",
       "</style>\n",
       "<table border=\"1\" class=\"dataframe\">\n",
       "  <thead>\n",
       "    <tr style=\"text-align: right;\">\n",
       "      <th></th>\n",
       "      <th>credit.policy</th>\n",
       "      <th>int.rate</th>\n",
       "      <th>installment</th>\n",
       "      <th>log.annual.inc</th>\n",
       "      <th>dti</th>\n",
       "      <th>fico</th>\n",
       "      <th>days.with.cr.line</th>\n",
       "      <th>revol.bal</th>\n",
       "      <th>revol.util</th>\n",
       "      <th>inq.last.6mths</th>\n",
       "      <th>delinq.2yrs</th>\n",
       "      <th>pub.rec</th>\n",
       "      <th>not.fully.paid</th>\n",
       "      <th>purpose_all_other</th>\n",
       "      <th>purpose_credit_card</th>\n",
       "      <th>purpose_debt_consolidation</th>\n",
       "      <th>purpose_educational</th>\n",
       "      <th>purpose_home_improvement</th>\n",
       "      <th>purpose_major_purchase</th>\n",
       "      <th>purpose_small_business</th>\n",
       "    </tr>\n",
       "  </thead>\n",
       "  <tbody>\n",
       "    <tr>\n",
       "      <th>0</th>\n",
       "      <td>1</td>\n",
       "      <td>0.1189</td>\n",
       "      <td>829.10</td>\n",
       "      <td>11.350407</td>\n",
       "      <td>19.48</td>\n",
       "      <td>737</td>\n",
       "      <td>5639.958333</td>\n",
       "      <td>28854</td>\n",
       "      <td>52.1</td>\n",
       "      <td>0.0</td>\n",
       "      <td>0.0</td>\n",
       "      <td>0.0</td>\n",
       "      <td>0</td>\n",
       "      <td>0</td>\n",
       "      <td>0</td>\n",
       "      <td>1</td>\n",
       "      <td>0</td>\n",
       "      <td>0</td>\n",
       "      <td>0</td>\n",
       "      <td>0</td>\n",
       "    </tr>\n",
       "    <tr>\n",
       "      <th>1</th>\n",
       "      <td>1</td>\n",
       "      <td>0.1071</td>\n",
       "      <td>228.22</td>\n",
       "      <td>11.082143</td>\n",
       "      <td>14.29</td>\n",
       "      <td>707</td>\n",
       "      <td>2760.000000</td>\n",
       "      <td>33623</td>\n",
       "      <td>76.7</td>\n",
       "      <td>0.0</td>\n",
       "      <td>0.0</td>\n",
       "      <td>0.0</td>\n",
       "      <td>0</td>\n",
       "      <td>0</td>\n",
       "      <td>1</td>\n",
       "      <td>0</td>\n",
       "      <td>0</td>\n",
       "      <td>0</td>\n",
       "      <td>0</td>\n",
       "      <td>0</td>\n",
       "    </tr>\n",
       "  </tbody>\n",
       "</table>\n",
       "</div>"
      ],
      "text/plain": [
       "   credit.policy  int.rate  installment  log.annual.inc    dti  fico  \\\n",
       "0              1    0.1189       829.10       11.350407  19.48   737   \n",
       "1              1    0.1071       228.22       11.082143  14.29   707   \n",
       "\n",
       "   days.with.cr.line  revol.bal  revol.util  inq.last.6mths  delinq.2yrs  \\\n",
       "0        5639.958333      28854        52.1             0.0          0.0   \n",
       "1        2760.000000      33623        76.7             0.0          0.0   \n",
       "\n",
       "   pub.rec  not.fully.paid  purpose_all_other  purpose_credit_card  \\\n",
       "0      0.0               0                  0                    0   \n",
       "1      0.0               0                  0                    1   \n",
       "\n",
       "   purpose_debt_consolidation  purpose_educational  purpose_home_improvement  \\\n",
       "0                           1                    0                         0   \n",
       "1                           0                    0                         0   \n",
       "\n",
       "   purpose_major_purchase  purpose_small_business  \n",
       "0                       0                       0  \n",
       "1                       0                       0  "
      ]
     },
     "execution_count": 142,
     "metadata": {},
     "output_type": "execute_result"
    }
   ],
   "source": [
    "loans_hot.head(2)"
   ]
  },
  {
   "cell_type": "code",
   "execution_count": 144,
   "metadata": {},
   "outputs": [
    {
     "data": {
      "text/plain": [
       "((9516, 19), (9516,))"
      ]
     },
     "execution_count": 144,
     "metadata": {},
     "output_type": "execute_result"
    }
   ],
   "source": [
    "y = loans_hot['not.fully.paid']\n",
    "X = loans_hot.drop(columns='not.fully.paid')\n",
    "X.shape, y.shape"
   ]
  },
  {
   "cell_type": "code",
   "execution_count": 145,
   "metadata": {},
   "outputs": [
    {
     "data": {
      "text/html": [
       "<div>\n",
       "<style scoped>\n",
       "    .dataframe tbody tr th:only-of-type {\n",
       "        vertical-align: middle;\n",
       "    }\n",
       "\n",
       "    .dataframe tbody tr th {\n",
       "        vertical-align: top;\n",
       "    }\n",
       "\n",
       "    .dataframe thead th {\n",
       "        text-align: right;\n",
       "    }\n",
       "</style>\n",
       "<table border=\"1\" class=\"dataframe\">\n",
       "  <thead>\n",
       "    <tr style=\"text-align: right;\">\n",
       "      <th></th>\n",
       "      <th>credit.policy</th>\n",
       "      <th>int.rate</th>\n",
       "      <th>installment</th>\n",
       "      <th>log.annual.inc</th>\n",
       "      <th>dti</th>\n",
       "      <th>fico</th>\n",
       "      <th>days.with.cr.line</th>\n",
       "      <th>revol.bal</th>\n",
       "      <th>revol.util</th>\n",
       "      <th>inq.last.6mths</th>\n",
       "      <th>delinq.2yrs</th>\n",
       "      <th>pub.rec</th>\n",
       "      <th>purpose_all_other</th>\n",
       "      <th>purpose_credit_card</th>\n",
       "      <th>purpose_debt_consolidation</th>\n",
       "      <th>purpose_educational</th>\n",
       "      <th>purpose_home_improvement</th>\n",
       "      <th>purpose_major_purchase</th>\n",
       "      <th>purpose_small_business</th>\n",
       "    </tr>\n",
       "  </thead>\n",
       "  <tbody>\n",
       "    <tr>\n",
       "      <th>0</th>\n",
       "      <td>1</td>\n",
       "      <td>0.1189</td>\n",
       "      <td>829.10</td>\n",
       "      <td>11.350407</td>\n",
       "      <td>19.48</td>\n",
       "      <td>737</td>\n",
       "      <td>5639.958333</td>\n",
       "      <td>28854</td>\n",
       "      <td>52.1</td>\n",
       "      <td>0.0</td>\n",
       "      <td>0.0</td>\n",
       "      <td>0.0</td>\n",
       "      <td>0</td>\n",
       "      <td>0</td>\n",
       "      <td>1</td>\n",
       "      <td>0</td>\n",
       "      <td>0</td>\n",
       "      <td>0</td>\n",
       "      <td>0</td>\n",
       "    </tr>\n",
       "    <tr>\n",
       "      <th>1</th>\n",
       "      <td>1</td>\n",
       "      <td>0.1071</td>\n",
       "      <td>228.22</td>\n",
       "      <td>11.082143</td>\n",
       "      <td>14.29</td>\n",
       "      <td>707</td>\n",
       "      <td>2760.000000</td>\n",
       "      <td>33623</td>\n",
       "      <td>76.7</td>\n",
       "      <td>0.0</td>\n",
       "      <td>0.0</td>\n",
       "      <td>0.0</td>\n",
       "      <td>0</td>\n",
       "      <td>1</td>\n",
       "      <td>0</td>\n",
       "      <td>0</td>\n",
       "      <td>0</td>\n",
       "      <td>0</td>\n",
       "      <td>0</td>\n",
       "    </tr>\n",
       "  </tbody>\n",
       "</table>\n",
       "</div>"
      ],
      "text/plain": [
       "   credit.policy  int.rate  installment  log.annual.inc    dti  fico  \\\n",
       "0              1    0.1189       829.10       11.350407  19.48   737   \n",
       "1              1    0.1071       228.22       11.082143  14.29   707   \n",
       "\n",
       "   days.with.cr.line  revol.bal  revol.util  inq.last.6mths  delinq.2yrs  \\\n",
       "0        5639.958333      28854        52.1             0.0          0.0   \n",
       "1        2760.000000      33623        76.7             0.0          0.0   \n",
       "\n",
       "   pub.rec  purpose_all_other  purpose_credit_card  \\\n",
       "0      0.0                  0                    0   \n",
       "1      0.0                  0                    1   \n",
       "\n",
       "   purpose_debt_consolidation  purpose_educational  purpose_home_improvement  \\\n",
       "0                           1                    0                         0   \n",
       "1                           0                    0                         0   \n",
       "\n",
       "   purpose_major_purchase  purpose_small_business  \n",
       "0                       0                       0  \n",
       "1                       0                       0  "
      ]
     },
     "execution_count": 145,
     "metadata": {},
     "output_type": "execute_result"
    }
   ],
   "source": [
    "X.head(2)"
   ]
  },
  {
   "cell_type": "code",
   "execution_count": 149,
   "metadata": {},
   "outputs": [
    {
     "data": {
      "text/plain": [
       "((60, 8), (7137, 19), (2379, 19))"
      ]
     },
     "execution_count": 149,
     "metadata": {},
     "output_type": "execute_result"
    }
   ],
   "source": [
    "from sklearn.model_selection import train_test_split\n",
    "x_train, x_test, y_train, y_test = train_test_split(X, y)\n",
    "x.shape, x_train.shape, x_test.shape"
   ]
  },
  {
   "cell_type": "code",
   "execution_count": 153,
   "metadata": {},
   "outputs": [
    {
     "data": {
      "text/plain": [
       "(0.8537200504413619, 0.8083228247162674)"
      ]
     },
     "execution_count": 153,
     "metadata": {},
     "output_type": "execute_result"
    }
   ],
   "source": [
    "from sklearn.neighbors import KNeighborsClassifier\n",
    "knn = KNeighborsClassifier(n_neighbors=5).fit(x_train, y_train)\n",
    "knn.score(x_train, y_train), knn.score(x_test, y_test)"
   ]
  },
  {
   "cell_type": "code",
   "execution_count": 155,
   "metadata": {},
   "outputs": [
    {
     "data": {
      "text/plain": [
       "(0.848816029143898, 0.8284993694829761)"
      ]
     },
     "execution_count": 155,
     "metadata": {},
     "output_type": "execute_result"
    }
   ],
   "source": [
    "from sklearn.tree import DecisionTreeClassifier\n",
    "model = DecisionTreeClassifier(max_depth=5).fit(x_train, y_train)\n",
    "model.score(x_train, y_train), model.score(x_test, y_test)"
   ]
  },
  {
   "cell_type": "code",
   "execution_count": 156,
   "metadata": {},
   "outputs": [
    {
     "data": {
      "text/plain": [
       "(0.8558217738545607, 0.830180748213535)"
      ]
     },
     "execution_count": 156,
     "metadata": {},
     "output_type": "execute_result"
    }
   ],
   "source": [
    "from sklearn.ensemble import GradientBoostingClassifier, AdaBoostClassifier\n",
    "model = GradientBoostingClassifier().fit(x_train, y_train)\n",
    "model.score(x_train, y_train), model.score(x_test, y_test)"
   ]
  },
  {
   "cell_type": "code",
   "execution_count": 157,
   "metadata": {},
   "outputs": [
    {
     "data": {
      "text/plain": [
       "(0.8659100462379151, 0.8318621269440941)"
      ]
     },
     "execution_count": 157,
     "metadata": {},
     "output_type": "execute_result"
    }
   ],
   "source": [
    "from sklearn.ensemble import RandomForestClassifier\n",
    "model = RandomForestClassifier(n_estimators=100,max_depth=10).fit(x_train, y_train)\n",
    "model.score(x_train, y_train), model.score(x_test, y_test)"
   ]
  },
  {
   "cell_type": "code",
   "execution_count": 158,
   "metadata": {},
   "outputs": [
    {
     "data": {
      "text/plain": [
       "(0.8411097099621689, 0.8259773013871374)"
      ]
     },
     "execution_count": 158,
     "metadata": {},
     "output_type": "execute_result"
    }
   ],
   "source": [
    "from sklearn.neural_network import MLPClassifier\n",
    "model = MLPClassifier(hidden_layer_sizes=(50,50)).fit(x_train, y_train)\n",
    "model.score(x_train, y_train), model.score(x_test, y_test)"
   ]
  },
  {
   "cell_type": "code",
   "execution_count": null,
   "metadata": {},
   "outputs": [],
   "source": []
  },
  {
   "cell_type": "code",
   "execution_count": 159,
   "metadata": {},
   "outputs": [],
   "source": [
    "pca = PCA(n_components=2).fit(loans_hot)\n",
    "x_pca = pca.transform(loans_hot)"
   ]
  },
  {
   "cell_type": "code",
   "execution_count": 169,
   "metadata": {},
   "outputs": [
    {
     "data": {
      "image/png": "[encoded data removed]",
      "text/plain": [
       "<Figure size 432x288 with 1 Axes>"
      ]
     },
     "metadata": {
      "needs_background": "light"
     },
     "output_type": "display_data"
    }
   ],
   "source": [
    "km = KMeans(n_clusters=2).fit_predict(x_pca)\n",
    "l = mglearn.discrete_scatter(x_pca[:,0], x_pca[:,1], km) # 예측"
   ]
  },
  {
   "cell_type": "code",
   "execution_count": 161,
   "metadata": {},
   "outputs": [],
   "source": [
    "from sklearn.cluster import AgglomerativeClustering, DBSCAN"
   ]
  },
  {
   "cell_type": "code",
   "execution_count": 170,
   "metadata": {},
   "outputs": [
    {
     "data": {
      "image/png": "[encoded data removed]",
      "text/plain": [
       "<Figure size 432x288 with 1 Axes>"
      ]
     },
     "metadata": {
      "needs_background": "light"
     },
     "output_type": "display_data"
    }
   ],
   "source": [
    "agg = AgglomerativeClustering(n_clusters=2).fit_predict(x_pca)\n",
    "l = mglearn.discrete_scatter(x_pca[:,0], x_pca[:,1], agg)"
   ]
  },
  {
   "cell_type": "code",
   "execution_count": 171,
   "metadata": {},
   "outputs": [
    {
     "data": {
      "image/png": "[encoded data removed]",
      "text/plain": [
       "<Figure size 432x288 with 1 Axes>"
      ]
     },
     "metadata": {
      "needs_background": "light"
     },
     "output_type": "display_data"
    }
   ],
   "source": [
    "db = DBSCAN(eps=2.0).fit_predict(x_pca)  # k 개를 정해주지 않습니다.\n",
    "l = mglearn.discrete_scatter(x_pca[:,0],x_pca[:,1],db)"
   ]
  },
  {
   "cell_type": "code",
   "execution_count": null,
   "metadata": {},
   "outputs": [],
   "source": []
  },
  {
   "cell_type": "code",
   "execution_count": 172,
   "metadata": {},
   "outputs": [],
   "source": [
    "from sklearn.tree import DecisionTreeClassifier\n",
    "model = DecisionTreeClassifier(max_depth=4).fit(X,y)"
   ]
  },
  {
   "cell_type": "code",
   "execution_count": 173,
   "metadata": {},
   "outputs": [
    {
     "data": {
      "text/plain": [
       "0.842686002522068"
      ]
     },
     "execution_count": 173,
     "metadata": {},
     "output_type": "execute_result"
    }
   ],
   "source": [
    "model.score(X, y)"
   ]
  },
  {
   "cell_type": "code",
   "execution_count": 174,
   "metadata": {},
   "outputs": [],
   "source": [
    "from sklearn.tree import export_graphviz\n",
    "import graphviz\n",
    "import os\n",
    "os.environ[\"PATH\"]+= os.pathsep + 'C:/Program Files (x86)/Graphviz2.38/bin/'"
   ]
  },
  {
   "cell_type": "code",
   "execution_count": 178,
   "metadata": {},
   "outputs": [
    {
     "data": {
      "image/svg+xml": [
       "<?xml version=\"1.0\" encoding=\"UTF-8\" standalone=\"no\"?>\r\n",
       "<!DOCTYPE svg PUBLIC \"-//W3C//DTD SVG 1.1//EN\"\r\n",
       " \"http://www.w3.org/Graphics/SVG/1.1/DTD/svg11.dtd\">\r\n",
       "<!-- Generated by graphviz version 2.38.0 (20140413.2041)\r\n",
       " -->\r\n",
       "<!-- Title: Tree Pages: 1 -->\r\n",
       "<svg width=\"2006pt\" height=\"477pt\"\r\n",
       " viewBox=\"0.00 0.00 2006.00 477.00\" xmlns=\"http://www.w3.org/2000/svg\" xmlns:xlink=\"http://www.w3.org/1999/xlink\">\r\n",
       "<g id=\"graph0\" class=\"graph\" transform=\"scale(1 1) rotate(0) translate(4 473)\">\r\n",
       "<title>Tree</title>\r\n",
       "<polygon fill=\"white\" stroke=\"none\" points=\"-4,4 -4,-473 2002,-473 2002,4 -4,4\"/>\r\n",
       "<!-- 0 -->\r\n",
       "<g id=\"node1\" class=\"node\"><title>0</title>\r\n",
       "<polygon fill=\"#e58139\" fill-opacity=\"0.807843\" stroke=\"black\" points=\"1032,-469 901,-469 901,-401 1032,-401 1032,-469\"/>\r\n",
       "<text text-anchor=\"middle\" x=\"966.5\" y=\"-453.8\" font-family=\"Times New Roman,serif\" font-size=\"14.00\">credit.policy &lt;= 0.5</text>\r\n",
       "<text text-anchor=\"middle\" x=\"966.5\" y=\"-438.8\" font-family=\"Times New Roman,serif\" font-size=\"14.00\">samples = 9516</text>\r\n",
       "<text text-anchor=\"middle\" x=\"966.5\" y=\"-423.8\" font-family=\"Times New Roman,serif\" font-size=\"14.00\">value = [7995, 1521]</text>\r\n",
       "<text text-anchor=\"middle\" x=\"966.5\" y=\"-408.8\" font-family=\"Times New Roman,serif\" font-size=\"14.00\">class = not.paid</text>\r\n",
       "</g>\r\n",
       "<!-- 1 -->\r\n",
       "<g id=\"node2\" class=\"node\"><title>1</title>\r\n",
       "<polygon fill=\"#e58139\" fill-opacity=\"0.607843\" stroke=\"black\" points=\"798,-365 663,-365 663,-297 798,-297 798,-365\"/>\r\n",
       "<text text-anchor=\"middle\" x=\"730.5\" y=\"-349.8\" font-family=\"Times New Roman,serif\" font-size=\"14.00\">inq.last.6mths &lt;= 5.5</text>\r\n",
       "<text text-anchor=\"middle\" x=\"730.5\" y=\"-334.8\" font-family=\"Times New Roman,serif\" font-size=\"14.00\">samples = 1830</text>\r\n",
       "<text text-anchor=\"middle\" x=\"730.5\" y=\"-319.8\" font-family=\"Times New Roman,serif\" font-size=\"14.00\">value = [1316, 514]</text>\r\n",
       "<text text-anchor=\"middle\" x=\"730.5\" y=\"-304.8\" font-family=\"Times New Roman,serif\" font-size=\"14.00\">class = not.paid</text>\r\n",
       "</g>\r\n",
       "<!-- 0&#45;&gt;1 -->\r\n",
       "<g id=\"edge1\" class=\"edge\"><title>0&#45;&gt;1</title>\r\n",
       "<path fill=\"none\" stroke=\"black\" d=\"M900.761,-405.587C871.838,-393.087 837.666,-378.318 807.555,-365.303\"/>\r\n",
       "<polygon fill=\"black\" stroke=\"black\" points=\"808.918,-362.08 798.35,-361.325 806.141,-368.505 808.918,-362.08\"/>\r\n",
       "<text text-anchor=\"middle\" x=\"807.564\" y=\"-380.865\" font-family=\"Times New Roman,serif\" font-size=\"14.00\">True</text>\r\n",
       "</g>\r\n",
       "<!-- 16 -->\r\n",
       "<g id=\"node17\" class=\"node\"><title>16</title>\r\n",
       "<polygon fill=\"#e58139\" fill-opacity=\"0.850980\" stroke=\"black\" points=\"1295,-365 1164,-365 1164,-297 1295,-297 1295,-365\"/>\r\n",
       "<text text-anchor=\"middle\" x=\"1229.5\" y=\"-349.8\" font-family=\"Times New Roman,serif\" font-size=\"14.00\">int.rate &lt;= 0.093</text>\r\n",
       "<text text-anchor=\"middle\" x=\"1229.5\" y=\"-334.8\" font-family=\"Times New Roman,serif\" font-size=\"14.00\">samples = 7686</text>\r\n",
       "<text text-anchor=\"middle\" x=\"1229.5\" y=\"-319.8\" font-family=\"Times New Roman,serif\" font-size=\"14.00\">value = [6679, 1007]</text>\r\n",
       "<text text-anchor=\"middle\" x=\"1229.5\" y=\"-304.8\" font-family=\"Times New Roman,serif\" font-size=\"14.00\">class = not.paid</text>\r\n",
       "</g>\r\n",
       "<!-- 0&#45;&gt;16 -->\r\n",
       "<g id=\"edge16\" class=\"edge\"><title>0&#45;&gt;16</title>\r\n",
       "<path fill=\"none\" stroke=\"black\" d=\"M1032.19,-408.524C1069.22,-394.163 1115.62,-376.164 1154.13,-361.231\"/>\r\n",
       "<polygon fill=\"black\" stroke=\"black\" points=\"1155.68,-364.384 1163.74,-357.505 1153.15,-357.857 1155.68,-364.384\"/>\r\n",
       "<text text-anchor=\"middle\" x=\"1153.65\" y=\"-376.678\" font-family=\"Times New Roman,serif\" font-size=\"14.00\">False</text>\r\n",
       "</g>\r\n",
       "<!-- 2 -->\r\n",
       "<g id=\"node3\" class=\"node\"><title>2</title>\r\n",
       "<polygon fill=\"#e58139\" fill-opacity=\"0.658824\" stroke=\"black\" points=\"457,-261 262,-261 262,-193 457,-193 457,-261\"/>\r\n",
       "<text text-anchor=\"middle\" x=\"359.5\" y=\"-245.8\" font-family=\"Times New Roman,serif\" font-size=\"14.00\">purpose_small_business &lt;= 0.5</text>\r\n",
       "<text text-anchor=\"middle\" x=\"359.5\" y=\"-230.8\" font-family=\"Times New Roman,serif\" font-size=\"14.00\">samples = 1401</text>\r\n",
       "<text text-anchor=\"middle\" x=\"359.5\" y=\"-215.8\" font-family=\"Times New Roman,serif\" font-size=\"14.00\">value = [1044, 357]</text>\r\n",
       "<text text-anchor=\"middle\" x=\"359.5\" y=\"-200.8\" font-family=\"Times New Roman,serif\" font-size=\"14.00\">class = not.paid</text>\r\n",
       "</g>\r\n",
       "<!-- 1&#45;&gt;2 -->\r\n",
       "<g id=\"edge2\" class=\"edge\"><title>1&#45;&gt;2</title>\r\n",
       "<path fill=\"none\" stroke=\"black\" d=\"M662.884,-311.41C608.228,-296.383 530.258,-274.947 467.049,-257.569\"/>\r\n",
       "<polygon fill=\"black\" stroke=\"black\" points=\"467.607,-254.092 457.037,-254.816 465.751,-260.842 467.607,-254.092\"/>\r\n",
       "</g>\r\n",
       "<!-- 9 -->\r\n",
       "<g id=\"node10\" class=\"node\"><title>9</title>\r\n",
       "<polygon fill=\"#e58139\" fill-opacity=\"0.423529\" stroke=\"black\" points=\"789.5,-261 671.5,-261 671.5,-193 789.5,-193 789.5,-261\"/>\r\n",
       "<text text-anchor=\"middle\" x=\"730.5\" y=\"-245.8\" font-family=\"Times New Roman,serif\" font-size=\"14.00\">int.rate &lt;= 0.166</text>\r\n",
       "<text text-anchor=\"middle\" x=\"730.5\" y=\"-230.8\" font-family=\"Times New Roman,serif\" font-size=\"14.00\">samples = 429</text>\r\n",
       "<text text-anchor=\"middle\" x=\"730.5\" y=\"-215.8\" font-family=\"Times New Roman,serif\" font-size=\"14.00\">value = [272, 157]</text>\r\n",
       "<text text-anchor=\"middle\" x=\"730.5\" y=\"-200.8\" font-family=\"Times New Roman,serif\" font-size=\"14.00\">class = not.paid</text>\r\n",
       "</g>\r\n",
       "<!-- 1&#45;&gt;9 -->\r\n",
       "<g id=\"edge9\" class=\"edge\"><title>1&#45;&gt;9</title>\r\n",
       "<path fill=\"none\" stroke=\"black\" d=\"M730.5,-296.884C730.5,-288.778 730.5,-279.982 730.5,-271.472\"/>\r\n",
       "<polygon fill=\"black\" stroke=\"black\" points=\"734,-271.299 730.5,-261.299 727,-271.299 734,-271.299\"/>\r\n",
       "</g>\r\n",
       "<!-- 3 -->\r\n",
       "<g id=\"node4\" class=\"node\"><title>3</title>\r\n",
       "<polygon fill=\"#e58139\" fill-opacity=\"0.682353\" stroke=\"black\" points=\"227.5,-157 109.5,-157 109.5,-89 227.5,-89 227.5,-157\"/>\r\n",
       "<text text-anchor=\"middle\" x=\"168.5\" y=\"-141.8\" font-family=\"Times New Roman,serif\" font-size=\"14.00\">dti &lt;= 0.235</text>\r\n",
       "<text text-anchor=\"middle\" x=\"168.5\" y=\"-126.8\" font-family=\"Times New Roman,serif\" font-size=\"14.00\">samples = 1313</text>\r\n",
       "<text text-anchor=\"middle\" x=\"168.5\" y=\"-111.8\" font-family=\"Times New Roman,serif\" font-size=\"14.00\">value = [996, 317]</text>\r\n",
       "<text text-anchor=\"middle\" x=\"168.5\" y=\"-96.8\" font-family=\"Times New Roman,serif\" font-size=\"14.00\">class = not.paid</text>\r\n",
       "</g>\r\n",
       "<!-- 2&#45;&gt;3 -->\r\n",
       "<g id=\"edge3\" class=\"edge\"><title>2&#45;&gt;3</title>\r\n",
       "<path fill=\"none\" stroke=\"black\" d=\"M297.488,-192.884C278.029,-182.492 256.446,-170.966 236.591,-160.363\"/>\r\n",
       "<polygon fill=\"black\" stroke=\"black\" points=\"238.073,-157.186 227.603,-155.563 234.775,-163.361 238.073,-157.186\"/>\r\n",
       "</g>\r\n",
       "<!-- 6 -->\r\n",
       "<g id=\"node7\" class=\"node\"><title>6</title>\r\n",
       "<polygon fill=\"#e58139\" fill-opacity=\"0.164706\" stroke=\"black\" points=\"414,-157 305,-157 305,-89 414,-89 414,-157\"/>\r\n",
       "<text text-anchor=\"middle\" x=\"359.5\" y=\"-141.8\" font-family=\"Times New Roman,serif\" font-size=\"14.00\">int.rate &lt;= 0.169</text>\r\n",
       "<text text-anchor=\"middle\" x=\"359.5\" y=\"-126.8\" font-family=\"Times New Roman,serif\" font-size=\"14.00\">samples = 88</text>\r\n",
       "<text text-anchor=\"middle\" x=\"359.5\" y=\"-111.8\" font-family=\"Times New Roman,serif\" font-size=\"14.00\">value = [48, 40]</text>\r\n",
       "<text text-anchor=\"middle\" x=\"359.5\" y=\"-96.8\" font-family=\"Times New Roman,serif\" font-size=\"14.00\">class = not.paid</text>\r\n",
       "</g>\r\n",
       "<!-- 2&#45;&gt;6 -->\r\n",
       "<g id=\"edge6\" class=\"edge\"><title>2&#45;&gt;6</title>\r\n",
       "<path fill=\"none\" stroke=\"black\" d=\"M359.5,-192.884C359.5,-184.778 359.5,-175.982 359.5,-167.472\"/>\r\n",
       "<polygon fill=\"black\" stroke=\"black\" points=\"363,-167.299 359.5,-157.299 356,-167.299 363,-167.299\"/>\r\n",
       "</g>\r\n",
       "<!-- 4 -->\r\n",
       "<g id=\"node5\" class=\"node\"><title>4</title>\r\n",
       "<polygon fill=\"#399de5\" fill-opacity=\"0.223529\" stroke=\"black\" points=\"91,-53 0,-53 0,-0 91,-0 91,-53\"/>\r\n",
       "<text text-anchor=\"middle\" x=\"45.5\" y=\"-37.8\" font-family=\"Times New Roman,serif\" font-size=\"14.00\">samples = 16</text>\r\n",
       "<text text-anchor=\"middle\" x=\"45.5\" y=\"-22.8\" font-family=\"Times New Roman,serif\" font-size=\"14.00\">value = [7, 9]</text>\r\n",
       "<text text-anchor=\"middle\" x=\"45.5\" y=\"-7.8\" font-family=\"Times New Roman,serif\" font-size=\"14.00\">class = paid</text>\r\n",
       "</g>\r\n",
       "<!-- 3&#45;&gt;4 -->\r\n",
       "<g id=\"edge4\" class=\"edge\"><title>3&#45;&gt;4</title>\r\n",
       "<path fill=\"none\" stroke=\"black\" d=\"M125.481,-88.9485C112.978,-79.3431 99.3527,-68.8747 86.949,-59.345\"/>\r\n",
       "<polygon fill=\"black\" stroke=\"black\" points=\"89.0608,-56.5537 78.9986,-53.2367 84.7961,-62.1046 89.0608,-56.5537\"/>\r\n",
       "</g>\r\n",
       "<!-- 5 -->\r\n",
       "<g id=\"node6\" class=\"node\"><title>5</title>\r\n",
       "<polygon fill=\"#e58139\" fill-opacity=\"0.690196\" stroke=\"black\" points=\"227.5,-53 109.5,-53 109.5,-0 227.5,-0 227.5,-53\"/>\r\n",
       "<text text-anchor=\"middle\" x=\"168.5\" y=\"-37.8\" font-family=\"Times New Roman,serif\" font-size=\"14.00\">samples = 1297</text>\r\n",
       "<text text-anchor=\"middle\" x=\"168.5\" y=\"-22.8\" font-family=\"Times New Roman,serif\" font-size=\"14.00\">value = [989, 308]</text>\r\n",
       "<text text-anchor=\"middle\" x=\"168.5\" y=\"-7.8\" font-family=\"Times New Roman,serif\" font-size=\"14.00\">class = not.paid</text>\r\n",
       "</g>\r\n",
       "<!-- 3&#45;&gt;5 -->\r\n",
       "<g id=\"edge5\" class=\"edge\"><title>3&#45;&gt;5</title>\r\n",
       "<path fill=\"none\" stroke=\"black\" d=\"M168.5,-88.9485C168.5,-80.7153 168.5,-71.848 168.5,-63.4814\"/>\r\n",
       "<polygon fill=\"black\" stroke=\"black\" points=\"172,-63.2367 168.5,-53.2367 165,-63.2367 172,-63.2367\"/>\r\n",
       "</g>\r\n",
       "<!-- 7 -->\r\n",
       "<g id=\"node8\" class=\"node\"><title>7</title>\r\n",
       "<polygon fill=\"#e58139\" fill-opacity=\"0.462745\" stroke=\"black\" points=\"351.5,-53 245.5,-53 245.5,-0 351.5,-0 351.5,-53\"/>\r\n",
       "<text text-anchor=\"middle\" x=\"298.5\" y=\"-37.8\" font-family=\"Times New Roman,serif\" font-size=\"14.00\">samples = 63</text>\r\n",
       "<text text-anchor=\"middle\" x=\"298.5\" y=\"-22.8\" font-family=\"Times New Roman,serif\" font-size=\"14.00\">value = [41, 22]</text>\r\n",
       "<text text-anchor=\"middle\" x=\"298.5\" y=\"-7.8\" font-family=\"Times New Roman,serif\" font-size=\"14.00\">class = not.paid</text>\r\n",
       "</g>\r\n",
       "<!-- 6&#45;&gt;7 -->\r\n",
       "<g id=\"edge7\" class=\"edge\"><title>6&#45;&gt;7</title>\r\n",
       "<path fill=\"none\" stroke=\"black\" d=\"M338.165,-88.9485C332.496,-80.1664 326.362,-70.6629 320.65,-61.815\"/>\r\n",
       "<polygon fill=\"black\" stroke=\"black\" points=\"323.477,-59.7402 315.113,-53.2367 317.596,-63.5365 323.477,-59.7402\"/>\r\n",
       "</g>\r\n",
       "<!-- 8 -->\r\n",
       "<g id=\"node9\" class=\"node\"><title>8</title>\r\n",
       "<polygon fill=\"#399de5\" fill-opacity=\"0.611765\" stroke=\"black\" points=\"467.5,-53 369.5,-53 369.5,-0 467.5,-0 467.5,-53\"/>\r\n",
       "<text text-anchor=\"middle\" x=\"418.5\" y=\"-37.8\" font-family=\"Times New Roman,serif\" font-size=\"14.00\">samples = 25</text>\r\n",
       "<text text-anchor=\"middle\" x=\"418.5\" y=\"-22.8\" font-family=\"Times New Roman,serif\" font-size=\"14.00\">value = [7, 18]</text>\r\n",
       "<text text-anchor=\"middle\" x=\"418.5\" y=\"-7.8\" font-family=\"Times New Roman,serif\" font-size=\"14.00\">class = paid</text>\r\n",
       "</g>\r\n",
       "<!-- 6&#45;&gt;8 -->\r\n",
       "<g id=\"edge8\" class=\"edge\"><title>6&#45;&gt;8</title>\r\n",
       "<path fill=\"none\" stroke=\"black\" d=\"M380.135,-88.9485C385.618,-80.1664 391.552,-70.6629 397.076,-61.815\"/>\r\n",
       "<polygon fill=\"black\" stroke=\"black\" points=\"400.104,-63.5728 402.432,-53.2367 394.167,-59.8656 400.104,-63.5728\"/>\r\n",
       "</g>\r\n",
       "<!-- 10 -->\r\n",
       "<g id=\"node11\" class=\"node\"><title>10</title>\r\n",
       "<polygon fill=\"#e58139\" fill-opacity=\"0.325490\" stroke=\"black\" points=\"724.5,-157 606.5,-157 606.5,-89 724.5,-89 724.5,-157\"/>\r\n",
       "<text text-anchor=\"middle\" x=\"665.5\" y=\"-141.8\" font-family=\"Times New Roman,serif\" font-size=\"14.00\">revol.util &lt;= 85.2</text>\r\n",
       "<text text-anchor=\"middle\" x=\"665.5\" y=\"-126.8\" font-family=\"Times New Roman,serif\" font-size=\"14.00\">samples = 325</text>\r\n",
       "<text text-anchor=\"middle\" x=\"665.5\" y=\"-111.8\" font-family=\"Times New Roman,serif\" font-size=\"14.00\">value = [194, 131]</text>\r\n",
       "<text text-anchor=\"middle\" x=\"665.5\" y=\"-96.8\" font-family=\"Times New Roman,serif\" font-size=\"14.00\">class = not.paid</text>\r\n",
       "</g>\r\n",
       "<!-- 9&#45;&gt;10 -->\r\n",
       "<g id=\"edge10\" class=\"edge\"><title>9&#45;&gt;10</title>\r\n",
       "<path fill=\"none\" stroke=\"black\" d=\"M709.396,-192.884C703.89,-184.243 697.885,-174.819 692.133,-165.793\"/>\r\n",
       "<polygon fill=\"black\" stroke=\"black\" points=\"695.046,-163.852 686.72,-157.299 689.143,-167.614 695.046,-163.852\"/>\r\n",
       "</g>\r\n",
       "<!-- 13 -->\r\n",
       "<g id=\"node14\" class=\"node\"><title>13</title>\r\n",
       "<polygon fill=\"#e58139\" fill-opacity=\"0.666667\" stroke=\"black\" points=\"848.5,-157 742.5,-157 742.5,-89 848.5,-89 848.5,-157\"/>\r\n",
       "<text text-anchor=\"middle\" x=\"795.5\" y=\"-141.8\" font-family=\"Times New Roman,serif\" font-size=\"14.00\">fico &lt;= 664.5</text>\r\n",
       "<text text-anchor=\"middle\" x=\"795.5\" y=\"-126.8\" font-family=\"Times New Roman,serif\" font-size=\"14.00\">samples = 104</text>\r\n",
       "<text text-anchor=\"middle\" x=\"795.5\" y=\"-111.8\" font-family=\"Times New Roman,serif\" font-size=\"14.00\">value = [78, 26]</text>\r\n",
       "<text text-anchor=\"middle\" x=\"795.5\" y=\"-96.8\" font-family=\"Times New Roman,serif\" font-size=\"14.00\">class = not.paid</text>\r\n",
       "</g>\r\n",
       "<!-- 9&#45;&gt;13 -->\r\n",
       "<g id=\"edge13\" class=\"edge\"><title>9&#45;&gt;13</title>\r\n",
       "<path fill=\"none\" stroke=\"black\" d=\"M751.604,-192.884C757.11,-184.243 763.115,-174.819 768.867,-165.793\"/>\r\n",
       "<polygon fill=\"black\" stroke=\"black\" points=\"771.857,-167.614 774.28,-157.299 765.954,-163.852 771.857,-167.614\"/>\r\n",
       "</g>\r\n",
       "<!-- 11 -->\r\n",
       "<g id=\"node12\" class=\"node\"><title>11</title>\r\n",
       "<polygon fill=\"#e58139\" fill-opacity=\"0.384314\" stroke=\"black\" points=\"603.5,-53 485.5,-53 485.5,-0 603.5,-0 603.5,-53\"/>\r\n",
       "<text text-anchor=\"middle\" x=\"544.5\" y=\"-37.8\" font-family=\"Times New Roman,serif\" font-size=\"14.00\">samples = 304</text>\r\n",
       "<text text-anchor=\"middle\" x=\"544.5\" y=\"-22.8\" font-family=\"Times New Roman,serif\" font-size=\"14.00\">value = [188, 116]</text>\r\n",
       "<text text-anchor=\"middle\" x=\"544.5\" y=\"-7.8\" font-family=\"Times New Roman,serif\" font-size=\"14.00\">class = not.paid</text>\r\n",
       "</g>\r\n",
       "<!-- 10&#45;&gt;11 -->\r\n",
       "<g id=\"edge11\" class=\"edge\"><title>10&#45;&gt;11</title>\r\n",
       "<path fill=\"none\" stroke=\"black\" d=\"M623.18,-88.9485C610.998,-79.4346 597.732,-69.074 585.624,-59.6175\"/>\r\n",
       "<polygon fill=\"black\" stroke=\"black\" points=\"587.489,-56.6335 577.454,-53.2367 583.181,-62.1504 587.489,-56.6335\"/>\r\n",
       "</g>\r\n",
       "<!-- 12 -->\r\n",
       "<g id=\"node13\" class=\"node\"><title>12</title>\r\n",
       "<polygon fill=\"#399de5\" fill-opacity=\"0.600000\" stroke=\"black\" points=\"719.5,-53 621.5,-53 621.5,-0 719.5,-0 719.5,-53\"/>\r\n",
       "<text text-anchor=\"middle\" x=\"670.5\" y=\"-37.8\" font-family=\"Times New Roman,serif\" font-size=\"14.00\">samples = 21</text>\r\n",
       "<text text-anchor=\"middle\" x=\"670.5\" y=\"-22.8\" font-family=\"Times New Roman,serif\" font-size=\"14.00\">value = [6, 15]</text>\r\n",
       "<text text-anchor=\"middle\" x=\"670.5\" y=\"-7.8\" font-family=\"Times New Roman,serif\" font-size=\"14.00\">class = paid</text>\r\n",
       "</g>\r\n",
       "<!-- 10&#45;&gt;12 -->\r\n",
       "<g id=\"edge12\" class=\"edge\"><title>10&#45;&gt;12</title>\r\n",
       "<path fill=\"none\" stroke=\"black\" d=\"M667.249,-88.9485C667.684,-80.7153 668.154,-71.848 668.596,-63.4814\"/>\r\n",
       "<polygon fill=\"black\" stroke=\"black\" points=\"672.105,-63.4077 669.138,-53.2367 665.115,-63.0378 672.105,-63.4077\"/>\r\n",
       "</g>\r\n",
       "<!-- 14 -->\r\n",
       "<g id=\"node15\" class=\"node\"><title>14</title>\r\n",
       "<polygon fill=\"#e58139\" fill-opacity=\"0.078431\" stroke=\"black\" points=\"843.5,-53 737.5,-53 737.5,-0 843.5,-0 843.5,-53\"/>\r\n",
       "<text text-anchor=\"middle\" x=\"790.5\" y=\"-37.8\" font-family=\"Times New Roman,serif\" font-size=\"14.00\">samples = 25</text>\r\n",
       "<text text-anchor=\"middle\" x=\"790.5\" y=\"-22.8\" font-family=\"Times New Roman,serif\" font-size=\"14.00\">value = [13, 12]</text>\r\n",
       "<text text-anchor=\"middle\" x=\"790.5\" y=\"-7.8\" font-family=\"Times New Roman,serif\" font-size=\"14.00\">class = not.paid</text>\r\n",
       "</g>\r\n",
       "<!-- 13&#45;&gt;14 -->\r\n",
       "<g id=\"edge14\" class=\"edge\"><title>13&#45;&gt;14</title>\r\n",
       "<path fill=\"none\" stroke=\"black\" d=\"M793.751,-88.9485C793.316,-80.7153 792.846,-71.848 792.404,-63.4814\"/>\r\n",
       "<polygon fill=\"black\" stroke=\"black\" points=\"795.885,-63.0378 791.862,-53.2367 788.895,-63.4077 795.885,-63.0378\"/>\r\n",
       "</g>\r\n",
       "<!-- 15 -->\r\n",
       "<g id=\"node16\" class=\"node\"><title>15</title>\r\n",
       "<polygon fill=\"#e58139\" fill-opacity=\"0.784314\" stroke=\"black\" points=\"967.5,-53 861.5,-53 861.5,-0 967.5,-0 967.5,-53\"/>\r\n",
       "<text text-anchor=\"middle\" x=\"914.5\" y=\"-37.8\" font-family=\"Times New Roman,serif\" font-size=\"14.00\">samples = 79</text>\r\n",
       "<text text-anchor=\"middle\" x=\"914.5\" y=\"-22.8\" font-family=\"Times New Roman,serif\" font-size=\"14.00\">value = [65, 14]</text>\r\n",
       "<text text-anchor=\"middle\" x=\"914.5\" y=\"-7.8\" font-family=\"Times New Roman,serif\" font-size=\"14.00\">class = not.paid</text>\r\n",
       "</g>\r\n",
       "<!-- 13&#45;&gt;15 -->\r\n",
       "<g id=\"edge15\" class=\"edge\"><title>13&#45;&gt;15</title>\r\n",
       "<path fill=\"none\" stroke=\"black\" d=\"M837.12,-88.9485C849.101,-79.4346 862.148,-69.074 874.056,-59.6175\"/>\r\n",
       "<polygon fill=\"black\" stroke=\"black\" points=\"876.436,-62.1965 882.091,-53.2367 872.083,-56.7147 876.436,-62.1965\"/>\r\n",
       "</g>\r\n",
       "<!-- 17 -->\r\n",
       "<g id=\"node18\" class=\"node\"><title>17</title>\r\n",
       "<polygon fill=\"#e58139\" fill-opacity=\"0.945098\" stroke=\"black\" points=\"1301,-261 1158,-261 1158,-193 1301,-193 1301,-261\"/>\r\n",
       "<text text-anchor=\"middle\" x=\"1229.5\" y=\"-245.8\" font-family=\"Times New Roman,serif\" font-size=\"14.00\">installment &lt;= 558.205</text>\r\n",
       "<text text-anchor=\"middle\" x=\"1229.5\" y=\"-230.8\" font-family=\"Times New Roman,serif\" font-size=\"14.00\">samples = 1595</text>\r\n",
       "<text text-anchor=\"middle\" x=\"1229.5\" y=\"-215.8\" font-family=\"Times New Roman,serif\" font-size=\"14.00\">value = [1510, 85]</text>\r\n",
       "<text text-anchor=\"middle\" x=\"1229.5\" y=\"-200.8\" font-family=\"Times New Roman,serif\" font-size=\"14.00\">class = not.paid</text>\r\n",
       "</g>\r\n",
       "<!-- 16&#45;&gt;17 -->\r\n",
       "<g id=\"edge17\" class=\"edge\"><title>16&#45;&gt;17</title>\r\n",
       "<path fill=\"none\" stroke=\"black\" d=\"M1229.5,-296.884C1229.5,-288.778 1229.5,-279.982 1229.5,-271.472\"/>\r\n",
       "<polygon fill=\"black\" stroke=\"black\" points=\"1233,-271.299 1229.5,-261.299 1226,-271.299 1233,-271.299\"/>\r\n",
       "</g>\r\n",
       "<!-- 24 -->\r\n",
       "<g id=\"node25\" class=\"node\"><title>24</title>\r\n",
       "<polygon fill=\"#e58139\" fill-opacity=\"0.823529\" stroke=\"black\" points=\"1702,-261 1507,-261 1507,-193 1702,-193 1702,-261\"/>\r\n",
       "<text text-anchor=\"middle\" x=\"1604.5\" y=\"-245.8\" font-family=\"Times New Roman,serif\" font-size=\"14.00\">purpose_small_business &lt;= 0.5</text>\r\n",
       "<text text-anchor=\"middle\" x=\"1604.5\" y=\"-230.8\" font-family=\"Times New Roman,serif\" font-size=\"14.00\">samples = 6091</text>\r\n",
       "<text text-anchor=\"middle\" x=\"1604.5\" y=\"-215.8\" font-family=\"Times New Roman,serif\" font-size=\"14.00\">value = [5169, 922]</text>\r\n",
       "<text text-anchor=\"middle\" x=\"1604.5\" y=\"-200.8\" font-family=\"Times New Roman,serif\" font-size=\"14.00\">class = not.paid</text>\r\n",
       "</g>\r\n",
       "<!-- 16&#45;&gt;24 -->\r\n",
       "<g id=\"edge24\" class=\"edge\"><title>16&#45;&gt;24</title>\r\n",
       "<path fill=\"none\" stroke=\"black\" d=\"M1295.25,-312.116C1350.89,-296.981 1431.74,-274.99 1496.82,-257.29\"/>\r\n",
       "<polygon fill=\"black\" stroke=\"black\" points=\"1497.98,-260.601 1506.71,-254.599 1496.14,-253.847 1497.98,-260.601\"/>\r\n",
       "</g>\r\n",
       "<!-- 18 -->\r\n",
       "<g id=\"node19\" class=\"node\"><title>18</title>\r\n",
       "<polygon fill=\"#e58139\" fill-opacity=\"0.945098\" stroke=\"black\" points=\"1207.5,-157 1089.5,-157 1089.5,-89 1207.5,-89 1207.5,-157\"/>\r\n",
       "<text text-anchor=\"middle\" x=\"1148.5\" y=\"-141.8\" font-family=\"Times New Roman,serif\" font-size=\"14.00\">fico &lt;= 749.5</text>\r\n",
       "<text text-anchor=\"middle\" x=\"1148.5\" y=\"-126.8\" font-family=\"Times New Roman,serif\" font-size=\"14.00\">samples = 1581</text>\r\n",
       "<text text-anchor=\"middle\" x=\"1148.5\" y=\"-111.8\" font-family=\"Times New Roman,serif\" font-size=\"14.00\">value = [1501, 80]</text>\r\n",
       "<text text-anchor=\"middle\" x=\"1148.5\" y=\"-96.8\" font-family=\"Times New Roman,serif\" font-size=\"14.00\">class = not.paid</text>\r\n",
       "</g>\r\n",
       "<!-- 17&#45;&gt;18 -->\r\n",
       "<g id=\"edge18\" class=\"edge\"><title>17&#45;&gt;18</title>\r\n",
       "<path fill=\"none\" stroke=\"black\" d=\"M1203.2,-192.884C1196.2,-184.065 1188.55,-174.43 1181.25,-165.235\"/>\r\n",
       "<polygon fill=\"black\" stroke=\"black\" points=\"1183.9,-162.954 1174.94,-157.299 1178.42,-167.307 1183.9,-162.954\"/>\r\n",
       "</g>\r\n",
       "<!-- 21 -->\r\n",
       "<g id=\"node22\" class=\"node\"><title>21</title>\r\n",
       "<polygon fill=\"#e58139\" fill-opacity=\"0.443137\" stroke=\"black\" points=\"1395,-157 1226,-157 1226,-89 1395,-89 1395,-157\"/>\r\n",
       "<text text-anchor=\"middle\" x=\"1310.5\" y=\"-141.8\" font-family=\"Times New Roman,serif\" font-size=\"14.00\">days.with.cr.line &lt;= 7245.0</text>\r\n",
       "<text text-anchor=\"middle\" x=\"1310.5\" y=\"-126.8\" font-family=\"Times New Roman,serif\" font-size=\"14.00\">samples = 14</text>\r\n",
       "<text text-anchor=\"middle\" x=\"1310.5\" y=\"-111.8\" font-family=\"Times New Roman,serif\" font-size=\"14.00\">value = [9, 5]</text>\r\n",
       "<text text-anchor=\"middle\" x=\"1310.5\" y=\"-96.8\" font-family=\"Times New Roman,serif\" font-size=\"14.00\">class = not.paid</text>\r\n",
       "</g>\r\n",
       "<!-- 17&#45;&gt;21 -->\r\n",
       "<g id=\"edge21\" class=\"edge\"><title>17&#45;&gt;21</title>\r\n",
       "<path fill=\"none\" stroke=\"black\" d=\"M1255.8,-192.884C1262.8,-184.065 1270.45,-174.43 1277.75,-165.235\"/>\r\n",
       "<polygon fill=\"black\" stroke=\"black\" points=\"1280.58,-167.307 1284.06,-157.299 1275.1,-162.954 1280.58,-167.307\"/>\r\n",
       "</g>\r\n",
       "<!-- 19 -->\r\n",
       "<g id=\"node20\" class=\"node\"><title>19</title>\r\n",
       "<polygon fill=\"#e58139\" fill-opacity=\"0.905882\" stroke=\"black\" points=\"1097,-53 986,-53 986,-0 1097,-0 1097,-53\"/>\r\n",
       "<text text-anchor=\"middle\" x=\"1041.5\" y=\"-37.8\" font-family=\"Times New Roman,serif\" font-size=\"14.00\">samples = 566</text>\r\n",
       "<text text-anchor=\"middle\" x=\"1041.5\" y=\"-22.8\" font-family=\"Times New Roman,serif\" font-size=\"14.00\">value = [518, 48]</text>\r\n",
       "<text text-anchor=\"middle\" x=\"1041.5\" y=\"-7.8\" font-family=\"Times New Roman,serif\" font-size=\"14.00\">class = not.paid</text>\r\n",
       "</g>\r\n",
       "<!-- 18&#45;&gt;19 -->\r\n",
       "<g id=\"edge19\" class=\"edge\"><title>18&#45;&gt;19</title>\r\n",
       "<path fill=\"none\" stroke=\"black\" d=\"M1111.08,-88.9485C1100.41,-79.526 1088.8,-69.2731 1078.18,-59.8906\"/>\r\n",
       "<polygon fill=\"black\" stroke=\"black\" points=\"1080.45,-57.2331 1070.64,-53.2367 1075.82,-62.4798 1080.45,-57.2331\"/>\r\n",
       "</g>\r\n",
       "<!-- 20 -->\r\n",
       "<g id=\"node21\" class=\"node\"><title>20</title>\r\n",
       "<polygon fill=\"#e58139\" fill-opacity=\"0.968627\" stroke=\"black\" points=\"1226,-53 1115,-53 1115,-0 1226,-0 1226,-53\"/>\r\n",
       "<text text-anchor=\"middle\" x=\"1170.5\" y=\"-37.8\" font-family=\"Times New Roman,serif\" font-size=\"14.00\">samples = 1015</text>\r\n",
       "<text text-anchor=\"middle\" x=\"1170.5\" y=\"-22.8\" font-family=\"Times New Roman,serif\" font-size=\"14.00\">value = [983, 32]</text>\r\n",
       "<text text-anchor=\"middle\" x=\"1170.5\" y=\"-7.8\" font-family=\"Times New Roman,serif\" font-size=\"14.00\">class = not.paid</text>\r\n",
       "</g>\r\n",
       "<!-- 18&#45;&gt;20 -->\r\n",
       "<g id=\"edge20\" class=\"edge\"><title>18&#45;&gt;20</title>\r\n",
       "<path fill=\"none\" stroke=\"black\" d=\"M1156.19,-88.9485C1158.13,-80.6238 1160.22,-71.6509 1162.19,-63.2027\"/>\r\n",
       "<polygon fill=\"black\" stroke=\"black\" points=\"1165.65,-63.7699 1164.51,-53.2367 1158.83,-62.1826 1165.65,-63.7699\"/>\r\n",
       "</g>\r\n",
       "<!-- 22 -->\r\n",
       "<g id=\"node23\" class=\"node\"><title>22</title>\r\n",
       "<polygon fill=\"#399de5\" fill-opacity=\"0.498039\" stroke=\"black\" points=\"1335,-53 1244,-53 1244,-0 1335,-0 1335,-53\"/>\r\n",
       "<text text-anchor=\"middle\" x=\"1289.5\" y=\"-37.8\" font-family=\"Times New Roman,serif\" font-size=\"14.00\">samples = 6</text>\r\n",
       "<text text-anchor=\"middle\" x=\"1289.5\" y=\"-22.8\" font-family=\"Times New Roman,serif\" font-size=\"14.00\">value = [2, 4]</text>\r\n",
       "<text text-anchor=\"middle\" x=\"1289.5\" y=\"-7.8\" font-family=\"Times New Roman,serif\" font-size=\"14.00\">class = paid</text>\r\n",
       "</g>\r\n",
       "<!-- 21&#45;&gt;22 -->\r\n",
       "<g id=\"edge22\" class=\"edge\"><title>21&#45;&gt;22</title>\r\n",
       "<path fill=\"none\" stroke=\"black\" d=\"M1303.16,-88.9485C1301.31,-80.6238 1299.31,-71.6509 1297.43,-63.2027\"/>\r\n",
       "<polygon fill=\"black\" stroke=\"black\" points=\"1300.81,-62.2393 1295.22,-53.2367 1293.97,-63.7579 1300.81,-62.2393\"/>\r\n",
       "</g>\r\n",
       "<!-- 23 -->\r\n",
       "<g id=\"node24\" class=\"node\"><title>23</title>\r\n",
       "<polygon fill=\"#e58139\" fill-opacity=\"0.858824\" stroke=\"black\" points=\"1459.5,-53 1353.5,-53 1353.5,-0 1459.5,-0 1459.5,-53\"/>\r\n",
       "<text text-anchor=\"middle\" x=\"1406.5\" y=\"-37.8\" font-family=\"Times New Roman,serif\" font-size=\"14.00\">samples = 8</text>\r\n",
       "<text text-anchor=\"middle\" x=\"1406.5\" y=\"-22.8\" font-family=\"Times New Roman,serif\" font-size=\"14.00\">value = [7, 1]</text>\r\n",
       "<text text-anchor=\"middle\" x=\"1406.5\" y=\"-7.8\" font-family=\"Times New Roman,serif\" font-size=\"14.00\">class = not.paid</text>\r\n",
       "</g>\r\n",
       "<!-- 21&#45;&gt;23 -->\r\n",
       "<g id=\"edge23\" class=\"edge\"><title>21&#45;&gt;23</title>\r\n",
       "<path fill=\"none\" stroke=\"black\" d=\"M1344.08,-88.9485C1353.46,-79.709 1363.66,-69.671 1373.04,-60.4381\"/>\r\n",
       "<polygon fill=\"black\" stroke=\"black\" points=\"1375.68,-62.7462 1380.35,-53.2367 1370.77,-57.7576 1375.68,-62.7462\"/>\r\n",
       "</g>\r\n",
       "<!-- 25 -->\r\n",
       "<g id=\"node26\" class=\"node\"><title>25</title>\r\n",
       "<polygon fill=\"#e58139\" fill-opacity=\"0.831373\" stroke=\"black\" points=\"1672,-157 1537,-157 1537,-89 1672,-89 1672,-157\"/>\r\n",
       "<text text-anchor=\"middle\" x=\"1604.5\" y=\"-141.8\" font-family=\"Times New Roman,serif\" font-size=\"14.00\">inq.last.6mths &lt;= 2.5</text>\r\n",
       "<text text-anchor=\"middle\" x=\"1604.5\" y=\"-126.8\" font-family=\"Times New Roman,serif\" font-size=\"14.00\">samples = 5639</text>\r\n",
       "<text text-anchor=\"middle\" x=\"1604.5\" y=\"-111.8\" font-family=\"Times New Roman,serif\" font-size=\"14.00\">value = [4833, 806]</text>\r\n",
       "<text text-anchor=\"middle\" x=\"1604.5\" y=\"-96.8\" font-family=\"Times New Roman,serif\" font-size=\"14.00\">class = not.paid</text>\r\n",
       "</g>\r\n",
       "<!-- 24&#45;&gt;25 -->\r\n",
       "<g id=\"edge25\" class=\"edge\"><title>24&#45;&gt;25</title>\r\n",
       "<path fill=\"none\" stroke=\"black\" d=\"M1604.5,-192.884C1604.5,-184.778 1604.5,-175.982 1604.5,-167.472\"/>\r\n",
       "<polygon fill=\"black\" stroke=\"black\" points=\"1608,-167.299 1604.5,-157.299 1601,-167.299 1608,-167.299\"/>\r\n",
       "</g>\r\n",
       "<!-- 28 -->\r\n",
       "<g id=\"node29\" class=\"node\"><title>28</title>\r\n",
       "<polygon fill=\"#e58139\" fill-opacity=\"0.654902\" stroke=\"black\" points=\"1873,-157 1754,-157 1754,-89 1873,-89 1873,-157\"/>\r\n",
       "<text text-anchor=\"middle\" x=\"1813.5\" y=\"-141.8\" font-family=\"Times New Roman,serif\" font-size=\"14.00\">revol.util &lt;= 42.25</text>\r\n",
       "<text text-anchor=\"middle\" x=\"1813.5\" y=\"-126.8\" font-family=\"Times New Roman,serif\" font-size=\"14.00\">samples = 452</text>\r\n",
       "<text text-anchor=\"middle\" x=\"1813.5\" y=\"-111.8\" font-family=\"Times New Roman,serif\" font-size=\"14.00\">value = [336, 116]</text>\r\n",
       "<text text-anchor=\"middle\" x=\"1813.5\" y=\"-96.8\" font-family=\"Times New Roman,serif\" font-size=\"14.00\">class = not.paid</text>\r\n",
       "</g>\r\n",
       "<!-- 24&#45;&gt;28 -->\r\n",
       "<g id=\"edge28\" class=\"edge\"><title>24&#45;&gt;28</title>\r\n",
       "<path fill=\"none\" stroke=\"black\" d=\"M1672.36,-192.884C1695.51,-181.586 1721.4,-168.947 1744.63,-157.611\"/>\r\n",
       "<polygon fill=\"black\" stroke=\"black\" points=\"1746.28,-160.703 1753.73,-153.171 1743.21,-154.412 1746.28,-160.703\"/>\r\n",
       "</g>\r\n",
       "<!-- 26 -->\r\n",
       "<g id=\"node27\" class=\"node\"><title>26</title>\r\n",
       "<polygon fill=\"#e58139\" fill-opacity=\"0.847059\" stroke=\"black\" points=\"1603,-53 1478,-53 1478,-0 1603,-0 1603,-53\"/>\r\n",
       "<text text-anchor=\"middle\" x=\"1540.5\" y=\"-37.8\" font-family=\"Times New Roman,serif\" font-size=\"14.00\">samples = 4984</text>\r\n",
       "<text text-anchor=\"middle\" x=\"1540.5\" y=\"-22.8\" font-family=\"Times New Roman,serif\" font-size=\"14.00\">value = [4317, 667]</text>\r\n",
       "<text text-anchor=\"middle\" x=\"1540.5\" y=\"-7.8\" font-family=\"Times New Roman,serif\" font-size=\"14.00\">class = not.paid</text>\r\n",
       "</g>\r\n",
       "<!-- 25&#45;&gt;26 -->\r\n",
       "<g id=\"edge26\" class=\"edge\"><title>25&#45;&gt;26</title>\r\n",
       "<path fill=\"none\" stroke=\"black\" d=\"M1582.12,-88.9485C1576.11,-80.0749 1569.6,-70.4648 1563.55,-61.5388\"/>\r\n",
       "<polygon fill=\"black\" stroke=\"black\" points=\"1566.44,-59.5539 1557.93,-53.2367 1560.64,-63.4792 1566.44,-59.5539\"/>\r\n",
       "</g>\r\n",
       "<!-- 27 -->\r\n",
       "<g id=\"node28\" class=\"node\"><title>27</title>\r\n",
       "<polygon fill=\"#e58139\" fill-opacity=\"0.729412\" stroke=\"black\" points=\"1739.5,-53 1621.5,-53 1621.5,-0 1739.5,-0 1739.5,-53\"/>\r\n",
       "<text text-anchor=\"middle\" x=\"1680.5\" y=\"-37.8\" font-family=\"Times New Roman,serif\" font-size=\"14.00\">samples = 655</text>\r\n",
       "<text text-anchor=\"middle\" x=\"1680.5\" y=\"-22.8\" font-family=\"Times New Roman,serif\" font-size=\"14.00\">value = [516, 139]</text>\r\n",
       "<text text-anchor=\"middle\" x=\"1680.5\" y=\"-7.8\" font-family=\"Times New Roman,serif\" font-size=\"14.00\">class = not.paid</text>\r\n",
       "</g>\r\n",
       "<!-- 25&#45;&gt;27 -->\r\n",
       "<g id=\"edge27\" class=\"edge\"><title>25&#45;&gt;27</title>\r\n",
       "<path fill=\"none\" stroke=\"black\" d=\"M1631.08,-88.9485C1638.29,-79.9834 1646.11,-70.2666 1653.35,-61.2629\"/>\r\n",
       "<polygon fill=\"black\" stroke=\"black\" points=\"1656.26,-63.2228 1659.8,-53.2367 1650.81,-58.8358 1656.26,-63.2228\"/>\r\n",
       "</g>\r\n",
       "<!-- 29 -->\r\n",
       "<g id=\"node30\" class=\"node\"><title>29</title>\r\n",
       "<polygon fill=\"#e58139\" fill-opacity=\"0.760784\" stroke=\"black\" points=\"1869,-53 1758,-53 1758,-0 1869,-0 1869,-53\"/>\r\n",
       "<text text-anchor=\"middle\" x=\"1813.5\" y=\"-37.8\" font-family=\"Times New Roman,serif\" font-size=\"14.00\">samples = 248</text>\r\n",
       "<text text-anchor=\"middle\" x=\"1813.5\" y=\"-22.8\" font-family=\"Times New Roman,serif\" font-size=\"14.00\">value = [200, 48]</text>\r\n",
       "<text text-anchor=\"middle\" x=\"1813.5\" y=\"-7.8\" font-family=\"Times New Roman,serif\" font-size=\"14.00\">class = not.paid</text>\r\n",
       "</g>\r\n",
       "<!-- 28&#45;&gt;29 -->\r\n",
       "<g id=\"edge29\" class=\"edge\"><title>28&#45;&gt;29</title>\r\n",
       "<path fill=\"none\" stroke=\"black\" d=\"M1813.5,-88.9485C1813.5,-80.7153 1813.5,-71.848 1813.5,-63.4814\"/>\r\n",
       "<polygon fill=\"black\" stroke=\"black\" points=\"1817,-63.2367 1813.5,-53.2367 1810,-63.2367 1817,-63.2367\"/>\r\n",
       "</g>\r\n",
       "<!-- 30 -->\r\n",
       "<g id=\"node31\" class=\"node\"><title>30</title>\r\n",
       "<polygon fill=\"#e58139\" fill-opacity=\"0.498039\" stroke=\"black\" points=\"1998,-53 1887,-53 1887,-0 1998,-0 1998,-53\"/>\r\n",
       "<text text-anchor=\"middle\" x=\"1942.5\" y=\"-37.8\" font-family=\"Times New Roman,serif\" font-size=\"14.00\">samples = 204</text>\r\n",
       "<text text-anchor=\"middle\" x=\"1942.5\" y=\"-22.8\" font-family=\"Times New Roman,serif\" font-size=\"14.00\">value = [136, 68]</text>\r\n",
       "<text text-anchor=\"middle\" x=\"1942.5\" y=\"-7.8\" font-family=\"Times New Roman,serif\" font-size=\"14.00\">class = not.paid</text>\r\n",
       "</g>\r\n",
       "<!-- 28&#45;&gt;30 -->\r\n",
       "<g id=\"edge30\" class=\"edge\"><title>28&#45;&gt;30</title>\r\n",
       "<path fill=\"none\" stroke=\"black\" d=\"M1858.62,-88.9485C1871.73,-79.3431 1886.02,-68.8747 1899.03,-59.345\"/>\r\n",
       "<polygon fill=\"black\" stroke=\"black\" points=\"1901.37,-61.9698 1907.37,-53.2367 1897.23,-56.3228 1901.37,-61.9698\"/>\r\n",
       "</g>\r\n",
       "</g>\r\n",
       "</svg>\r\n"
      ],
      "text/plain": [
       "<graphviz.files.Source at 0x2a34d1188d0>"
      ]
     },
     "metadata": {},
     "output_type": "display_data"
    },
    {
     "data": {
      "text/plain": [
       "None"
      ]
     },
     "metadata": {},
     "output_type": "display_data"
    }
   ],
   "source": [
    "export_graphviz(model, out_file='loans.dot', class_names=['not.paid','paid'],\n",
    "               feature_names=X.columns, impurity=False, filled=True)\n",
    "with open('loans.dot') as f:\n",
    "    dot_graph = f.read()\n",
    "display(display(graphviz.Source(dot_graph)))"
   ]
  },
  {
   "cell_type": "markdown",
   "metadata": {},
   "source": [
    "## ======================================"
   ]
  },
  {
   "cell_type": "markdown",
   "metadata": {},
   "source": [
    "## ======================================"
   ]
  },
  {
   "cell_type": "markdown",
   "metadata": {},
   "source": [
    "## 3. credit card fraud detection > clustering\n",
    " - input : 검색"
   ]
  },
  {
   "cell_type": "code",
   "execution_count": 192,
   "metadata": {},
   "outputs": [
    {
     "data": {
      "text/plain": [
       "(284807, 31)"
      ]
     },
     "execution_count": 192,
     "metadata": {},
     "output_type": "execute_result"
    }
   ],
   "source": [
    "df = pd.read_csv('creditcard.csv')\n",
    "df.shape"
   ]
  },
  {
   "cell_type": "code",
   "execution_count": 193,
   "metadata": {},
   "outputs": [
    {
     "data": {
      "text/html": [
       "<div>\n",
       "<style scoped>\n",
       "    .dataframe tbody tr th:only-of-type {\n",
       "        vertical-align: middle;\n",
       "    }\n",
       "\n",
       "    .dataframe tbody tr th {\n",
       "        vertical-align: top;\n",
       "    }\n",
       "\n",
       "    .dataframe thead th {\n",
       "        text-align: right;\n",
       "    }\n",
       "</style>\n",
       "<table border=\"1\" class=\"dataframe\">\n",
       "  <thead>\n",
       "    <tr style=\"text-align: right;\">\n",
       "      <th></th>\n",
       "      <th>Time</th>\n",
       "      <th>V1</th>\n",
       "      <th>V2</th>\n",
       "      <th>V3</th>\n",
       "      <th>V4</th>\n",
       "      <th>V5</th>\n",
       "      <th>V6</th>\n",
       "      <th>V7</th>\n",
       "      <th>V8</th>\n",
       "      <th>V9</th>\n",
       "      <th>...</th>\n",
       "      <th>V21</th>\n",
       "      <th>V22</th>\n",
       "      <th>V23</th>\n",
       "      <th>V24</th>\n",
       "      <th>V25</th>\n",
       "      <th>V26</th>\n",
       "      <th>V27</th>\n",
       "      <th>V28</th>\n",
       "      <th>Amount</th>\n",
       "      <th>Class</th>\n",
       "    </tr>\n",
       "  </thead>\n",
       "  <tbody>\n",
       "    <tr>\n",
       "      <th>0</th>\n",
       "      <td>0.0</td>\n",
       "      <td>-1.359807</td>\n",
       "      <td>-0.072781</td>\n",
       "      <td>2.536347</td>\n",
       "      <td>1.378155</td>\n",
       "      <td>-0.338321</td>\n",
       "      <td>0.462388</td>\n",
       "      <td>0.239599</td>\n",
       "      <td>0.098698</td>\n",
       "      <td>0.363787</td>\n",
       "      <td>...</td>\n",
       "      <td>-0.018307</td>\n",
       "      <td>0.277838</td>\n",
       "      <td>-0.110474</td>\n",
       "      <td>0.066928</td>\n",
       "      <td>0.128539</td>\n",
       "      <td>-0.189115</td>\n",
       "      <td>0.133558</td>\n",
       "      <td>-0.021053</td>\n",
       "      <td>149.62</td>\n",
       "      <td>0</td>\n",
       "    </tr>\n",
       "    <tr>\n",
       "      <th>1</th>\n",
       "      <td>0.0</td>\n",
       "      <td>1.191857</td>\n",
       "      <td>0.266151</td>\n",
       "      <td>0.166480</td>\n",
       "      <td>0.448154</td>\n",
       "      <td>0.060018</td>\n",
       "      <td>-0.082361</td>\n",
       "      <td>-0.078803</td>\n",
       "      <td>0.085102</td>\n",
       "      <td>-0.255425</td>\n",
       "      <td>...</td>\n",
       "      <td>-0.225775</td>\n",
       "      <td>-0.638672</td>\n",
       "      <td>0.101288</td>\n",
       "      <td>-0.339846</td>\n",
       "      <td>0.167170</td>\n",
       "      <td>0.125895</td>\n",
       "      <td>-0.008983</td>\n",
       "      <td>0.014724</td>\n",
       "      <td>2.69</td>\n",
       "      <td>0</td>\n",
       "    </tr>\n",
       "  </tbody>\n",
       "</table>\n",
       "<p>2 rows × 31 columns</p>\n",
       "</div>"
      ],
      "text/plain": [
       "   Time        V1        V2        V3        V4        V5        V6        V7  \\\n",
       "0   0.0 -1.359807 -0.072781  2.536347  1.378155 -0.338321  0.462388  0.239599   \n",
       "1   0.0  1.191857  0.266151  0.166480  0.448154  0.060018 -0.082361 -0.078803   \n",
       "\n",
       "         V8        V9  ...       V21       V22       V23       V24       V25  \\\n",
       "0  0.098698  0.363787  ... -0.018307  0.277838 -0.110474  0.066928  0.128539   \n",
       "1  0.085102 -0.255425  ... -0.225775 -0.638672  0.101288 -0.339846  0.167170   \n",
       "\n",
       "        V26       V27       V28  Amount  Class  \n",
       "0 -0.189115  0.133558 -0.021053  149.62      0  \n",
       "1  0.125895 -0.008983  0.014724    2.69      0  \n",
       "\n",
       "[2 rows x 31 columns]"
      ]
     },
     "execution_count": 193,
     "metadata": {},
     "output_type": "execute_result"
    }
   ],
   "source": [
    "df.head(2)"
   ]
  },
  {
   "cell_type": "code",
   "execution_count": 195,
   "metadata": {
    "scrolled": true
   },
   "outputs": [
    {
     "data": {
      "text/plain": [
       "Time      float64\n",
       "V1        float64\n",
       "V2        float64\n",
       "V3        float64\n",
       "V4        float64\n",
       "V5        float64\n",
       "V6        float64\n",
       "V7        float64\n",
       "V8        float64\n",
       "V9        float64\n",
       "V10       float64\n",
       "V11       float64\n",
       "V12       float64\n",
       "V13       float64\n",
       "V14       float64\n",
       "V15       float64\n",
       "V16       float64\n",
       "V17       float64\n",
       "V18       float64\n",
       "V19       float64\n",
       "V20       float64\n",
       "V21       float64\n",
       "V22       float64\n",
       "V23       float64\n",
       "V24       float64\n",
       "V25       float64\n",
       "V26       float64\n",
       "V27       float64\n",
       "V28       float64\n",
       "Amount    float64\n",
       "Class       int64\n",
       "dtype: object"
      ]
     },
     "execution_count": 195,
     "metadata": {},
     "output_type": "execute_result"
    }
   ],
   "source": [
    "df.dtypes"
   ]
  },
  {
   "cell_type": "code",
   "execution_count": 199,
   "metadata": {},
   "outputs": [
    {
     "data": {
      "text/plain": [
       "0.001727485630620034"
      ]
     },
     "execution_count": 199,
     "metadata": {},
     "output_type": "execute_result"
    }
   ],
   "source": [
    "(df['Class']==1).mean()"
   ]
  },
  {
   "cell_type": "code",
   "execution_count": 202,
   "metadata": {
    "scrolled": true
   },
   "outputs": [
    {
     "data": {
      "text/plain": [
       "0"
      ]
     },
     "execution_count": 202,
     "metadata": {},
     "output_type": "execute_result"
    }
   ],
   "source": [
    "df.isna().sum().sum()"
   ]
  },
  {
   "cell_type": "code",
   "execution_count": 203,
   "metadata": {},
   "outputs": [],
   "source": [
    "from sklearn.cluster import KMeans, AgglomerativeClustering, DBSCAN\n",
    "import matplotlib.pyplot as plt\n",
    "from sklearn.decomposition import PCA\n",
    "from sklearn.cluster import KMeans\n",
    "import mglearn"
   ]
  },
  {
   "cell_type": "code",
   "execution_count": 204,
   "metadata": {},
   "outputs": [
    {
     "data": {
      "text/plain": [
       "Index(['Time', 'V1', 'V2', 'V3', 'V4', 'V5', 'V6', 'V7', 'V8', 'V9', 'V10',\n",
       "       'V11', 'V12', 'V13', 'V14', 'V15', 'V16', 'V17', 'V18', 'V19', 'V20',\n",
       "       'V21', 'V22', 'V23', 'V24', 'V25', 'V26', 'V27', 'V28', 'Amount',\n",
       "       'Class'],\n",
       "      dtype='object')"
      ]
     },
     "execution_count": 204,
     "metadata": {},
     "output_type": "execute_result"
    }
   ],
   "source": [
    "df.columns"
   ]
  },
  {
   "cell_type": "code",
   "execution_count": 205,
   "metadata": {
    "scrolled": true
   },
   "outputs": [
    {
     "data": {
      "text/html": [
       "<div>\n",
       "<style scoped>\n",
       "    .dataframe tbody tr th:only-of-type {\n",
       "        vertical-align: middle;\n",
       "    }\n",
       "\n",
       "    .dataframe tbody tr th {\n",
       "        vertical-align: top;\n",
       "    }\n",
       "\n",
       "    .dataframe thead th {\n",
       "        text-align: right;\n",
       "    }\n",
       "</style>\n",
       "<table border=\"1\" class=\"dataframe\">\n",
       "  <thead>\n",
       "    <tr style=\"text-align: right;\">\n",
       "      <th></th>\n",
       "      <th>Time</th>\n",
       "      <th>V1</th>\n",
       "      <th>V2</th>\n",
       "      <th>V3</th>\n",
       "      <th>V4</th>\n",
       "      <th>V5</th>\n",
       "      <th>V6</th>\n",
       "      <th>V7</th>\n",
       "      <th>V8</th>\n",
       "      <th>V9</th>\n",
       "      <th>...</th>\n",
       "      <th>V21</th>\n",
       "      <th>V22</th>\n",
       "      <th>V23</th>\n",
       "      <th>V24</th>\n",
       "      <th>V25</th>\n",
       "      <th>V26</th>\n",
       "      <th>V27</th>\n",
       "      <th>V28</th>\n",
       "      <th>Amount</th>\n",
       "      <th>Class</th>\n",
       "    </tr>\n",
       "  </thead>\n",
       "  <tbody>\n",
       "    <tr>\n",
       "      <th>0</th>\n",
       "      <td>0.0</td>\n",
       "      <td>-1.359807</td>\n",
       "      <td>-0.072781</td>\n",
       "      <td>2.536347</td>\n",
       "      <td>1.378155</td>\n",
       "      <td>-0.338321</td>\n",
       "      <td>0.462388</td>\n",
       "      <td>0.239599</td>\n",
       "      <td>0.098698</td>\n",
       "      <td>0.363787</td>\n",
       "      <td>...</td>\n",
       "      <td>-0.018307</td>\n",
       "      <td>0.277838</td>\n",
       "      <td>-0.110474</td>\n",
       "      <td>0.066928</td>\n",
       "      <td>0.128539</td>\n",
       "      <td>-0.189115</td>\n",
       "      <td>0.133558</td>\n",
       "      <td>-0.021053</td>\n",
       "      <td>149.62</td>\n",
       "      <td>0</td>\n",
       "    </tr>\n",
       "    <tr>\n",
       "      <th>1</th>\n",
       "      <td>0.0</td>\n",
       "      <td>1.191857</td>\n",
       "      <td>0.266151</td>\n",
       "      <td>0.166480</td>\n",
       "      <td>0.448154</td>\n",
       "      <td>0.060018</td>\n",
       "      <td>-0.082361</td>\n",
       "      <td>-0.078803</td>\n",
       "      <td>0.085102</td>\n",
       "      <td>-0.255425</td>\n",
       "      <td>...</td>\n",
       "      <td>-0.225775</td>\n",
       "      <td>-0.638672</td>\n",
       "      <td>0.101288</td>\n",
       "      <td>-0.339846</td>\n",
       "      <td>0.167170</td>\n",
       "      <td>0.125895</td>\n",
       "      <td>-0.008983</td>\n",
       "      <td>0.014724</td>\n",
       "      <td>2.69</td>\n",
       "      <td>0</td>\n",
       "    </tr>\n",
       "  </tbody>\n",
       "</table>\n",
       "<p>2 rows × 31 columns</p>\n",
       "</div>"
      ],
      "text/plain": [
       "   Time        V1        V2        V3        V4        V5        V6        V7  \\\n",
       "0   0.0 -1.359807 -0.072781  2.536347  1.378155 -0.338321  0.462388  0.239599   \n",
       "1   0.0  1.191857  0.266151  0.166480  0.448154  0.060018 -0.082361 -0.078803   \n",
       "\n",
       "         V8        V9  ...       V21       V22       V23       V24       V25  \\\n",
       "0  0.098698  0.363787  ... -0.018307  0.277838 -0.110474  0.066928  0.128539   \n",
       "1  0.085102 -0.255425  ... -0.225775 -0.638672  0.101288 -0.339846  0.167170   \n",
       "\n",
       "        V26       V27       V28  Amount  Class  \n",
       "0 -0.189115  0.133558 -0.021053  149.62      0  \n",
       "1  0.125895 -0.008983  0.014724    2.69      0  \n",
       "\n",
       "[2 rows x 31 columns]"
      ]
     },
     "execution_count": 205,
     "metadata": {},
     "output_type": "execute_result"
    }
   ],
   "source": [
    "df1 = pd.get_dummies(df)\n",
    "df1.head(2)"
   ]
  },
  {
   "cell_type": "code",
   "execution_count": 215,
   "metadata": {},
   "outputs": [
    {
     "data": {
      "text/plain": [
       "(284807, 2)"
      ]
     },
     "execution_count": 215,
     "metadata": {},
     "output_type": "execute_result"
    }
   ],
   "source": [
    "pca = PCA(n_components=2).fit(df1)\n",
    "df1_pca = pca.transform(df1)\n",
    "df1_pca.shape"
   ]
  },
  {
   "cell_type": "code",
   "execution_count": 216,
   "metadata": {},
   "outputs": [
    {
     "data": {
      "image/png": "[encoded data removed]",
      "text/plain": [
       "<Figure size 432x288 with 1 Axes>"
      ]
     },
     "metadata": {
      "needs_background": "light"
     },
     "output_type": "display_data"
    }
   ],
   "source": [
    "km = KMeans(n_clusters=2).fit_predict(df1_pca)\n",
    "l = mglearn.discrete_scatter(df1_pca[:,0], df1_pca[:,1], km)"
   ]
  },
  {
   "cell_type": "code",
   "execution_count": 217,
   "metadata": {},
   "outputs": [
    {
     "data": {
      "image/png": "[encoded data removed]",
      "text/plain": [
       "<Figure size 432x288 with 1 Axes>"
      ]
     },
     "metadata": {
      "needs_background": "light"
     },
     "output_type": "display_data"
    }
   ],
   "source": [
    "db = DBSCAN(eps=2.0).fit_predict(x_pca)  # k 개를 정해주지 않습니다.\n",
    "l = mglearn.discrete_scatter(x_pca[:,0],x_pca[:,1],db)"
   ]
  },
  {
   "cell_type": "code",
   "execution_count": 218,
   "metadata": {},
   "outputs": [
    {
     "data": {
      "image/png": "[encoded data removed]",
      "text/plain": [
       "<Figure size 432x288 with 1 Axes>"
      ]
     },
     "metadata": {
      "needs_background": "light"
     },
     "output_type": "display_data"
    }
   ],
   "source": [
    "km = KMeans(n_clusters=2).fit(x_pca)\n",
    "group = km.predict(x_pca)\n",
    "l = mglearn.discrete_scatter(x_pca[:,0], x_pca[:,1], group)"
   ]
  }
 ],
 "metadata": {
  "kernelspec": {
   "display_name": "Python 3",
   "language": "python",
   "name": "python3"
  },
  "language_info": {
   "codemirror_mode": {
    "name": "ipython",
    "version": 3
   },
   "file_extension": ".py",
   "mimetype": "text/x-python",
   "name": "python",
   "nbconvert_exporter": "python",
   "pygments_lexer": "ipython3",
   "version": "3.7.3"
  }
 },
 "nbformat": 4,
 "nbformat_minor": 2
}
