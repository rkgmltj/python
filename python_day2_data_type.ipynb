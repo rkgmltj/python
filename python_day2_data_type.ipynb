{
 "cells": [
  {
   "cell_type": "markdown",
   "metadata": {},
   "source": [
    "마크다운 셀M, 코드 셀Y"
   ]
  },
  {
   "cell_type": "code",
   "execution_count": 4,
   "metadata": {},
   "outputs": [
    {
     "data": {
      "text/plain": [
       "(1, 2, 3, 'a', 'bb', 'a')"
      ]
     },
     "execution_count": 4,
     "metadata": {},
     "output_type": "execute_result"
    }
   ],
   "source": [
    "# 튜플 (요소, 요소 ...), 특징: 수정불가능\n",
    "# 용도: 함수의 리턴이 복수개일때 튜플로 반환됩니다.\n",
    "t = (1,2,3, 'a', 'bb', 'a')\n",
    "t"
   ]
  },
  {
   "cell_type": "code",
   "execution_count": 2,
   "metadata": {},
   "outputs": [
    {
     "data": {
      "text/plain": [
       "2"
      ]
     },
     "execution_count": 2,
     "metadata": {},
     "output_type": "execute_result"
    }
   ],
   "source": [
    "t.count('a') # 'a'가 몇 개 있는가"
   ]
  },
  {
   "cell_type": "code",
   "execution_count": 3,
   "metadata": {},
   "outputs": [
    {
     "data": {
      "text/plain": [
       "3"
      ]
     },
     "execution_count": 3,
     "metadata": {},
     "output_type": "execute_result"
    }
   ],
   "source": [
    "t.index('a') # 'a'가 어디에 있는가"
   ]
  },
  {
   "cell_type": "code",
   "execution_count": 6,
   "metadata": {},
   "outputs": [
    {
     "data": {
      "text/plain": [
       "{1, 2, 3, 'a', 'bb'}"
      ]
     },
     "execution_count": 6,
     "metadata": {},
     "output_type": "execute_result"
    }
   ],
   "source": [
    "# t를 Set으로 변환해라 () -> {} 로 변경됨\n",
    "s= set(t)\n",
    "s"
   ]
  },
  {
   "cell_type": "code",
   "execution_count": 7,
   "metadata": {},
   "outputs": [
    {
     "data": {
      "text/plain": [
       "[1, 2, 3, 'a', 'bb']"
      ]
     },
     "execution_count": 7,
     "metadata": {},
     "output_type": "execute_result"
    }
   ],
   "source": [
    "# list로 변환해라 {} -> [] 로 변경됨\n",
    "l=list(s)\n",
    "l"
   ]
  },
  {
   "cell_type": "code",
   "execution_count": 8,
   "metadata": {},
   "outputs": [
    {
     "data": {
      "text/plain": [
       "([1, 2, 3, 'a', 'bb', 'a'], {1, 2, 3, 'a', 'bb'}, (1, 2, 3, 'a', 'bb', 'a'))"
      ]
     },
     "execution_count": 8,
     "metadata": {},
     "output_type": "execute_result"
    }
   ],
   "source": [
    "list(t), set(t), tuple(t)"
   ]
  },
  {
   "cell_type": "code",
   "execution_count": 31,
   "metadata": {},
   "outputs": [],
   "source": [
    "# 함수 만들기, 함수명: 소문자_소문자 ...\n",
    "def add_3(a,b=2,c=1): # 기본값 인자 뒷쪽에 놓을 수 있다.\n",
    "    '''\n",
    "    문서화: 이 함수는 입력받은 값 3개를 더해서 리턴합니다.\n",
    "    작성자: Suh, 2019.06.12.\n",
    "    '''\n",
    "    return a+b+c"
   ]
  },
  {
   "cell_type": "code",
   "execution_count": 33,
   "metadata": {},
   "outputs": [
    {
     "data": {
      "text/plain": [
       "(15, 6, 4)"
      ]
     },
     "execution_count": 33,
     "metadata": {},
     "output_type": "execute_result"
    }
   ],
   "source": [
    "add_3(4,5,6), add_3(1,2,3), add_3(1)"
   ]
  },
  {
   "cell_type": "code",
   "execution_count": 16,
   "metadata": {},
   "outputs": [],
   "source": [
    "# return이 없는 함수\n",
    "import math\n",
    "def check_nan(x):\n",
    "    if math.isnan(x): # nan: not a number, 0 으로 나누거나 할 때 발생.\n",
    "        print(x, '는 nan 입니다.')\n",
    "    else:\n",
    "        print(x, '는 숫자 입니다.')"
   ]
  },
  {
   "cell_type": "code",
   "execution_count": 21,
   "metadata": {},
   "outputs": [
    {
     "name": "stdout",
     "output_type": "stream",
     "text": [
      "100 는 숫자 입니다.\n"
     ]
    }
   ],
   "source": [
    "check_nan(100)"
   ]
  },
  {
   "cell_type": "code",
   "execution_count": 24,
   "metadata": {},
   "outputs": [
    {
     "name": "stdout",
     "output_type": "stream",
     "text": [
      "100 는 숫자 입니다.\n",
      "None\n"
     ]
    }
   ],
   "source": [
    "out = check_nan(100)\n",
    "print(out) # 리턴이 없는 함수에게 리턴을 강제로 받으면 None 이 리턴됩니다."
   ]
  },
  {
   "cell_type": "code",
   "execution_count": 44,
   "metadata": {},
   "outputs": [
    {
     "data": {
      "text/plain": [
       "(True, True)"
      ]
     },
     "execution_count": 44,
     "metadata": {},
     "output_type": "execute_result"
    }
   ],
   "source": [
    "# 중복 체크할 때 사용하세요\n",
    "a = [1,2,3,4,5]\n",
    "3 in a, 5 in a"
   ]
  },
  {
   "cell_type": "code",
   "execution_count": 197,
   "metadata": {},
   "outputs": [],
   "source": [
    "import random\n",
    "class Lotto:\n",
    "    '''\n",
    "    45개 전후의 숫자 중 6개를 맞추는 게임: 1등 1~45의 숫자\n",
    "    '''\n",
    "    def __init__(self): # 함수의 첫번째 인자로 self를 넣어줍니다. JAVA의 this에 해당\n",
    "        print(\"로또 정답 생성자\")\n",
    "        self.target = [ ] # 랜덤번호 list, self를 붙이면 클래스 변수가 됩니다.\n",
    "        for i in range(5):\n",
    "            v = random.randint(1,45) # 중복 번호가 나오면 다시 뽑기를 선택해 주세요.\n",
    "            while(v in self.target) : # 뽑은 번호가 기존에 있는 번호면 다시 뽑자\n",
    "                v = random.randint(1,45)\n",
    "            self.target.append(v)\n",
    "        print(self.target)\n",
    "        \n",
    "    def select(self, nums):\n",
    "        print('정답',self.target, '예측',nums)\n",
    "        k=0\n",
    "        s=[]\n",
    "        for i in range(5):\n",
    "            if nums[i] in self.target: #내가 뽑은 번호가 정답이면\n",
    "                s.append(nums[i])\n",
    "                k += 1 # 다음번호 확인\n",
    "        if k == 5:\n",
    "            print('1등 당첨되셨습니다.')\n",
    "        if k > 0:\n",
    "            print('축하합니다.','숫자', s,  k, '개 맞췄습니다.')\n",
    "        else:\n",
    "            print(\"꽝입니다. 하나도 못 맞췄습니다.\")"
   ]
  },
  {
   "cell_type": "code",
   "execution_count": 229,
   "metadata": {},
   "outputs": [
    {
     "name": "stdout",
     "output_type": "stream",
     "text": [
      "로또 정답 생성자\n",
      "[12, 26, 13, 40, 17]\n",
      "정답 [12, 26, 13, 40, 17] 예측 [5, 32, 2, 18, 13]\n",
      "축하합니다. 숫자 [13] 1 개 맞췄습니다.\n"
     ]
    }
   ],
   "source": [
    "# 객체(인스턴스) 생성 클래스 이름()\n",
    "lotto1 = Lotto()\n",
    "lotto1.select([5,32,2,18,13])\n",
    "#lotto2 = Lotto()\n",
    "#lotto1, lotto2"
   ]
  },
  {
   "cell_type": "code",
   "execution_count": 228,
   "metadata": {},
   "outputs": [
    {
     "data": {
      "text/plain": [
       "(5, [1, 3, 5, 6, 8])"
      ]
     },
     "execution_count": 228,
     "metadata": {},
     "output_type": "execute_result"
    }
   ],
   "source": [
    "my_nums = [[1,3,5,6,8],[10,20,30,40,33],[1,2,3,4,5],[6,7,8,9,11],[3,7,12,23,44]]\n",
    "len(my_nums), my_nums[0] #len만큼 반복해서 lotto1.select 함수를 호출하면 되겠습니다."
   ]
  },
  {
   "cell_type": "code",
   "execution_count": 231,
   "metadata": {},
   "outputs": [
    {
     "name": "stdout",
     "output_type": "stream",
     "text": [
      "정답 [12, 26, 13, 40, 17] 예측 [1, 3, 5, 6, 8]\n",
      "꽝입니다. 하나도 못 맞췄습니다.\n",
      "정답 [12, 26, 13, 40, 17] 예측 [10, 20, 30, 40, 33]\n",
      "축하합니다. 숫자 [40] 1 개 맞췄습니다.\n",
      "정답 [12, 26, 13, 40, 17] 예측 [1, 2, 3, 4, 5]\n",
      "꽝입니다. 하나도 못 맞췄습니다.\n",
      "정답 [12, 26, 13, 40, 17] 예측 [6, 7, 8, 9, 11]\n",
      "꽝입니다. 하나도 못 맞췄습니다.\n",
      "정답 [12, 26, 13, 40, 17] 예측 [3, 7, 12, 23, 44]\n",
      "축하합니다. 숫자 [12] 1 개 맞췄습니다.\n"
     ]
    }
   ],
   "source": [
    "for i in range(len(my_nums)):\n",
    "    lotto1.select(my_nums[i])"
   ]
  },
  {
   "cell_type": "code",
   "execution_count": null,
   "metadata": {},
   "outputs": [],
   "source": []
  }
 ],
 "metadata": {
  "kernelspec": {
   "display_name": "Python 3",
   "language": "python",
   "name": "python3"
  },
  "language_info": {
   "codemirror_mode": {
    "name": "ipython",
    "version": 3
   },
   "file_extension": ".py",
   "mimetype": "text/x-python",
   "name": "python",
   "nbconvert_exporter": "python",
   "pygments_lexer": "ipython3",
   "version": "3.7.3"
  }
 },
 "nbformat": 4,
 "nbformat_minor": 2
}
